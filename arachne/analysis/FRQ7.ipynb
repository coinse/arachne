{
 "cells": [
  {
   "cell_type": "markdown",
   "id": "0f72679a",
   "metadata": {},
   "source": [
    "**Here, the patch aggressiveness is set to 1 instead of 10. There are only three types of labels, and also the ratio of the most frequent fault is ~41 %, so, setting PA to 10 may emphasise the misclassification too much. So, after experimenting with different PA values, we decide to set up to 1 ***"
   ]
  },
  {
   "cell_type": "code",
   "execution_count": 1,
   "id": "2b211e88",
   "metadata": {},
   "outputs": [],
   "source": [
    "import os\n",
    "import pandas as pd\n",
    "import numpy as np\n",
    "import matplotlib.pyplot as plt\n",
    "import pickle\n",
    "import glob\n",
    "from tqdm import tqdm"
   ]
  },
  {
   "cell_type": "code",
   "execution_count": 2,
   "id": "ce8dca5f",
   "metadata": {},
   "outputs": [],
   "source": [
    "import sys\n",
    "sys.path.insert(0, \"../\")\n",
    "import utils.data_util as data_util"
   ]
  },
  {
   "cell_type": "code",
   "execution_count": 3,
   "id": "d150876a",
   "metadata": {},
   "outputs": [],
   "source": [
    "# change \"results\" to \"results/rev\"\n",
    "resultdir = \"/Users/jeongju.sohn/workdir/arachne/arachne/results/rq5/lstm/us_airline/all/pred\"\n",
    "datadir = \"/Users/jeongju.sohn/workdir/arachne/arachne/data/lstm/us_airline\"\n",
    "locdir = \"/Users/jeongju.sohn/workdir/arachne/arachne/results/rq5/loc/lstm/us_airline/all\""
   ]
  },
  {
   "cell_type": "code",
   "execution_count": 4,
   "id": "695a78d2",
   "metadata": {},
   "outputs": [],
   "source": [
    "#ll_resultdir = \"/Users/jeongju.sohn/workdir/arachne/arachne/results/rq5/lstm/us_airline/only_the_last/pred\"\n",
    "#ll_locdir = \"/Users/jeongju.sohn/workdir/arachne/arachne/results/rq5/loc/lstm/us_airline/only_last\""
   ]
  },
  {
   "cell_type": "code",
   "execution_count": 5,
   "id": "fa606bfc",
   "metadata": {},
   "outputs": [],
   "source": [
    "#train_result_file = \"/Users/jeongju.sohn/workdir/arachne/arachne/indices/lstm/us_airline/n_64_dnn1_v2/us_airline.init_pred.indices.csv\"\n",
    "#predictions_for_train = pd.read_csv(train_result_file)"
   ]
  },
  {
   "cell_type": "code",
   "execution_count": 6,
   "id": "b7f06621",
   "metadata": {},
   "outputs": [],
   "source": [
    "# get train and test data\n",
    "#train_datafile = os.path.join(datadir, \"train_data.pkl\")\n",
    "#with open(train_datafile, 'rb') as f:\n",
    "#    train_X, train_y = pickle.load(f)   \n",
    "test_datafile = os.path.join(datadir, \"test_data.pkl\")\n",
    "with open(test_datafile, 'rb') as f:\n",
    "    test_X, test_y = pickle.load(f)"
   ]
  },
  {
   "cell_type": "code",
   "execution_count": 7,
   "id": "afe51a84",
   "metadata": {},
   "outputs": [
    {
     "data": {
      "text/plain": [
       "((1, 2), 144, 1465, 1463)"
      ]
     },
     "execution_count": 7,
     "metadata": {},
     "output_type": "execute_result"
    }
   ],
   "source": [
    "top_n = 0 # target the most frequent\n",
    "\n",
    "# same. \"indices\" to the \"/volume1/coinse/Arachne/indices\"\n",
    "init_entire_test_pred_file = \"/Users/jeongju.sohn/workdir/arachne/arachne/indices/lstm/us_airline/n_64_dnn1_v2/test/us_airline.init_pred.indices.csv\"\n",
    "outs = data_util.get_balanced_dataset(init_entire_test_pred_file, top_n, idx = 0)\n",
    "misclf_key, misclf_indices, val_data_indices, eval_data_indices = outs\n",
    "\n",
    "misclf_key, len(misclf_indices), len(val_data_indices), len(eval_data_indices)\n",
    "    "
   ]
  },
  {
   "cell_type": "code",
   "execution_count": 8,
   "id": "10cff95f",
   "metadata": {},
   "outputs": [
    {
     "data": {
      "text/plain": [
       "(1465, 1465, 1463, 1463)"
      ]
     },
     "execution_count": 8,
     "metadata": {},
     "output_type": "execute_result"
    }
   ],
   "source": [
    "val_X = test_X[val_data_indices]\n",
    "val_y = test_y[val_data_indices]\n",
    "\n",
    "eval_X = test_X[eval_data_indices]\n",
    "eval_y = test_y[eval_data_indices]\n",
    "\n",
    "len(val_X), len(val_y), len(eval_X), len(eval_y)"
   ]
  },
  {
   "cell_type": "code",
   "execution_count": 10,
   "id": "5a2d9efc",
   "metadata": {
    "scrolled": true
   },
   "outputs": [
    {
     "data": {
      "text/html": [
       "<div>\n",
       "<style scoped>\n",
       "    .dataframe tbody tr th:only-of-type {\n",
       "        vertical-align: middle;\n",
       "    }\n",
       "\n",
       "    .dataframe tbody tr th {\n",
       "        vertical-align: top;\n",
       "    }\n",
       "\n",
       "    .dataframe thead th {\n",
       "        text-align: right;\n",
       "    }\n",
       "</style>\n",
       "<table border=\"1\" class=\"dataframe\">\n",
       "  <thead>\n",
       "    <tr style=\"text-align: right;\">\n",
       "      <th></th>\n",
       "      <th>tweet_id</th>\n",
       "      <th>airline_sentiment</th>\n",
       "      <th>airline_sentiment_confidence</th>\n",
       "      <th>negativereason</th>\n",
       "      <th>negativereason_confidence</th>\n",
       "      <th>airline</th>\n",
       "      <th>airline_sentiment_gold</th>\n",
       "      <th>name</th>\n",
       "      <th>negativereason_gold</th>\n",
       "      <th>retweet_count</th>\n",
       "      <th>text</th>\n",
       "      <th>tweet_coord</th>\n",
       "      <th>tweet_created</th>\n",
       "      <th>tweet_location</th>\n",
       "      <th>user_timezone</th>\n",
       "    </tr>\n",
       "  </thead>\n",
       "  <tbody>\n",
       "    <tr>\n",
       "      <th>0</th>\n",
       "      <td>570306133677760513</td>\n",
       "      <td>neutral</td>\n",
       "      <td>1.0000</td>\n",
       "      <td>NaN</td>\n",
       "      <td>NaN</td>\n",
       "      <td>Virgin America</td>\n",
       "      <td>NaN</td>\n",
       "      <td>cairdin</td>\n",
       "      <td>NaN</td>\n",
       "      <td>0</td>\n",
       "      <td>@VirginAmerica What @dhepburn said.</td>\n",
       "      <td>NaN</td>\n",
       "      <td>2015-02-24 11:35:52 -0800</td>\n",
       "      <td>NaN</td>\n",
       "      <td>Eastern Time (US &amp; Canada)</td>\n",
       "    </tr>\n",
       "    <tr>\n",
       "      <th>1</th>\n",
       "      <td>570301130888122368</td>\n",
       "      <td>positive</td>\n",
       "      <td>0.3486</td>\n",
       "      <td>NaN</td>\n",
       "      <td>0.0000</td>\n",
       "      <td>Virgin America</td>\n",
       "      <td>NaN</td>\n",
       "      <td>jnardino</td>\n",
       "      <td>NaN</td>\n",
       "      <td>0</td>\n",
       "      <td>@VirginAmerica plus you've added commercials t...</td>\n",
       "      <td>NaN</td>\n",
       "      <td>2015-02-24 11:15:59 -0800</td>\n",
       "      <td>NaN</td>\n",
       "      <td>Pacific Time (US &amp; Canada)</td>\n",
       "    </tr>\n",
       "    <tr>\n",
       "      <th>2</th>\n",
       "      <td>570301083672813571</td>\n",
       "      <td>neutral</td>\n",
       "      <td>0.6837</td>\n",
       "      <td>NaN</td>\n",
       "      <td>NaN</td>\n",
       "      <td>Virgin America</td>\n",
       "      <td>NaN</td>\n",
       "      <td>yvonnalynn</td>\n",
       "      <td>NaN</td>\n",
       "      <td>0</td>\n",
       "      <td>@VirginAmerica I didn't today... Must mean I n...</td>\n",
       "      <td>NaN</td>\n",
       "      <td>2015-02-24 11:15:48 -0800</td>\n",
       "      <td>Lets Play</td>\n",
       "      <td>Central Time (US &amp; Canada)</td>\n",
       "    </tr>\n",
       "    <tr>\n",
       "      <th>3</th>\n",
       "      <td>570301031407624196</td>\n",
       "      <td>negative</td>\n",
       "      <td>1.0000</td>\n",
       "      <td>Bad Flight</td>\n",
       "      <td>0.7033</td>\n",
       "      <td>Virgin America</td>\n",
       "      <td>NaN</td>\n",
       "      <td>jnardino</td>\n",
       "      <td>NaN</td>\n",
       "      <td>0</td>\n",
       "      <td>@VirginAmerica it's really aggressive to blast...</td>\n",
       "      <td>NaN</td>\n",
       "      <td>2015-02-24 11:15:36 -0800</td>\n",
       "      <td>NaN</td>\n",
       "      <td>Pacific Time (US &amp; Canada)</td>\n",
       "    </tr>\n",
       "    <tr>\n",
       "      <th>4</th>\n",
       "      <td>570300817074462722</td>\n",
       "      <td>negative</td>\n",
       "      <td>1.0000</td>\n",
       "      <td>Can't Tell</td>\n",
       "      <td>1.0000</td>\n",
       "      <td>Virgin America</td>\n",
       "      <td>NaN</td>\n",
       "      <td>jnardino</td>\n",
       "      <td>NaN</td>\n",
       "      <td>0</td>\n",
       "      <td>@VirginAmerica and it's a really big bad thing...</td>\n",
       "      <td>NaN</td>\n",
       "      <td>2015-02-24 11:14:45 -0800</td>\n",
       "      <td>NaN</td>\n",
       "      <td>Pacific Time (US &amp; Canada)</td>\n",
       "    </tr>\n",
       "    <tr>\n",
       "      <th>...</th>\n",
       "      <td>...</td>\n",
       "      <td>...</td>\n",
       "      <td>...</td>\n",
       "      <td>...</td>\n",
       "      <td>...</td>\n",
       "      <td>...</td>\n",
       "      <td>...</td>\n",
       "      <td>...</td>\n",
       "      <td>...</td>\n",
       "      <td>...</td>\n",
       "      <td>...</td>\n",
       "      <td>...</td>\n",
       "      <td>...</td>\n",
       "      <td>...</td>\n",
       "      <td>...</td>\n",
       "    </tr>\n",
       "    <tr>\n",
       "      <th>14635</th>\n",
       "      <td>569587686496825344</td>\n",
       "      <td>positive</td>\n",
       "      <td>0.3487</td>\n",
       "      <td>NaN</td>\n",
       "      <td>0.0000</td>\n",
       "      <td>American</td>\n",
       "      <td>NaN</td>\n",
       "      <td>KristenReenders</td>\n",
       "      <td>NaN</td>\n",
       "      <td>0</td>\n",
       "      <td>@AmericanAir thank you we got on a different f...</td>\n",
       "      <td>NaN</td>\n",
       "      <td>2015-02-22 12:01:01 -0800</td>\n",
       "      <td>NaN</td>\n",
       "      <td>NaN</td>\n",
       "    </tr>\n",
       "    <tr>\n",
       "      <th>14636</th>\n",
       "      <td>569587371693355008</td>\n",
       "      <td>negative</td>\n",
       "      <td>1.0000</td>\n",
       "      <td>Customer Service Issue</td>\n",
       "      <td>1.0000</td>\n",
       "      <td>American</td>\n",
       "      <td>NaN</td>\n",
       "      <td>itsropes</td>\n",
       "      <td>NaN</td>\n",
       "      <td>0</td>\n",
       "      <td>@AmericanAir leaving over 20 minutes Late Flig...</td>\n",
       "      <td>NaN</td>\n",
       "      <td>2015-02-22 11:59:46 -0800</td>\n",
       "      <td>Texas</td>\n",
       "      <td>NaN</td>\n",
       "    </tr>\n",
       "    <tr>\n",
       "      <th>14637</th>\n",
       "      <td>569587242672398336</td>\n",
       "      <td>neutral</td>\n",
       "      <td>1.0000</td>\n",
       "      <td>NaN</td>\n",
       "      <td>NaN</td>\n",
       "      <td>American</td>\n",
       "      <td>NaN</td>\n",
       "      <td>sanyabun</td>\n",
       "      <td>NaN</td>\n",
       "      <td>0</td>\n",
       "      <td>@AmericanAir Please bring American Airlines to...</td>\n",
       "      <td>NaN</td>\n",
       "      <td>2015-02-22 11:59:15 -0800</td>\n",
       "      <td>Nigeria,lagos</td>\n",
       "      <td>NaN</td>\n",
       "    </tr>\n",
       "    <tr>\n",
       "      <th>14638</th>\n",
       "      <td>569587188687634433</td>\n",
       "      <td>negative</td>\n",
       "      <td>1.0000</td>\n",
       "      <td>Customer Service Issue</td>\n",
       "      <td>0.6659</td>\n",
       "      <td>American</td>\n",
       "      <td>NaN</td>\n",
       "      <td>SraJackson</td>\n",
       "      <td>NaN</td>\n",
       "      <td>0</td>\n",
       "      <td>@AmericanAir you have my money, you change my ...</td>\n",
       "      <td>NaN</td>\n",
       "      <td>2015-02-22 11:59:02 -0800</td>\n",
       "      <td>New Jersey</td>\n",
       "      <td>Eastern Time (US &amp; Canada)</td>\n",
       "    </tr>\n",
       "    <tr>\n",
       "      <th>14639</th>\n",
       "      <td>569587140490866689</td>\n",
       "      <td>neutral</td>\n",
       "      <td>0.6771</td>\n",
       "      <td>NaN</td>\n",
       "      <td>0.0000</td>\n",
       "      <td>American</td>\n",
       "      <td>NaN</td>\n",
       "      <td>daviddtwu</td>\n",
       "      <td>NaN</td>\n",
       "      <td>0</td>\n",
       "      <td>@AmericanAir we have 8 ppl so we need 2 know h...</td>\n",
       "      <td>NaN</td>\n",
       "      <td>2015-02-22 11:58:51 -0800</td>\n",
       "      <td>dallas, TX</td>\n",
       "      <td>NaN</td>\n",
       "    </tr>\n",
       "  </tbody>\n",
       "</table>\n",
       "<p>14640 rows × 15 columns</p>\n",
       "</div>"
      ],
      "text/plain": [
       "                 tweet_id airline_sentiment  airline_sentiment_confidence  \\\n",
       "0      570306133677760513           neutral                        1.0000   \n",
       "1      570301130888122368          positive                        0.3486   \n",
       "2      570301083672813571           neutral                        0.6837   \n",
       "3      570301031407624196          negative                        1.0000   \n",
       "4      570300817074462722          negative                        1.0000   \n",
       "...                   ...               ...                           ...   \n",
       "14635  569587686496825344          positive                        0.3487   \n",
       "14636  569587371693355008          negative                        1.0000   \n",
       "14637  569587242672398336           neutral                        1.0000   \n",
       "14638  569587188687634433          negative                        1.0000   \n",
       "14639  569587140490866689           neutral                        0.6771   \n",
       "\n",
       "               negativereason  negativereason_confidence         airline  \\\n",
       "0                         NaN                        NaN  Virgin America   \n",
       "1                         NaN                     0.0000  Virgin America   \n",
       "2                         NaN                        NaN  Virgin America   \n",
       "3                  Bad Flight                     0.7033  Virgin America   \n",
       "4                  Can't Tell                     1.0000  Virgin America   \n",
       "...                       ...                        ...             ...   \n",
       "14635                     NaN                     0.0000        American   \n",
       "14636  Customer Service Issue                     1.0000        American   \n",
       "14637                     NaN                        NaN        American   \n",
       "14638  Customer Service Issue                     0.6659        American   \n",
       "14639                     NaN                     0.0000        American   \n",
       "\n",
       "      airline_sentiment_gold             name negativereason_gold  \\\n",
       "0                        NaN          cairdin                 NaN   \n",
       "1                        NaN         jnardino                 NaN   \n",
       "2                        NaN       yvonnalynn                 NaN   \n",
       "3                        NaN         jnardino                 NaN   \n",
       "4                        NaN         jnardino                 NaN   \n",
       "...                      ...              ...                 ...   \n",
       "14635                    NaN  KristenReenders                 NaN   \n",
       "14636                    NaN         itsropes                 NaN   \n",
       "14637                    NaN         sanyabun                 NaN   \n",
       "14638                    NaN       SraJackson                 NaN   \n",
       "14639                    NaN        daviddtwu                 NaN   \n",
       "\n",
       "       retweet_count                                               text  \\\n",
       "0                  0                @VirginAmerica What @dhepburn said.   \n",
       "1                  0  @VirginAmerica plus you've added commercials t...   \n",
       "2                  0  @VirginAmerica I didn't today... Must mean I n...   \n",
       "3                  0  @VirginAmerica it's really aggressive to blast...   \n",
       "4                  0  @VirginAmerica and it's a really big bad thing...   \n",
       "...              ...                                                ...   \n",
       "14635              0  @AmericanAir thank you we got on a different f...   \n",
       "14636              0  @AmericanAir leaving over 20 minutes Late Flig...   \n",
       "14637              0  @AmericanAir Please bring American Airlines to...   \n",
       "14638              0  @AmericanAir you have my money, you change my ...   \n",
       "14639              0  @AmericanAir we have 8 ppl so we need 2 know h...   \n",
       "\n",
       "      tweet_coord              tweet_created tweet_location  \\\n",
       "0             NaN  2015-02-24 11:35:52 -0800            NaN   \n",
       "1             NaN  2015-02-24 11:15:59 -0800            NaN   \n",
       "2             NaN  2015-02-24 11:15:48 -0800      Lets Play   \n",
       "3             NaN  2015-02-24 11:15:36 -0800            NaN   \n",
       "4             NaN  2015-02-24 11:14:45 -0800            NaN   \n",
       "...           ...                        ...            ...   \n",
       "14635         NaN  2015-02-22 12:01:01 -0800            NaN   \n",
       "14636         NaN  2015-02-22 11:59:46 -0800          Texas   \n",
       "14637         NaN  2015-02-22 11:59:15 -0800  Nigeria,lagos   \n",
       "14638         NaN  2015-02-22 11:59:02 -0800     New Jersey   \n",
       "14639         NaN  2015-02-22 11:58:51 -0800     dallas, TX   \n",
       "\n",
       "                    user_timezone  \n",
       "0      Eastern Time (US & Canada)  \n",
       "1      Pacific Time (US & Canada)  \n",
       "2      Central Time (US & Canada)  \n",
       "3      Pacific Time (US & Canada)  \n",
       "4      Pacific Time (US & Canada)  \n",
       "...                           ...  \n",
       "14635                         NaN  \n",
       "14636                         NaN  \n",
       "14637                         NaN  \n",
       "14638  Eastern Time (US & Canada)  \n",
       "14639                         NaN  \n",
       "\n",
       "[14640 rows x 15 columns]"
      ]
     },
     "execution_count": 10,
     "metadata": {},
     "output_type": "execute_result"
    }
   ],
   "source": [
    "raw_tweets_datafile = os.path.join(datadir, \"Tweets.csv\")\n",
    "tweets_df = pd.read_csv(raw_tweets_datafile)\n",
    "tweets_df"
   ]
  },
  {
   "cell_type": "code",
   "execution_count": 189,
   "id": "3c658f05",
   "metadata": {},
   "outputs": [
    {
     "data": {
      "text/plain": [
       "(14640,\n",
       " '/Users/jeongju.sohn/workdir/arachne/arachne/data/lstm/us_airline/Tweets.csv')"
      ]
     },
     "execution_count": 189,
     "metadata": {},
     "output_type": "execute_result"
    }
   ],
   "source": [
    "raw_tweets_datafile = os.path.join(datadir, \"Tweets.csv\")\n",
    "tweets_df = pd.read_csv(raw_tweets_datafile)\n",
    "len(tweets_df), raw_tweets_datafile"
   ]
  },
  {
   "cell_type": "code",
   "execution_count": 193,
   "id": "d923a637",
   "metadata": {},
   "outputs": [],
   "source": [
    "#tweets_df['negativereason_confidence']\n",
    "#datadir"
   ]
  },
  {
   "cell_type": "code",
   "execution_count": 192,
   "id": "316d5422",
   "metadata": {},
   "outputs": [],
   "source": [
    "#tweets_df.text.apply(lambda v:len(v)).max(), tweets_df.text.apply(lambda v:len(v)).min()"
   ]
  },
  {
   "cell_type": "code",
   "execution_count": 190,
   "id": "8b7083ff",
   "metadata": {},
   "outputs": [],
   "source": [
    "#test_X.shape, eval_X.shape, val_X.shape"
   ]
  },
  {
   "cell_type": "code",
   "execution_count": 191,
   "id": "2a525dbe",
   "metadata": {},
   "outputs": [],
   "source": [
    "#len(tweets_df) * 0.8 + 2928, len(tweets_df)"
   ]
  },
  {
   "cell_type": "markdown",
   "id": "a58a0917",
   "metadata": {},
   "source": [
    "# Evaluation"
   ]
  },
  {
   "cell_type": "markdown",
   "id": "d69bad6a",
   "metadata": {},
   "source": [
    "## Get Results"
   ]
  },
  {
   "cell_type": "code",
   "execution_count": 11,
   "id": "c9cfdeb0",
   "metadata": {},
   "outputs": [],
   "source": [
    "def get_prediction_results(pred_dir, for_eval = True):\n",
    "    \"\"\"\n",
    "    e.g., pred.misclf-rq5.0.0-1-2.eval.pkl\n",
    "    \"\"\"\n",
    "    predictions = {}\n",
    "    for i in range(30):\n",
    "        pat = os.path.join(pred_dir, \n",
    "                           \"*.0.{}-*.eval.pkl\".format(i) if for_eval else \"*.0.{}-*.train.pkl\".format(i))\n",
    "        pred_files = glob.glob(pat)\n",
    "        assert len(pred_files) == 1, pat\n",
    "        pred_file = pred_files[0]\n",
    "        predictions[i] = pd.read_pickle(pred_file)\n",
    "        \n",
    "    return predictions"
   ]
  },
  {
   "cell_type": "code",
   "execution_count": 12,
   "id": "6f64a246",
   "metadata": {},
   "outputs": [],
   "source": [
    "predictions_for_eval = get_prediction_results(resultdir, for_eval = True)\n",
    "predictions_for_val = get_prediction_results(resultdir, for_eval = False)"
   ]
  },
  {
   "cell_type": "code",
   "execution_count": null,
   "id": "9a395950",
   "metadata": {},
   "outputs": [],
   "source": []
  },
  {
   "cell_type": "markdown",
   "id": "7c21a4ce",
   "metadata": {},
   "source": [
    "## General Evaluation"
   ]
  },
  {
   "cell_type": "code",
   "execution_count": 13,
   "id": "7f142a9b",
   "metadata": {},
   "outputs": [],
   "source": [
    "def count_each_classification(predictions, classes = [0,1,2], is_new = True):\n",
    "    \"\"\"\n",
    "    \"\"\"\n",
    "    pred_type = 'new_pred' if is_new else 'pred'\n",
    "    cnt_per_clf = {(a_class, b_class):[] for a_class in classes for b_class in classes}\n",
    "    for i, preds in predictions.items():\n",
    "        for (a_class, b_class) in cnt_per_clf.keys():\n",
    "            cnt_per_clf[(a_class, b_class)].append(np.sum([(preds.true == a_class) & (preds[pred_type] == b_class)]))\n",
    "    \n",
    "    for k in cnt_per_clf.keys():\n",
    "        cnt_per_clf[k] = np.mean(np.mean(cnt_per_clf[k]))\n",
    "    return cnt_per_clf"
   ]
  },
  {
   "cell_type": "code",
   "execution_count": 14,
   "id": "95a659b5",
   "metadata": {},
   "outputs": [],
   "source": [
    "def count_overall_patched_broken(predictions):\n",
    "    \"\"\"\n",
    "    ** CURRENTLY \n",
    "    \"\"\"\n",
    "    cnt_patcheds = []; cnt_brokens = []\n",
    "    for i,preds in predictions.items():\n",
    "        cnt_patched = np.sum([(preds.true != preds.pred) & (preds.true == preds.new_pred)])\n",
    "        cnt_broken = np.sum([(preds.true == preds.pred) & (preds.true != preds.new_pred)])\n",
    "        cnt_patcheds.append(cnt_patched)\n",
    "        cnt_brokens.append(cnt_broken)\n",
    "        \n",
    "        print (\"For iter {}, patched: {}, broken: {}\".format(i, cnt_patched, cnt_broken))\n",
    "    \n",
    "    print ()\n",
    "    print (\"For average:\\n\\tpatched: {}, broken: {}\".format(np.mean(cnt_patcheds), np.mean(cnt_brokens)))\n",
    "    return cnt_patcheds, cnt_brokens"
   ]
  },
  {
   "cell_type": "code",
   "execution_count": 98,
   "id": "d3d52ce3",
   "metadata": {},
   "outputs": [],
   "source": [
    "# eval\n",
    "init_acc_val = np.sum(predictions_for_val[0].true == predictions_for_val[0].pred)/len(predictions_for_val[0])\n",
    "acc_vs = []\n",
    "for i in range(30):\n",
    "    acc_vs.append(\n",
    "        np.sum(predictions_for_val[i].true == predictions_for_val[i].new_pred)/len(predictions_for_val[i]))\n",
    "\n",
    "avg_acc_val =np.mean(acc_vs)\n",
    "\n",
    "# eval\n",
    "init_acc_eval = np.sum(predictions_for_eval[0].true == predictions_for_eval[0].pred)/len(predictions_for_eval[0])\n",
    "acc_vs = []\n",
    "for i in range(30):\n",
    "    acc_vs.append(\n",
    "        np.sum(predictions_for_eval[i].true == predictions_for_eval[i].new_pred)/len(predictions_for_eval[i]))\n",
    "\n",
    "avg_acc_eval =np.mean(acc_vs)\n",
    "\n",
    "accs = {'val':{'init':init_acc_val, 'aft':avg_acc_val}, 'eval':{'init':init_acc_eval, 'aft':avg_acc_eval}}"
   ]
  },
  {
   "cell_type": "code",
   "execution_count": 121,
   "id": "7d2646ec",
   "metadata": {
    "scrolled": true
   },
   "outputs": [],
   "source": [
    "# per layer \n",
    "# eval\n",
    "target_label = 1\n",
    "\n",
    "accs_p_layer = {}\n",
    "for target_label in [0,1,2]:\n",
    "    n_target_label = np.sum(predictions_for_val[0].true == target_label)\n",
    "    init_acc_val = np.sum(\n",
    "        (predictions_for_val[0].true == target_label).values & \n",
    "        (predictions_for_val[0].true == predictions_for_val[0].pred).values)/n_target_label\n",
    "    acc_vs = []\n",
    "    for i in range(30):\n",
    "        acc_vs.append(\n",
    "            np.sum(\n",
    "                (predictions_for_val[i].true == target_label).values & \n",
    "                (predictions_for_val[i].true == predictions_for_val[i].new_pred).values)/n_target_label)\n",
    "\n",
    "    avg_acc_val =np.mean(acc_vs)\n",
    "\n",
    "    # eval\n",
    "    n_target_label = np.sum(predictions_for_eval[0].true == target_label)\n",
    "    init_acc_eval = np.sum(\n",
    "        (predictions_for_eval[0].true == target_label).values & \n",
    "        (predictions_for_eval[0].true == predictions_for_eval[0].pred).values)/n_target_label\n",
    "    acc_vs = []\n",
    "    for i in range(30):\n",
    "        acc_vs.append(\n",
    "            np.sum(\n",
    "                (predictions_for_eval[i].true == target_label).values & \n",
    "                (predictions_for_eval[i].true == predictions_for_eval[i].new_pred).values)/n_target_label)\n",
    "\n",
    "    avg_acc_eval =np.mean(acc_vs)\n",
    "\n",
    "    accs_p_layer[target_label] = {\n",
    "        'val':{'init':init_acc_val, 'aft':avg_acc_val}, \n",
    "        'eval':{'init':init_acc_eval, 'aft':avg_acc_eval}}"
   ]
  },
  {
   "cell_type": "code",
   "execution_count": 122,
   "id": "4bc6fdff",
   "metadata": {},
   "outputs": [
    {
     "data": {
      "text/plain": [
       "{0: {'val': {'init': 0.5427350427350427, 'aft': 0.5360398860398861},\n",
       "  'eval': {'init': 0.5427350427350427, 'aft': 0.5236467236467237}},\n",
       " 1: {'val': {'init': 0.4370860927152318, 'aft': 0.4870860927152318},\n",
       "  'eval': {'init': 0.43853820598006643, 'aft': 0.4682170542635659}},\n",
       " 2: {'val': {'init': 0.9203444564047363, 'aft': 0.9000717617509867},\n",
       "  'eval': {'init': 0.9213362068965517, 'aft': 0.899676724137931}}}"
      ]
     },
     "execution_count": 122,
     "metadata": {},
     "output_type": "execute_result"
    }
   ],
   "source": [
    "accs_p_layer"
   ]
  },
  {
   "cell_type": "code",
   "execution_count": 132,
   "id": "4c77ae01",
   "metadata": {},
   "outputs": [
    {
     "name": "stdout",
     "output_type": "stream",
     "text": [
      "0 {'init': 0.5427350427350427, 'aft': 0.5236467236467237}\n",
      "1 {'init': 0.43853820598006643, 'aft': 0.4682170542635659}\n",
      "2 {'init': 0.9213362068965517, 'aft': 0.899676724137931}\n"
     ]
    }
   ],
   "source": [
    "print (0, accs_p_layer[0]['eval'])\n",
    "print (1, accs_p_layer[1]['eval'])\n",
    "print (2, accs_p_layer[2]['eval'])"
   ]
  },
  {
   "cell_type": "code",
   "execution_count": 116,
   "id": "5d31f79a",
   "metadata": {},
   "outputs": [
    {
     "data": {
      "text/plain": [
       "(929, 302, 234)"
      ]
     },
     "execution_count": 116,
     "metadata": {},
     "output_type": "execute_result"
    }
   ],
   "source": [
    "len(d.loc[d.true == 2]), len(d.loc[d.true == 1]), len(d.loc[d.true == 0])"
   ]
  },
  {
   "cell_type": "code",
   "execution_count": 130,
   "id": "524d9346",
   "metadata": {},
   "outputs": [
    {
     "data": {
      "text/plain": [
       "4.914000000000001"
      ]
     },
     "execution_count": 130,
     "metadata": {},
     "output_type": "execute_result"
    }
   ],
   "source": [
    "0.021 * 234, 0.021 * 234"
   ]
  },
  {
   "cell_type": "markdown",
   "id": "8831f549",
   "metadata": {},
   "source": [
    "## Plot"
   ]
  },
  {
   "cell_type": "code",
   "execution_count": 74,
   "id": "27304a11",
   "metadata": {},
   "outputs": [],
   "source": [
    "def plot_generalisability_one_datatype(changes, data_type, figsize = (8,6), num_classes = None, \n",
    "                                       title = None, filepath = None, targeted = None):\n",
    "    \"\"\"\n",
    "    \"\"\"\n",
    "    import numpy as np\n",
    "    import matplotlib.pyplot as plt\n",
    "    import matplotlib.patches as patches\n",
    "    from matplotlib.lines import Line2D\n",
    "    \n",
    "    fig = plt.figure(figsize = figsize)    \n",
    "    ax = fig.add_subplot(1,1,1)\n",
    "    \n",
    "    val_color = 'red'\n",
    "    eval_color = 'blue'\n",
    "    width = 0.2; height = 0.002 if num_classes is not None else 1\n",
    "    \n",
    "    xs = width + 0.1\n",
    "    xs_val = xs - width - 0.05\n",
    "    xs_eval = xs + 0.05\n",
    "    \n",
    "    # val\n",
    "    val_cnt_init = changes['val'][data_type]['init']\n",
    "    if num_classes is not None: \n",
    "        val_cnt_init = val_cnt_init/num_classes['val'][data_type[0]]\n",
    "    \n",
    "    val_cnt_aft = changes['val'][data_type]['after']\n",
    "    if num_classes is not None: \n",
    "        val_cnt_aft = val_cnt_aft/num_classes['val'][data_type[0]]\n",
    "    \n",
    "    print (\"{} ({}):\\n\\tinit cnt {} -> aft cnt {}\".format(\n",
    "        data_type, 'val', val_cnt_init, val_cnt_aft)) \n",
    "    \n",
    "    val_rect_1 = patches.Rectangle(xy=(xs_val, val_cnt_init), edgecolor = val_color, facecolor = val_color,\n",
    "            alpha = 0.3, width=width, height=height, fill = True)\n",
    "            \n",
    "    val_rect_2 = patches.Rectangle(xy=(xs_val, val_cnt_aft),edgecolor = val_color, facecolor = val_color,\n",
    "            width=width, height=height, fill = True)\n",
    "    \n",
    "    ax.add_patch(val_rect_1); ax.add_patch(val_rect_2)\n",
    "    \n",
    "    dx = 0; dy = np.min(val_cnt_aft - val_cnt_init + height*2, 0)\n",
    "    if dy < 0:\n",
    "        ax.arrow(xs_val + width/2, val_cnt_init, dx, dy, head_width=width/5, \n",
    "            head_length=height, fc='k', ec='k')\n",
    "    else:\n",
    "        dy = np.min(val_cnt_aft - val_cnt_init + height)\n",
    "        ax.arrow(xs_val + width/2, val_cnt_init + height, dx, np.max([dy-height*2, -height/2]), \n",
    "                head_width=width/10, head_length=height, fc='k', ec='k')    \n",
    "\n",
    "    # eval\n",
    "    eval_cnt_init = changes['eval'][data_type]['init']\n",
    "    if num_classes is not None: \n",
    "        eval_cnt_init = eval_cnt_init/num_classes['eval'][data_type[0]]\n",
    "    \n",
    "    eval_cnt_aft = changes['eval'][data_type]['after']\n",
    "    if num_classes is not None: \n",
    "        eval_cnt_aft = eval_cnt_aft/num_classes['eval'][data_type[0]]\n",
    "    \n",
    "    print (\"{} ({}):\\n\\tinit cnt {} -> aft cnt {}\".format(\n",
    "        data_type, 'eval', eval_cnt_init, eval_cnt_aft))     \n",
    "\n",
    "    eval_rect_1 = patches.Rectangle(xy=(xs_eval, eval_cnt_init), edgecolor = eval_color, facecolor = eval_color,\n",
    "            alpha = 0.3, width=width, height=height, fill = True)\n",
    "            \n",
    "    eval_rect_2 = patches.Rectangle(xy=(xs_eval, eval_cnt_aft), edgecolor = eval_color, facecolor = eval_color,\n",
    "            width=width, height=height, fill = True)\n",
    "    \n",
    "    ax.add_patch(eval_rect_1); ax.add_patch(eval_rect_2)\n",
    "    \n",
    "    \n",
    "    dx = 0; dy = np.min(eval_cnt_aft - eval_cnt_init + height*2, 0)\n",
    "    if dy < 0:\n",
    "        ax.arrow(xs_eval + width/2, eval_cnt_init, dx, dy, head_width=width/5, \n",
    "            head_length=height, fc='k', ec='k')\n",
    "    else:\n",
    "        dy = np.min(eval_cnt_aft - eval_cnt_init + height)\n",
    "        ax.arrow(xs_eval + width/2, eval_cnt_init + height, dx, np.max([dy-height*2, -height/2]), \n",
    "                head_width=width/10, head_length=height, fc='k', ec='k')\n",
    "    \n",
    "    #ax.set_xticks([xs])\n",
    "    #ftypes = [data_type]\n",
    "    ax.set_xticks([xs_val + width/2, xs_eval + width/2])\n",
    "    ax.set_xticklabels(['validation', 'evaluation'], fontsize = 16)\n",
    "        \n",
    "    ax.set_ylabel(\"Error Count\" if num_classes is None else \"Erro Count Percentage (0~1)\", fontsize = 18)\n",
    "    ax.tick_params(axis='both', which='major', labelsize=16)\n",
    "    \n",
    "    ax.grid(which='minor', axis='x', zorder = 100)\n",
    "    ax.grid(which='major', axis='y', zorder = 100)\n",
    "    \n",
    "    if title is not None:\n",
    "        ax.set_title(title, fontsize = 18)\n",
    "    \n",
    "    legend_elements = [Line2D([0], [0], color='r', lw=4, alpha = 0.3, \n",
    "                              label='Before Repair (val): {:.1f}'.format(val_cnt_init)),\n",
    "                       Line2D([0], [0], color='r', lw=4, label='After Repair (val): {:.1f}'.format(val_cnt_aft))]\n",
    "    \n",
    "    legend_elements.extend([Line2D([0], [0], color='b', lw=4, alpha = 0.3, \n",
    "                                   label='Before Repair (eval): {:.1f}'.format(eval_cnt_init)),\n",
    "                       Line2D([0], [0], color='b', lw=4, label='After Repair (eval): {:.1f}'.format(eval_cnt_aft))])\n",
    "    \n",
    "    ax.legend(handles=legend_elements, fontsize = 14, bbox_to_anchor = (1.02, 0.3)) #(1.05, -0.1))#1.05))\n",
    "\n",
    "    \n",
    "    plt.tight_layout()\n",
    "    if filepath is not None:\n",
    "        plt.savefig(filepath)\n",
    "    \n",
    "    plt.show()\n",
    "    "
   ]
  },
  {
   "cell_type": "code",
   "execution_count": 76,
   "id": "1587e391",
   "metadata": {},
   "outputs": [
    {
     "name": "stdout",
     "output_type": "stream",
     "text": [
      "(1, 2) (val):\n",
      "\tinit cnt 144.0 -> aft cnt 130.43333333333334\n",
      "(1, 2) (eval):\n",
      "\tinit cnt 143.0 -> aft cnt 130.26666666666668\n"
     ]
    },
    {
     "data": {
      "image/png": "[encoded data removed]",
      "text/plain": [
       "<Figure size 720x432 with 1 Axes>"
      ]
     },
     "metadata": {
      "needs_background": "light"
     },
     "output_type": "display_data"
    }
   ],
   "source": [
    "val_init_cnts = count_each_classification(predictions_for_val, classes = [0,1,2], is_new = False)\n",
    "val_aft_cnts = count_each_classification(predictions_for_val, classes = [0,1,2], is_new = True)\n",
    "\n",
    "val_init_aft_cnts = {}\n",
    "for k in val_init_cnts.keys():\n",
    "    val_init_aft_cnts[k] = {'init':val_init_cnts[k], 'after':val_aft_cnts[k]}\n",
    "    \n",
    "eval_init_cnts = count_each_classification(predictions_for_eval, classes = [0,1,2], is_new = False)\n",
    "eval_aft_cnts = count_each_classification(predictions_for_eval, classes = [0,1,2], is_new = True)\n",
    "\n",
    "eval_init_aft_cnts = {}\n",
    "for k in eval_init_cnts.keys():\n",
    "    eval_init_aft_cnts[k] = {'init':eval_init_cnts[k], 'after':eval_aft_cnts[k]}\n",
    "    \n",
    "\n",
    "filepath = \"/Users/jeongju.sohn/workdir/Journals/autopatch_nn_icse20/figures/rev/rq7/chgs_in_err_cnt.pdf\"\n",
    "plot_generalisability_one_datatype(\n",
    "    {'val':{(1,2):val_init_aft_cnts[(1,2)]}, 'eval':{(1,2):eval_init_aft_cnts[(1,2)]}}, \n",
    "    (1,2),\n",
    "    figsize = (10,6),\n",
    "    num_classes = None, #{'val':num_classes, 'eval':num_classes_eval},\n",
    "    title = 'Error Reduction in Targeted Error Type\\n (Netural (1) to Negative (2))', filepath = filepath)"
   ]
  },
  {
   "cell_type": "code",
   "execution_count": 133,
   "id": "f4f7c5a6",
   "metadata": {},
   "outputs": [
    {
     "data": {
      "text/plain": [
       "{(0, 0): {'init': 127.0, 'after': 125.43333333333334},\n",
       " (0, 1): {'init': 32.0, 'after': 39.266666666666666},\n",
       " (0, 2): {'init': 75.0, 'after': 69.3},\n",
       " (1, 0): {'init': 26.0, 'after': 24.466666666666665},\n",
       " (1, 1): {'init': 132.0, 'after': 147.1},\n",
       " (1, 2): {'init': 144.0, 'after': 130.43333333333334},\n",
       " (2, 0): {'init': 27.0, 'after': 31.233333333333334},\n",
       " (2, 1): {'init': 47.0, 'after': 61.6},\n",
       " (2, 2): {'init': 855.0, 'after': 836.1666666666666}}"
      ]
     },
     "execution_count": 133,
     "metadata": {},
     "output_type": "execute_result"
    }
   ],
   "source": [
    "val_init_aft_cnts"
   ]
  },
  {
   "cell_type": "code",
   "execution_count": 142,
   "id": "6b2df99d",
   "metadata": {},
   "outputs": [],
   "source": [
    "val_d = pd.DataFrame(val_init_aft_cnts)\n",
    "eval_d = pd.DataFrame(eval_init_aft_cnts)"
   ]
  },
  {
   "cell_type": "code",
   "execution_count": 141,
   "id": "362d9b41",
   "metadata": {},
   "outputs": [
    {
     "data": {
      "text/plain": [
       "init     32.000000\n",
       "after    39.266667\n",
       "Name: (0, 1), dtype: float64"
      ]
     },
     "execution_count": 141,
     "metadata": {},
     "output_type": "execute_result"
    }
   ],
   "source": [
    "d[(0,1)]"
   ]
  },
  {
   "cell_type": "code",
   "execution_count": 147,
   "id": "0e8e3ad8",
   "metadata": {},
   "outputs": [],
   "source": [
    "val_d.to_csv(\"/Users/jeongju.sohn/workdir/Journals/autopatch_nn_icse20/figures/rev/rq7/cnt_val.csv\")\n",
    "eval_d.to_json(\"/Users/jeongju.sohn/workdir/Journals/autopatch_nn_icse20/figures/rev/rq7/cnt_val.json\")"
   ]
  },
  {
   "cell_type": "markdown",
   "id": "514bffac",
   "metadata": {},
   "source": [
    "### summary of the impact of patches on overall classification types"
   ]
  },
  {
   "cell_type": "code",
   "execution_count": 80,
   "id": "20eac43d",
   "metadata": {},
   "outputs": [
    {
     "name": "stdout",
     "output_type": "stream",
     "text": [
      "(0, 0): 127.0 -> 125.4 (-0.0126)| 127.0 -> 122.5 (-0.0354)\n",
      "(0, 1): 32.0 -> 39.3 (-0.2281)| 32.0 -> 44.4 (-0.3875)\n",
      "(0, 2): 75.0 -> 69.3 (0.076)| 75.0 -> 67.1 (0.1053)\n",
      "(1, 1): 132.0 -> 147.1 (0.1144)| 132.0 -> 140.9 (0.0674)\n",
      "(1, 0): 26.0 -> 24.5 (0.0577)| 26.0 -> 29.8 (-0.1462)\n",
      "(1, 2): 144.0 -> 130.4 (0.0944)| 143.0 -> 130.3 (0.0888)\n",
      "(2, 2): 855.0 -> 836.2 (-0.022)| 855.0 -> 834.9 (-0.0235)\n",
      "(2, 0): 27.0 -> 31.2 (-0.1556)| 26.0 -> 28.1 (-0.0808)\n",
      "(2, 1): 47.0 -> 61.6 (-0.3106)| 47.0 -> 65.0 (-0.383)\n"
     ]
    }
   ],
   "source": [
    "data_types = [(0,0), (0,1), (0,2), (1,1), (1,0), (1,2), (2,2), (2,0), (2,1)] \n",
    "\n",
    "#print (\"Error,  Val  Eval\")\n",
    "for data_type in data_types:\n",
    "    val_init_cnt = np.round(val_init_aft_cnts[data_type]['init'], decimals = 1)\n",
    "    val_aft_cnt = np.round(val_init_aft_cnts[data_type]['after'], decimals = 1)\n",
    "    if data_type[0] != data_type[1]:\n",
    "        val_ratio = np.round((val_init_cnt - val_aft_cnt)/val_init_cnt, decimals = 4)\n",
    "    else:\n",
    "        val_ratio = np.round((val_aft_cnt - val_init_cnt)/val_init_cnt, decimals = 4)\n",
    "    #val_cnt = np.round(val_init_cnt - val_aft_cnt, decimals = 4)\n",
    "    \n",
    "    eval_init_cnt = np.round(eval_init_aft_cnts[data_type]['init'], decimals = 1)\n",
    "    eval_aft_cnt = np.round(eval_init_aft_cnts[data_type]['after'], decimals = 1)\n",
    "    if data_type[0] != data_type[1]: \n",
    "        eval_ratio = np.round((eval_init_cnt - eval_aft_cnt)/eval_init_cnt, decimals = 4)\n",
    "    else:\n",
    "        eval_ratio = np.round((eval_aft_cnt - eval_init_cnt)/eval_init_cnt, decimals = 4)\n",
    "    #eval_cnt = np.round(eval_init_cnt - eval_aft_cnt, decimals = 4)\n",
    "    \n",
    "    print (\"{}: {} -> {} ({})| {} -> {} ({})\".format(\n",
    "        data_type, \n",
    "        val_init_cnt, val_aft_cnt, val_ratio, \n",
    "        eval_init_cnt, eval_aft_cnt, eval_ratio))\n",
    "    #print (\"{}: {}, {}\".format(data_type, val_cnt, eval_cnt))"
   ]
  },
  {
   "cell_type": "code",
   "execution_count": null,
   "id": "59a99f4f",
   "metadata": {},
   "outputs": [],
   "source": []
  },
  {
   "cell_type": "markdown",
   "id": "0c5e240a",
   "metadata": {},
   "source": [
    "## The impact of confidence "
   ]
  },
  {
   "cell_type": "code",
   "execution_count": 18,
   "id": "9d785d54",
   "metadata": {},
   "outputs": [],
   "source": [
    "def get_confs_of_target_patched_and_broken(confidences, predictions, target_label, pred_label, by_mean = False):\n",
    "    \"\"\"\n",
    "    ** CURRENTLY NOT USED **\n",
    "    patched: \n",
    "        true == target_label & pred == pred_label \n",
    "        -> new_pred == \n",
    "    \n",
    "    broken:\n",
    "        true == target_label & pred == target_label \n",
    "        -> new_pred !- target_label\n",
    "    \"\"\"\n",
    "    confs_of_patched_all = np.array([]); confs_of_broken_all = np.array([])\n",
    "    if isinstance(confidences, list):\n",
    "        confidences = np.array(confidences)\n",
    "        \n",
    "    for i, preds in predictions.items():\n",
    "        # for patched\n",
    "        target_preds = preds.loc[(preds.true == target_label) & (preds.pred == pred_label)]\n",
    "        indices_of_patched = target_preds.loc[target_preds.true == target_preds.new_pred].index.values\n",
    "        confs_of_patched = confidences[indices_of_patched]\n",
    "        if not by_mean:\n",
    "            confs_of_patched_all = np.append(confs_of_patched_all, confs_of_patched)\n",
    "        else:\n",
    "            if len(confs_of_patched) > 0:\n",
    "                confs_of_patched_all = np.append(confs_of_patched_all, np.mean(confs_of_patched))\n",
    "        \n",
    "        # for broken\n",
    "        target_preds = preds.loc[(preds.true == target_label) & (preds.pred == target_label)]\n",
    "        indices_of_broken = target_preds.loc[target_preds.true != target_preds.new_pred].index.values\n",
    "        confs_of_broken = confidences[indices_of_broken]\n",
    "        if not by_mean:\n",
    "            confs_of_broken_all = np.append(confs_of_broken_all, confs_of_broken)\n",
    "        else:\n",
    "            if len(confs_of_broken) > 0:\n",
    "                confs_of_broken_all = np.append(confs_of_broken_all, np.mean(confs_of_broken))\n",
    "        #print (\"For iter {}, mean conf of patched: {}, broken: {}\".format(\n",
    "        #    i, np.round(np.mean(confs_of_patched), decimals = 2), \n",
    "        #    np.round(np.mean(confs_of_broken), decimals = 2)))\n",
    "    return confs_of_patched_all, confs_of_broken_all"
   ]
  },
  {
   "cell_type": "code",
   "execution_count": 19,
   "id": "607a424f",
   "metadata": {},
   "outputs": [],
   "source": [
    "def get_confs_of_target_patched_and_not_patched(\n",
    "    confidences, predictions, target_label, pred_label, by_mean = False):\n",
    "    \"\"\"\n",
    "    true == target_label & pred == pred_label \n",
    "        - patched: new_pred == target_label\n",
    "        - not_patched: new_pred == pred_label\n",
    "    by_mean: take the average of all confidence values of a single iteration\n",
    "    \"\"\"\n",
    "    patched_confs = np.array([]); not_patched_confs = np.array([])\n",
    "    if isinstance(confidences, list):\n",
    "        confidences = np.array(confidences)\n",
    "        \n",
    "    for i, preds in predictions.items():\n",
    "        # from 1 -> 2 to 1 -> \n",
    "        target_preds = preds.loc[(preds.true == target_label) & (preds.pred == pred_label)]\n",
    "        indices_to_patched = target_preds.loc[target_preds.new_pred == target_label].index.values\n",
    "        indices_to_not_patched = target_preds.loc[target_preds.new_pred != target_label].index.values\n",
    "        \n",
    "        if by_mean:\n",
    "            if len(indices_to_patched) > 0:\n",
    "                patched_confs = np.append(patched_confs, np.mean(confidences[indices_to_patched]))\n",
    "            if len(indices_to_not_patched) > 0:\n",
    "                not_patched_confs = np.append(not_patched_confs, np.mean(confidences[indices_to_not_patched]))\n",
    "        else:\n",
    "            patched_confs = np.append(patched_confs, confidences[indices_to_patched])\n",
    "            not_patched_confs = np.append(not_patched_confs, confidences[indices_to_not_patched])\n",
    "            \n",
    "    return patched_confs, not_patched_confs"
   ]
  },
  {
   "cell_type": "markdown",
   "id": "02ece1db",
   "metadata": {},
   "source": [
    "### The complete data to reference"
   ]
  },
  {
   "cell_type": "code",
   "execution_count": 23,
   "id": "afe5151d",
   "metadata": {},
   "outputs": [],
   "source": [
    "complete_data_file = os.path.join(datadir, \"entire_data.pkl\")\n",
    "with open(complete_data_file, 'rb') as f:\n",
    "    entire_data = pickle.load(f)\n",
    "    \n",
    "embedded_vector, labels, tweet_ids = entire_data"
   ]
  },
  {
   "cell_type": "markdown",
   "id": "aec03592",
   "metadata": {},
   "source": [
    "### Generate a dictionary for pairs of x and y"
   ]
  },
  {
   "cell_type": "code",
   "execution_count": 24,
   "id": "8121b8ce",
   "metadata": {},
   "outputs": [
    {
     "name": "stderr",
     "output_type": "stream",
     "text": [
      "100%|██████████████████████████████████████████████████████████████████████████████████████████████████████████████████████████████████████████████████████████████████████████████████████████████████████████████████| 14640/14640 [02:01<00:00, 120.39it/s]\n"
     ]
    }
   ],
   "source": [
    "embedded_vector_d2 = {}\n",
    "for i,vector in enumerate(tqdm(embedded_vector)):\n",
    "    k = \",\".join([str(v) for v in vector.flatten()])\n",
    "    k += \",\" + str(labels[i])\n",
    "    try:\n",
    "        _ = embedded_vector_d2[k]\n",
    "    except Exception:\n",
    "        embedded_vector_d2[k] = []\n",
    "    embedded_vector_d2[k].append([i, tweet_ids[i]])"
   ]
  },
  {
   "cell_type": "markdown",
   "id": "7d2f3cc3",
   "metadata": {},
   "source": [
    "### Get confidence data"
   ]
  },
  {
   "cell_type": "code",
   "execution_count": 25,
   "id": "c4863e8f",
   "metadata": {},
   "outputs": [],
   "source": [
    "def get_tweet_id(target_data_vector, target_label, ref_d):\n",
    "    \"\"\"\n",
    "    return (idx_to_complete_d, matching tweet id)\n",
    "    \"\"\"\n",
    "    k = \",\".join([str(v) for v in target_data_vector.flatten()])\n",
    "    k += \",\" + str(target_label)\n",
    "    return ref_d[k]"
   ]
  },
  {
   "cell_type": "code",
   "execution_count": 26,
   "id": "abf0c316",
   "metadata": {},
   "outputs": [],
   "source": [
    "def get_matching_confidences(tweets_df, X_arr, y_arr, ref_d):\n",
    "    \"\"\"\n",
    "    \"\"\"\n",
    "    matching_confidences = []\n",
    "    num = len(y_arr)\n",
    "    for idx in tqdm(range(num)):\n",
    "        matching_tweet_ids = get_tweet_id(X_arr[idx], y_arr[idx], ref_d)\n",
    "        confs = []\n",
    "        for _, matching_tweet_id in matching_tweet_ids:\n",
    "            conf = tweets_df.loc[\n",
    "                tweets_df.tweet_id == matching_tweet_id].airline_sentiment_confidence.values[0]\n",
    "            confs.append(conf)\n",
    "        matching_confidences.append(np.mean(confs))\n",
    "    \n",
    "    return matching_confidences"
   ]
  },
  {
   "cell_type": "code",
   "execution_count": 28,
   "id": "c6d01916",
   "metadata": {},
   "outputs": [
    {
     "name": "stderr",
     "output_type": "stream",
     "text": [
      "100%|████████████████████████████████████████████████████████████████████████████████████████████████████████████████████████████████████████████████████████████████████████████████████████████████████████████████████| 1465/1465 [00:12<00:00, 116.75it/s]\n",
      "100%|████████████████████████████████████████████████████████████████████████████████████████████████████████████████████████████████████████████████████████████████████████████████████████████████████████████████████| 1463/1463 [00:12<00:00, 119.27it/s]\n"
     ]
    }
   ],
   "source": [
    "confidences_of_val_data = get_matching_confidences(tweets_df, val_X, val_y, embedded_vector_d2)\n",
    "confidences_of_eval_data = get_matching_confidences(tweets_df, eval_X, eval_y, embedded_vector_d2)"
   ]
  },
  {
   "cell_type": "code",
   "execution_count": 155,
   "id": "7d21751b",
   "metadata": {},
   "outputs": [
    {
     "data": {
      "text/plain": [
       "Index(['tweet_id', 'airline_sentiment', 'airline_sentiment_confidence',\n",
       "       'negativereason', 'negativereason_confidence', 'airline',\n",
       "       'airline_sentiment_gold', 'name', 'negativereason_gold',\n",
       "       'retweet_count', 'text', 'tweet_coord', 'tweet_created',\n",
       "       'tweet_location', 'user_timezone'],\n",
       "      dtype='object')"
      ]
     },
     "execution_count": 155,
     "metadata": {},
     "output_type": "execute_result"
    }
   ],
   "source": [
    "tweets_df.columns"
   ]
  },
  {
   "cell_type": "markdown",
   "id": "3f8bbd9f",
   "metadata": {},
   "source": [
    "### Plot"
   ]
  },
  {
   "cell_type": "code",
   "execution_count": 29,
   "id": "95f66767",
   "metadata": {},
   "outputs": [
    {
     "name": "stdout",
     "output_type": "stream",
     "text": [
      "\n"
     ]
    },
    {
     "data": {
      "image/png": "[encoded data removed]",
      "text/plain": [
       "<Figure size 504x288 with 1 Axes>"
      ]
     },
     "metadata": {
      "needs_background": "light"
     },
     "output_type": "display_data"
    }
   ],
   "source": [
    "from matplotlib.lines import Line2D\n",
    "\n",
    "val_confs_of_patched, val_confs_of_not_patched = get_confs_of_target_patched_and_not_patched(\n",
    "    np.array(confidences_of_val_data), predictions_for_val, 1, 2, by_mean = True)\n",
    "\n",
    "eval_confs_of_patched, eval_confs_of_not_patched = get_confs_of_target_patched_and_not_patched(\n",
    "    np.array(confidences_of_eval_data), predictions_for_eval, 1, 2, by_mean = True)\n",
    "\n",
    "print ()\n",
    "median_props = {'linestyle':'-', 'color':'black'}\n",
    "meanpointprops = dict(marker='D', markeredgecolor='black', markerfacecolor='yellow')\n",
    "\n",
    "fig = plt.figure(figsize = (7,4))\n",
    "ax = fig.add_subplot(111)\n",
    "boxes = ax.boxplot([val_confs_of_patched, eval_confs_of_patched, \n",
    "                     val_confs_of_not_patched, eval_confs_of_not_patched], patch_artist = True, \n",
    "                    medianprops = median_props, meanprops = meanpointprops, showmeans = True)\n",
    "\n",
    "for patch, color in zip(boxes['boxes'], ['r', 'b', 'r', 'b']):\n",
    "    patch.set_alpha(0.4)\n",
    "    patch.set_edgecolor('k')\n",
    "    patch.set_facecolor(color)\n",
    "\n",
    "ax.set_xticks([1.5,3.5])\n",
    "ax.set_xticklabels(['Succeeding Patches', 'Failing Patches'], fontsize = 14)\n",
    "\n",
    "legend_elements = [Line2D([0], [0], color='r', lw=4, alpha = 0.4, \n",
    "                          label='validation ({:.4f})'.format(\n",
    "                              np.round(np.mean(val_confs_of_patched), decimals = 4))),\n",
    "                Line2D([0], [0], color='b', lw=4, alpha = 0.4, \n",
    "                       label='evaluation ({:.4f})'.format(\n",
    "                           np.round(np.mean(eval_confs_of_patched), decimals = 4)))]\n",
    "    \n",
    "ax.legend(handles=legend_elements, fontsize =14)\n",
    "ax.set_ylabel(\"Confidence (0~1)\", fontsize = 15)\n",
    "plt.title(\"Confidence Values of Succeeding and Failing Patches:\\nNetural(1) to Negative(2)\", fontsize = 16)\n",
    "plt.tight_layout()\n",
    "\n",
    "filepath = \"/Users/jeongju.sohn/workdir/Journals/autopatch_nn_icse20/figures/rev/rq7/conf_distr.pdf\"\n",
    "\n",
    "plt.savefig(filepath)\n",
    "plt.show()"
   ]
  }
 ],
 "metadata": {
  "kernelspec": {
   "display_name": "Python 3 (ipykernel)",
   "language": "python",
   "name": "python3"
  },
  "language_info": {
   "codemirror_mode": {
    "name": "ipython",
    "version": 3
   },
   "file_extension": ".py",
   "mimetype": "text/x-python",
   "name": "python",
   "nbconvert_exporter": "python",
   "pygments_lexer": "ipython3",
   "version": "3.9.9"
  }
 },
 "nbformat": 4,
 "nbformat_minor": 5
}
