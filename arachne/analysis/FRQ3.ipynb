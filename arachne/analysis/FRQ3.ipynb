{
 "cells": [
  {
   "cell_type": "code",
   "execution_count": 1,
   "id": "89029b8f",
   "metadata": {},
   "outputs": [],
   "source": [
    "import os, sys\n",
    "import json\n",
    "import numpy as np\n",
    "import subprocess\n",
    "import glob\n",
    "import pandas as pd\n",
    "from tqdm import tqdm"
   ]
  },
  {
   "cell_type": "code",
   "execution_count": 2,
   "id": "63f231d1",
   "metadata": {},
   "outputs": [],
   "source": [
    "sys.path.insert(0, \"../\")\n",
    "import utils.data_util as data_util"
   ]
  },
  {
   "cell_type": "code",
   "execution_count": 3,
   "id": "071497dc",
   "metadata": {},
   "outputs": [],
   "source": [
    "# change \"results\" to \"/volume1/coinse/Arachne/results/rev\"\n",
    "root_resultdir = \"/Users/jeongju.sohn/workdir/arachne/arachne/results/rq3/on_test\"\n",
    "#root_resultdir = \"/Users/jeongju.sohn/workdir/arachne/arachne/results/rq3/on_train\"\n",
    "# change \"indices\" to \"/volume1/coinse/Arachne/indices\"\n",
    "indexdir = \"/Users/jeongju.sohn/workdir/arachne/arachne/indices\"\n",
    "\n",
    "pred_dirs = {'fashion_mnist':os.path.join(root_resultdir, \"fm/pred\"),\n",
    "             'cifar10':os.path.join(root_resultdir, \"cm/pred\"),\n",
    "             'GTSRB':os.path.join(root_resultdir, \"gtsrb/pred\")}\n",
    "\n",
    "test_data_init_pred_file = {\n",
    "    'fashion_mnist':\"/Users/jeongju.sohn/workdir/arachne/arachne/indices/fm/test/fashion_mnist.init_pred.indices.csv\",\n",
    "    'cifar10':\"/Users/jeongju.sohn/workdir/arachne/arachne/indices/cm/test/cifar10.init_pred.indices.csv\",\n",
    "    'GTSRB':\"/Users/jeongju.sohn/workdir/arachne/arachne/indices/GTSRB/rq1/wo_hist/test/GTSRB.init_pred.indices.csv\"}\n",
    "\n",
    "iter_indices = np.arange(30)"
   ]
  },
  {
   "cell_type": "code",
   "execution_count": 4,
   "id": "8adfe716",
   "metadata": {},
   "outputs": [],
   "source": [
    "def get_predition_file(which, iter_idx, is_used = False):\n",
    "    \"\"\"\n",
    "    return prediction list of files \n",
    "    e.g., pred.misclf-rq3.27-8-6.eval.pkl\n",
    "    \"\"\"\n",
    "    pred_dir = pred_dirs[which]\n",
    "    postfix = \"eval\" if not is_used else \"train\"\n",
    "    found = glob.glob(os.path.join(pred_dir, \"pred.misclf-*.{}-*.{}.pkl\".format(iter_idx, postfix)))\n",
    "    assert len(found) == 1, found\n",
    "    pred_file = found[0]\n",
    "    return pred_file"
   ]
  },
  {
   "cell_type": "code",
   "execution_count": 46,
   "id": "a1a512b8",
   "metadata": {},
   "outputs": [],
   "source": [
    "def get_top_n_misclf_types(which, iter_indices = np.arange(30), is_used = False):\n",
    "    \"\"\"\n",
    "    \"\"\"\n",
    "    import re\n",
    "    pred_dir = pred_dirs[which]\n",
    "    postfix = \"eval\" if not is_used else \"train\"\n",
    "    misclf_types = {}\n",
    "    for iter_idx in iter_indices:\n",
    "        found = glob.glob(os.path.join(pred_dir, \"pred.misclf-*.{}-*.{}.pkl\".format(iter_idx, postfix)))\n",
    "        assert len(found) == 1, found\n",
    "        pred_file = found[0]\n",
    "        pred_file = os.path.basename(pred_file)\n",
    "        \n",
    "        pat = \"pred.misclf-.*.{}-([0-9]+)-([0-9]+).*.pkl\".format(iter_idx)\n",
    "        matched = re.match(pat, pred_file)\n",
    "        assert bool(matched), pat\n",
    "        \n",
    "        true_label, pred_label = matched.groups()\n",
    "        true_label = int(true_label); pred_label = int(pred_label)\n",
    "        \n",
    "        misclf_types[iter_idx] = (true_label, pred_label)\n",
    "    \n",
    "    return misclf_types"
   ]
  },
  {
   "cell_type": "code",
   "execution_count": 49,
   "id": "8106c1d1",
   "metadata": {},
   "outputs": [],
   "source": [
    "misclf_types = {}\n",
    "for data_type in ['fashion_mnist', 'cifar10', 'GTSRB']:\n",
    "    misclf_types[data_type] = get_top_n_misclf_types(data_type, is_used = True)"
   ]
  },
  {
   "cell_type": "code",
   "execution_count": 5,
   "id": "d86dc101",
   "metadata": {},
   "outputs": [],
   "source": [
    "def get_prediction(which, iter_indices = np.arange(30)):\n",
    "    \"\"\"\n",
    "    \"\"\"\n",
    "    used_init_pred = pd.read_csv(test_data_init_pred_file[which])\n",
    "    eval_init_pred = pd.read_csv(test_data_init_pred_file[which])\n",
    "\n",
    "    used_aft_pred = {}; eval_aft_pred = {}\n",
    "    for iter_idx in tqdm(iter_indices):\n",
    "        used_aft_pred_file = get_predition_file(which, iter_idx, is_used = True)\n",
    "        used_aft_df = pd.read_pickle(used_aft_pred_file)\n",
    "        used_aft_pred[iter_idx] = used_aft_df\n",
    "        \n",
    "        eval_aft_pred_file = get_predition_file(which, iter_idx, is_used = False)\n",
    "        eval_aft_df = pd.read_pickle(eval_aft_pred_file)\n",
    "        eval_aft_pred[iter_idx] = eval_aft_df\n",
    "    \n",
    "    \n",
    "    return {'init':{'used':used_init_pred, 'eval':eval_init_pred}, \n",
    "           'after':{'used':used_aft_pred, 'eval':eval_aft_pred}}"
   ]
  },
  {
   "cell_type": "code",
   "execution_count": 7,
   "id": "c3363f52",
   "metadata": {},
   "outputs": [],
   "source": [
    "def cnt_misclf(pred_df, true_cltype, pred_cltype):\n",
    "    \"\"\"\n",
    "    \"\"\"\n",
    "    num_fault = np.sum((pred_df.true == true_cltype) & (pred_df.pred == pred_cltype))\n",
    "    return num_fault"
   ]
  },
  {
   "cell_type": "code",
   "execution_count": 8,
   "id": "2b818651",
   "metadata": {},
   "outputs": [],
   "source": [
    "def get_target_misclf_pred(true_label, pred_label, pred_df):\n",
    "    \"\"\"\n",
    "    return the predictions for the top_n most frequenet misclassifications. \n",
    "    prediction_df: contain the entire prediction result\n",
    "    \"\"\"\n",
    "    cnt_init_misclf = np.sum((pred_df.true == true_label) & (pred_df.pred == pred_label))\n",
    "    cnt_aft_misclf = np.sum((pred_df.true == true_label) & (pred_df.new_pred == pred_label))\n",
    "    \n",
    "    return {'init':cnt_init_misclf, 'aft':cnt_aft_misclf}"
   ]
  },
  {
   "cell_type": "markdown",
   "id": "19878ab9",
   "metadata": {},
   "source": [
    "# Evaluation"
   ]
  },
  {
   "cell_type": "markdown",
   "id": "a7ec04d4",
   "metadata": {},
   "source": [
    "## Getting Results"
   ]
  },
  {
   "cell_type": "markdown",
   "id": "3598592a",
   "metadata": {},
   "source": [
    "### Fashion-MNIST"
   ]
  },
  {
   "cell_type": "code",
   "execution_count": 51,
   "id": "4cb70dcd",
   "metadata": {
    "scrolled": true
   },
   "outputs": [
    {
     "name": "stderr",
     "output_type": "stream",
     "text": [
      "100%|██████████████████████████████████████████████████████████████████████████████████████████████████████████████████████████████████████████████████████████████████████████████████████████████████████████████████████████████████████████| 30/30 [00:00<00:00, 352.76it/s]\n",
      "100%|██████████████████████████████████████████████████████████████████████████████████████████████████████████████████████████████████████████████████████████████████████████████████████████████████████████████████████████████████████████| 30/30 [00:00<00:00, 416.46it/s]"
     ]
    },
    {
     "name": "stdout",
     "output_type": "stream",
     "text": [
      "We are targeting (0): 6(true) -> 0(predicted)\n",
      "\tused: 65 -> 16\n",
      "\teval: 64 -> 26\n",
      "We are targeting (1): 6(true) -> 2(predicted)\n",
      "\tused: 47 -> 17\n",
      "\teval: 47 -> 27\n",
      "We are targeting (2): 2(true) -> 4(predicted)\n",
      "\tused: 43 -> 5\n",
      "\teval: 43 -> 12\n",
      "We are targeting (3): 0(true) -> 6(predicted)\n",
      "\tused: 42 -> 15\n",
      "\teval: 42 -> 11\n",
      "We are targeting (4): 4(true) -> 2(predicted)\n",
      "\tused: 38 -> 10\n",
      "\teval: 37 -> 14\n",
      "We are targeting (5): 6(true) -> 4(predicted)\n",
      "\tused: 35 -> 17\n",
      "\teval: 34 -> 21\n",
      "We are targeting (6): 2(true) -> 6(predicted)\n",
      "\tused: 31 -> 10\n",
      "\teval: 31 -> 13\n",
      "We are targeting (7): 4(true) -> 6(predicted)\n",
      "\tused: 24 -> 8\n",
      "\teval: 24 -> 10\n",
      "We are targeting (8): 9(true) -> 7(predicted)\n",
      "\tused: 20 -> 4\n",
      "\teval: 20 -> 9\n",
      "We are targeting (9): 6(true) -> 3(predicted)\n",
      "\tused: 16 -> 10\n",
      "\teval: 16 -> 10\n",
      "We are targeting (10): 3(true) -> 6(predicted)\n",
      "\tused: 16 -> 10\n",
      "\teval: 15 -> 8\n",
      "We are targeting (11): 0(true) -> 3(predicted)\n",
      "\tused: 15 -> 8\n",
      "\teval: 14 -> 3\n",
      "We are targeting (12): 4(true) -> 3(predicted)\n",
      "\tused: 13 -> 4\n",
      "\teval: 12 -> 4\n",
      "We are targeting (13): 3(true) -> 4(predicted)\n",
      "\tused: 12 -> 7\n",
      "\teval: 12 -> 8\n",
      "We are targeting (14): 1(true) -> 3(predicted)\n",
      "\tused: 10 -> 1\n",
      "\teval: 10 -> 5\n",
      "We are targeting (15): 5(true) -> 7(predicted)\n",
      "\tused: 9 -> 5\n",
      "\teval: 8 -> 6\n",
      "We are targeting (16): 3(true) -> 0(predicted)\n",
      "\tused: 9 -> 7\n",
      "\teval: 9 -> 6\n",
      "We are targeting (17): 2(true) -> 0(predicted)\n",
      "\tused: 9 -> 9\n",
      "\teval: 8 -> 8\n",
      "We are targeting (18): 7(true) -> 9(predicted)\n",
      "\tused: 8 -> 2\n",
      "\teval: 7 -> 2\n",
      "We are targeting (19): 7(true) -> 5(predicted)\n",
      "\tused: 7 -> 1\n",
      "\teval: 7 -> 5\n",
      "We are targeting (20): 2(true) -> 3(predicted)\n",
      "\tused: 7 -> 4\n",
      "\teval: 6 -> 6\n",
      "We are targeting (21): 9(true) -> 5(predicted)\n",
      "\tused: 7 -> 0\n",
      "\teval: 7 -> 2\n",
      "We are targeting (22): 0(true) -> 2(predicted)\n",
      "\tused: 6 -> 5\n",
      "\teval: 6 -> 5\n",
      "We are targeting (23): 5(true) -> 9(predicted)\n",
      "\tused: 5 -> 3\n",
      "\teval: 5 -> 3\n",
      "We are targeting (24): 6(true) -> 8(predicted)\n",
      "\tused: 5 -> 5\n",
      "\teval: 5 -> 10\n",
      "We are targeting (25): 3(true) -> 2(predicted)\n",
      "\tused: 4 -> 4\n",
      "\teval: 4 -> 4\n",
      "We are targeting (26): 0(true) -> 8(predicted)\n",
      "\tused: 4 -> 1\n",
      "\teval: 3 -> 2\n",
      "We are targeting (27): 8(true) -> 6(predicted)\n",
      "\tused: 4 -> 1\n",
      "\teval: 3 -> 0\n",
      "We are targeting (28): 3(true) -> 1(predicted)\n",
      "\tused: 3 -> 0\n",
      "\teval: 2 -> 1\n",
      "We are targeting (29): 8(true) -> 4(predicted)\n",
      "\tused: 3 -> 3\n",
      "\teval: 2 -> 2\n"
     ]
    },
    {
     "name": "stderr",
     "output_type": "stream",
     "text": [
      "\n"
     ]
    }
   ],
   "source": [
    "which = 'fashion_mnist'\n",
    "fm_predictions = get_prediction(which, iter_indices = np.arange(30))\n",
    "\n",
    "fm_misclf_cnts = {'used':[], 'eval':[]}\n",
    "fm_misclf_types = {}\n",
    "for iter_idx in tqdm(np.arange(30)):\n",
    "    top_n = iter_idx\n",
    "    #misclf_key,_,_,_ = data_util.gen_data_for_rq3(test_data_init_pred_file[which], top_n, idx = 0)\n",
    "    misclf_key = misclf_types[which][iter_idx]\n",
    "    \n",
    "    true_label, pred_label = misclf_key\n",
    "    fm_misclf_types[iter_idx] = misclf_key\n",
    "    \n",
    "    # logging\n",
    "    print (\"We are targeting ({}): {}(true) -> {}(predicted)\".format(iter_idx, true_label, pred_label))\n",
    "    \n",
    "    # used\n",
    "    used_cnts = get_target_misclf_pred(true_label, pred_label, fm_predictions['after']['used'][top_n])\n",
    "    \n",
    "    # eval\n",
    "    eval_cnts = get_target_misclf_pred(true_label, pred_label, fm_predictions['after']['eval'][top_n])\n",
    "    \n",
    "    print (\"\\tused: {} -> {}\".format(used_cnts['init'], used_cnts['aft']))\n",
    "    print (\"\\teval: {} -> {}\".format(eval_cnts['init'], eval_cnts['aft']))\n",
    "    \n",
    "    fm_misclf_cnts['used'].append([used_cnts['init'], used_cnts['aft']])\n",
    "    fm_misclf_cnts['eval'].append([eval_cnts['init'], eval_cnts['aft']])\n",
    "    "
   ]
  },
  {
   "cell_type": "markdown",
   "id": "4da60220",
   "metadata": {},
   "source": [
    "### CIFAR-10"
   ]
  },
  {
   "cell_type": "code",
   "execution_count": 52,
   "id": "55b2bb99",
   "metadata": {
    "scrolled": true
   },
   "outputs": [
    {
     "name": "stderr",
     "output_type": "stream",
     "text": [
      "100%|██████████████████████████████████████████████████████████████████████████████████████████████████████████████████████████████████████████████████████████████████████████████████████████████████████████████████████████████████████████| 30/30 [00:00<00:00, 314.87it/s]\n",
      "100%|██████████████████████████████████████████████████████████████████████████████████████████████████████████████████████████████████████████████████████████████████████████████████████████████████████████████████████████████████████████| 30/30 [00:00<00:00, 475.67it/s]"
     ]
    },
    {
     "name": "stdout",
     "output_type": "stream",
     "text": [
      "We are targeting (0): 3(true) -> 5(predicted)\n",
      "\tused: 104 -> 18\n",
      "\teval: 104 -> 30\n",
      "We are targeting (1): 5(true) -> 3(predicted)\n",
      "\tused: 68 -> 33\n",
      "\teval: 68 -> 29\n",
      "We are targeting (2): 2(true) -> 6(predicted)\n",
      "\tused: 53 -> 25\n",
      "\teval: 53 -> 28\n",
      "We are targeting (3): 2(true) -> 4(predicted)\n",
      "\tused: 52 -> 18\n",
      "\teval: 52 -> 16\n",
      "We are targeting (4): 2(true) -> 5(predicted)\n",
      "\tused: 50 -> 20\n",
      "\teval: 49 -> 25\n",
      "We are targeting (5): 3(true) -> 6(predicted)\n",
      "\tused: 50 -> 23\n",
      "\teval: 49 -> 24\n",
      "We are targeting (6): 1(true) -> 9(predicted)\n",
      "\tused: 45 -> 10\n",
      "\teval: 45 -> 23\n",
      "We are targeting (7): 4(true) -> 6(predicted)\n",
      "\tused: 41 -> 19\n",
      "\teval: 40 -> 20\n",
      "We are targeting (8): 9(true) -> 1(predicted)\n",
      "\tused: 41 -> 10\n",
      "\teval: 41 -> 9\n",
      "We are targeting (9): 0(true) -> 8(predicted)\n",
      "\tused: 41 -> 13\n",
      "\teval: 40 -> 17\n",
      "We are targeting (10): 2(true) -> 0(predicted)\n",
      "\tused: 40 -> 12\n",
      "\teval: 40 -> 15\n",
      "We are targeting (11): 4(true) -> 7(predicted)\n",
      "\tused: 39 -> 8\n",
      "\teval: 39 -> 8\n",
      "We are targeting (12): 3(true) -> 4(predicted)\n",
      "\tused: 38 -> 29\n",
      "\teval: 37 -> 32\n",
      "We are targeting (13): 7(true) -> 5(predicted)\n",
      "\tused: 31 -> 27\n",
      "\teval: 31 -> 25\n",
      "We are targeting (14): 5(true) -> 7(predicted)\n",
      "\tused: 31 -> 22\n",
      "\teval: 31 -> 26\n",
      "We are targeting (15): 4(true) -> 3(predicted)\n",
      "\tused: 28 -> 12\n",
      "\teval: 28 -> 17\n",
      "We are targeting (16): 8(true) -> 0(predicted)\n",
      "\tused: 25 -> 13\n",
      "\teval: 24 -> 17\n",
      "We are targeting (17): 0(true) -> 9(predicted)\n",
      "\tused: 25 -> 12\n",
      "\teval: 25 -> 19\n",
      "We are targeting (18): 4(true) -> 5(predicted)\n",
      "\tused: 24 -> 13\n",
      "\teval: 23 -> 16\n",
      "We are targeting (19): 2(true) -> 3(predicted)\n",
      "\tused: 23 -> 14\n",
      "\teval: 23 -> 20\n",
      "We are targeting (20): 6(true) -> 3(predicted)\n",
      "\tused: 22 -> 12\n",
      "\teval: 21 -> 11\n",
      "We are targeting (21): 5(true) -> 4(predicted)\n",
      "\tused: 22 -> 16\n",
      "\teval: 21 -> 18\n",
      "We are targeting (22): 8(true) -> 1(predicted)\n",
      "\tused: 21 -> 9\n",
      "\teval: 20 -> 10\n",
      "We are targeting (23): 3(true) -> 7(predicted)\n",
      "\tused: 21 -> 20\n",
      "\teval: 20 -> 18\n",
      "We are targeting (24): 2(true) -> 7(predicted)\n",
      "\tused: 20 -> 19\n",
      "\teval: 19 -> 21\n",
      "We are targeting (25): 7(true) -> 3(predicted)\n",
      "\tused: 20 -> 10\n",
      "\teval: 19 -> 14\n",
      "We are targeting (26): 6(true) -> 4(predicted)\n",
      "\tused: 19 -> 9\n",
      "\teval: 18 -> 10\n",
      "We are targeting (27): 5(true) -> 6(predicted)\n",
      "\tused: 18 -> 13\n",
      "\teval: 17 -> 11\n",
      "We are targeting (28): 7(true) -> 4(predicted)\n",
      "\tused: 18 -> 9\n",
      "\teval: 17 -> 10\n",
      "We are targeting (29): 8(true) -> 9(predicted)\n",
      "\tused: 17 -> 7\n",
      "\teval: 17 -> 10\n"
     ]
    },
    {
     "name": "stderr",
     "output_type": "stream",
     "text": [
      "\n"
     ]
    }
   ],
   "source": [
    "which = 'cifar10'\n",
    "c10_predictions = get_prediction(which, iter_indices = np.arange(30))\n",
    "\n",
    "c10_misclf_cnts = {'used':[], 'eval':[]}; \n",
    "c10_misclf_types = {}\n",
    "\n",
    "for iter_idx in tqdm(np.arange(30)):\n",
    "    top_n = iter_idx\n",
    "    #misclf_key,_,_,_ = data_util.gen_data_for_rq3(test_data_init_pred_file[which], top_n, idx = 0) \n",
    "    misclf_key = misclf_types[which][iter_idx]\n",
    "    true_label, pred_label = misclf_key\n",
    "    c10_misclf_types[iter_idx] = misclf_key\n",
    "    \n",
    "    # logging\n",
    "    print (\"We are targeting ({}): {}(true) -> {}(predicted)\".format(iter_idx, true_label, pred_label))\n",
    "    \n",
    "    # used\n",
    "    used_cnts = get_target_misclf_pred(true_label, pred_label, c10_predictions['after']['used'][top_n])\n",
    "    \n",
    "    # eval\n",
    "    eval_cnts = get_target_misclf_pred(true_label, pred_label, c10_predictions['after']['eval'][top_n])\n",
    "    \n",
    "    print (\"\\tused: {} -> {}\".format(used_cnts['init'], used_cnts['aft']))\n",
    "    print (\"\\teval: {} -> {}\".format(eval_cnts['init'], eval_cnts['aft']))\n",
    "    \n",
    "    c10_misclf_cnts['used'].append([used_cnts['init'], used_cnts['aft']])\n",
    "    c10_misclf_cnts['eval'].append([eval_cnts['init'], eval_cnts['aft']])\n",
    "     "
   ]
  },
  {
   "cell_type": "markdown",
   "id": "49f1e80b",
   "metadata": {},
   "source": [
    "### GTSBR"
   ]
  },
  {
   "cell_type": "markdown",
   "id": "2437b4b6",
   "metadata": {},
   "source": [
    "Note: it could be interesting to investigate which types of misclassifications have been repaired the most by patches.\n",
    "Unlike Fashion Mnist and CIFAR-10, we might get explainable results or interesting/applicable results here, beacause, for GTSBR, the trend of the repair rate for specific type of misclassification does not follow the frequency rate: e.g., for 6(true) -> 42(predicted), almost all misclassifications with this type were fixed, whereas 2(true) -> 3(predicted), none of them are fixed. \n",
    "\n",
    "Seems like we can do some case study here. For example, 18 (true) -> 19 (pred), which means predicting other danger sign to left reverse bend sign, \n",
    "or 25(true) -> 20(predicte), which means construction sign to right road ..? "
   ]
  },
  {
   "cell_type": "code",
   "execution_count": 53,
   "id": "00d210b7",
   "metadata": {
    "scrolled": true
   },
   "outputs": [
    {
     "name": "stderr",
     "output_type": "stream",
     "text": [
      "100%|██████████████████████████████████████████████████████████████████████████████████████████████████████████████████████████████████████████████████████████████████████████████████████████████████████████████████████████████████████████| 30/30 [00:00<00:00, 326.58it/s]\n",
      "100%|██████████████████████████████████████████████████████████████████████████████████████████████████████████████████████████████████████████████████████████████████████████████████████████████████████████████████████████████████████████| 30/30 [00:00<00:00, 426.57it/s]"
     ]
    },
    {
     "name": "stdout",
     "output_type": "stream",
     "text": [
      "We are targeting (0): 7(true) -> 8(predicted)\n",
      "\tused: 17 -> 8\n",
      "\teval: 17 -> 9\n",
      "We are targeting (1): 41(true) -> 9(predicted)\n",
      "\tused: 16 -> 13\n",
      "\teval: 16 -> 12\n",
      "We are targeting (2): 30(true) -> 31(predicted)\n",
      "\tused: 14 -> 7\n",
      "\teval: 13 -> 6\n",
      "We are targeting (3): 23(true) -> 31(predicted)\n",
      "\tused: 13 -> 0\n",
      "\teval: 12 -> 1\n",
      "We are targeting (4): 17(true) -> 38(predicted)\n",
      "\tused: 13 -> 14\n",
      "\teval: 13 -> 15\n",
      "We are targeting (5): 6(true) -> 5(predicted)\n",
      "\tused: 12 -> 1\n",
      "\teval: 11 -> 1\n",
      "We are targeting (6): 18(true) -> 21(predicted)\n",
      "\tused: 11 -> 2\n",
      "\teval: 11 -> 1\n",
      "We are targeting (7): 19(true) -> 31(predicted)\n",
      "\tused: 11 -> 10\n",
      "\teval: 11 -> 11\n",
      "We are targeting (8): 6(true) -> 42(predicted)\n",
      "\tused: 11 -> 1\n",
      "\teval: 10 -> 0\n",
      "We are targeting (9): 2(true) -> 3(predicted)\n",
      "\tused: 11 -> 11\n",
      "\teval: 11 -> 11\n",
      "We are targeting (10): 21(true) -> 42(predicted)\n",
      "\tused: 11 -> 5\n",
      "\teval: 11 -> 5\n",
      "We are targeting (11): 8(true) -> 5(predicted)\n",
      "\tused: 10 -> 8\n",
      "\teval: 10 -> 9\n",
      "We are targeting (12): 17(true) -> 14(predicted)\n",
      "\tused: 10 -> 1\n",
      "\teval: 10 -> 3\n",
      "We are targeting (13): 3(true) -> 5(predicted)\n",
      "\tused: 10 -> 7\n",
      "\teval: 10 -> 10\n",
      "We are targeting (14): 4(true) -> 1(predicted)\n",
      "\tused: 10 -> 5\n",
      "\teval: 9 -> 3\n",
      "We are targeting (15): 8(true) -> 7(predicted)\n",
      "\tused: 10 -> 5\n",
      "\teval: 9 -> 6\n",
      "We are targeting (16): 0(true) -> 1(predicted)\n",
      "\tused: 10 -> 7\n",
      "\teval: 10 -> 7\n",
      "We are targeting (17): 25(true) -> 28(predicted)\n",
      "\tused: 9 -> 1\n",
      "\teval: 8 -> 2\n",
      "We are targeting (18): 12(true) -> 38(predicted)\n",
      "\tused: 9 -> 3\n",
      "\teval: 9 -> 2\n",
      "We are targeting (19): 25(true) -> 20(predicted)\n",
      "\tused: 9 -> 0\n",
      "\teval: 8 -> 3\n",
      "We are targeting (20): 2(true) -> 1(predicted)\n",
      "\tused: 7 -> 2\n",
      "\teval: 6 -> 3\n",
      "We are targeting (21): 26(true) -> 18(predicted)\n",
      "\tused: 6 -> 2\n",
      "\teval: 6 -> 3\n",
      "We are targeting (22): 9(true) -> 3(predicted)\n",
      "\tused: 6 -> 5\n",
      "\teval: 6 -> 6\n",
      "We are targeting (23): 7(true) -> 9(predicted)\n",
      "\tused: 6 -> 4\n",
      "\teval: 5 -> 4\n",
      "We are targeting (24): 7(true) -> 5(predicted)\n",
      "\tused: 6 -> 5\n",
      "\teval: 5 -> 6\n",
      "We are targeting (25): 4(true) -> 7(predicted)\n",
      "\tused: 6 -> 5\n",
      "\teval: 5 -> 4\n",
      "We are targeting (26): 28(true) -> 23(predicted)\n",
      "\tused: 6 -> 1\n",
      "\teval: 5 -> 1\n",
      "We are targeting (27): 26(true) -> 25(predicted)\n",
      "\tused: 6 -> 9\n",
      "\teval: 5 -> 9\n",
      "We are targeting (28): 5(true) -> 8(predicted)\n",
      "\tused: 5 -> 3\n",
      "\teval: 4 -> 4\n",
      "We are targeting (29): 5(true) -> 2(predicted)\n",
      "\tused: 5 -> 1\n",
      "\teval: 5 -> 2\n"
     ]
    },
    {
     "name": "stderr",
     "output_type": "stream",
     "text": [
      "\n"
     ]
    }
   ],
   "source": [
    "which = 'GTSRB'\n",
    "gtsrb_predictions = get_prediction(which, iter_indices = np.arange(30))\n",
    "\n",
    "gtsrb_misclf_cnts = {'used':[], 'eval':[]}\n",
    "gtsrb_misclf_types = {}\n",
    "for iter_idx in tqdm(np.arange(30)):\n",
    "    top_n = iter_idx\n",
    "    #misclf_key,_,_,_ = data_util.gen_data_for_rq3(test_data_init_pred_file[which], top_n, idx = 0) \n",
    "    misclf_key = misclf_types[which][iter_idx]\n",
    "    true_label, pred_label = misclf_key\n",
    "    gtsrb_misclf_types[iter_idx] = misclf_key\n",
    "    \n",
    "    # logging\n",
    "    print (\"We are targeting ({}): {}(true) -> {}(predicted)\".format(iter_idx, true_label, pred_label))\n",
    "    \n",
    "    # used\n",
    "    used_cnts = get_target_misclf_pred(true_label, pred_label, gtsrb_predictions['after']['used'][top_n])\n",
    "    \n",
    "    # eval\n",
    "    eval_cnts = get_target_misclf_pred(true_label, pred_label, gtsrb_predictions['after']['eval'][top_n])\n",
    "    \n",
    "    print (\"\\tused: {} -> {}\".format(used_cnts['init'], used_cnts['aft']))\n",
    "    print (\"\\teval: {} -> {}\".format(eval_cnts['init'], eval_cnts['aft']))\n",
    "    \n",
    "    gtsrb_misclf_cnts['used'].append([used_cnts['init'], used_cnts['aft']])\n",
    "    gtsrb_misclf_cnts['eval'].append([eval_cnts['init'], eval_cnts['aft']])\n",
    "    "
   ]
  },
  {
   "cell_type": "markdown",
   "id": "b36ba65f",
   "metadata": {},
   "source": [
    "## Plot"
   ]
  },
  {
   "cell_type": "code",
   "execution_count": 161,
   "id": "e898e5c5",
   "metadata": {},
   "outputs": [],
   "source": [
    "def plot_generalisability_in_one(changes, \n",
    "                                 misclf_keys_per_data,  \n",
    "                                 iter_indices = np.arange(30), \n",
    "                                 top_n = 10, figsize = (8,6),\n",
    "                                 title = None, filepath = None):\n",
    "    \"\"\"\n",
    "    \"\"\"\n",
    "    import numpy as np\n",
    "    import matplotlib.pyplot as plt\n",
    "    import matplotlib.patches as patches\n",
    "    \n",
    "    fig = plt.figure(figsize = figsize)\n",
    "    axes = []\n",
    "    for i in range(1,7):\n",
    "        #ax = fig.add_subplot(1,4,i)\n",
    "        ax = fig.add_subplot(3,2,i)\n",
    "        axes.append(ax)\n",
    "        \n",
    "    \n",
    "    colors = ['blue', 'navy', 'forestgreen', 'darkgreen', 'goldenrod', 'darkgoldenrod']\n",
    "    data_types = [('fm','used'), ('fm','eval'),\n",
    "            ('c10','used'), ('c10','eval'),\n",
    "            ('gtsrb','used'),('gtsrb','eval')]\n",
    "    \n",
    "    for i, data_type in enumerate(data_types):\n",
    "        misclf_keys = misclf_keys_per_data[data_type[0]]\n",
    "        \n",
    "        ax = axes[i]\n",
    "        curr_changes = changes[data_type[0]][data_type[1]]\n",
    "        color = colors[i]\n",
    "        \n",
    "        max_v = np.max(curr_changes[:top_n])\n",
    "        min_v = np.min(curr_changes[:top_n])\n",
    "    \n",
    "        ax.set_xlim(0, len(iter_indices) + 0.5)\n",
    "        space = (max_v - 0)/30\n",
    "    \n",
    "        ax.set_ylim(np.min(min_v - space * 2,0), max_v + space * 2)\n",
    "    \n",
    "        iter_indices = np.asarray(iter_indices)\n",
    "        xs = iter_indices + 0.5\n",
    "        \n",
    "        width = 0.7; height = (max_v-0)/30       \n",
    "        \n",
    "        for j,(cnt_init, cnt_aft) in enumerate(curr_changes[:top_n]):\n",
    "            rect_1 = patches.Rectangle(xy=(xs[j], cnt_init), edgecolor = color, facecolor = color,\n",
    "                                   alpha = 0.3, width=width, height=height, fill = True)\n",
    "\n",
    "            rect_2 = patches.Rectangle(xy=(xs[j], cnt_aft),edgecolor = color, facecolor = color,\n",
    "                                   width=width, height=height, fill = True)\n",
    "        \n",
    "            ax.add_patch(rect_1); ax.add_patch(rect_2)\n",
    "            \n",
    "            dx = 0; dy = np.min(cnt_aft - cnt_init + height*2, 0)\n",
    "            if dy < 0:\n",
    "                ax.arrow(xs[j]+width/2, cnt_init, dx, dy, head_width=width/4, head_length=height, fc='k', ec='k')\n",
    "            else:\n",
    "                dy = np.min(cnt_aft - cnt_init + height)\n",
    "                ax.arrow(xs[j]+width/2, cnt_init, dx, dy, head_width=0, head_length=0, fc='k', ec='k')\n",
    "\n",
    "        ax.set_xticks(xs + width/2)\n",
    "        ftypes = [str(misclf_keys[iter_idx][0]) + r'$\\rightarrow$' + str(misclf_keys[iter_idx][1]) \n",
    "                for iter_idx in np.arange(top_n)]\n",
    "        ax.set_xticklabels(ftypes, rotation = 90,fontsize = 16)\n",
    "        #ax.set_xticklabels(iter_indices)\n",
    "    \n",
    "        minor_ticks = xs -1 + width + width/4\n",
    "        ax.set_xticks(minor_ticks, minor=True)\n",
    "    \n",
    "        #ax.set_xlabel(\"Top {} faults\".format(top_n), fontsize = 18)\n",
    "        if i == 0:\n",
    "            ax.set_ylabel(\"# of faults\", fontsize = 18)\n",
    "    \n",
    "        ax.tick_params(axis='both', which='major', labelsize=16)\n",
    "    \n",
    "        ax.grid(which='minor', axis='x', zorder = 100)\n",
    "        ax.grid(which='major', axis='y', zorder = 100)\n",
    "        #plt.rc('axes', axisbelow=True)\n",
    "\n",
    "        if data_type[0] == 'c10':\n",
    "            sub_title = \"CIFAR-10 ({})\".format(data_type[1])\n",
    "        elif data_type[0] == 'fm':\n",
    "            sub_title = \"Fashion MNIST ({})\".format(data_type[1])\n",
    "        else:\n",
    "            sub_title = \"GTSRB ({})\".format(data_type[1])\n",
    "            \n",
    "        ax.set_title(sub_title, fontsize = 18)\n",
    "    \n",
    "    plt.tight_layout()\n",
    "    if filepath is not None:\n",
    "        plt.savefig(filepath)\n",
    "    \n",
    "    plt.show()\n",
    "    "
   ]
  },
  {
   "cell_type": "code",
   "execution_count": 204,
   "id": "10ed9f22",
   "metadata": {},
   "outputs": [],
   "source": [
    "def plot_generalisability(changes, \n",
    "                                 misclf_keys_per_data,  \n",
    "                                 iter_indices = np.arange(30), \n",
    "                                 top_n = 10, figsize = (8,6),\n",
    "                                 title = None, filepaths = None):\n",
    "    \"\"\"\n",
    "    \"\"\"\n",
    "    import numpy as np\n",
    "    import matplotlib.pyplot as plt\n",
    "    import matplotlib.patches as patches\n",
    "    \n",
    "    colors = ['blue', 'navy', 'forestgreen', 'darkgreen', 'goldenrod', 'darkgoldenrod']\n",
    "    data_types = [('fm','used'), ('fm','eval'),\n",
    "            ('c10','used'), ('c10','eval'),\n",
    "            ('gtsrb','used'),('gtsrb','eval')]\n",
    "    \n",
    "    for i, data_type in enumerate(data_types):\n",
    "        fig = plt.figure(figsize = figsize)\n",
    "        ax = fig.add_subplot(111)\n",
    "        \n",
    "        misclf_keys = misclf_keys_per_data[data_type[0]]\n",
    "        curr_changes = changes[data_type[0]][data_type[1]]\n",
    "        color = colors[i]\n",
    "        \n",
    "        max_v = np.max(curr_changes[:top_n])\n",
    "        min_v = np.min(curr_changes[:top_n])\n",
    "    \n",
    "        ax.set_xlim(0, len(iter_indices) + 0.5)\n",
    "        space = (max_v - 0)/30\n",
    "    \n",
    "        ax.set_ylim(np.min(min_v - space * 2,0), max_v + space * 2)\n",
    "    \n",
    "        iter_indices = np.asarray(iter_indices)\n",
    "        xs = iter_indices + 0.5\n",
    "        \n",
    "        width = 0.7; height = (max_v-0)/30       \n",
    "        \n",
    "        for j,(cnt_init, cnt_aft) in enumerate(curr_changes[:top_n]):\n",
    "            rect_1 = patches.Rectangle(xy=(xs[j], cnt_init), edgecolor = color, facecolor = color,\n",
    "                                   alpha = 0.3, width=width, height=height, fill = True)\n",
    "\n",
    "            rect_2 = patches.Rectangle(xy=(xs[j], cnt_aft),edgecolor = color, facecolor = color,\n",
    "                                   width=width, height=height, fill = True)\n",
    "        \n",
    "            ax.add_patch(rect_1); ax.add_patch(rect_2)\n",
    "            \n",
    "            dx = 0; dy = np.min(cnt_aft - cnt_init + height*2, 0)\n",
    "            if dy < 0:\n",
    "                ax.arrow(xs[j]+width/2, cnt_init, dx, dy, head_width=width/4, head_length=height, fc='k', ec='k')\n",
    "            else:\n",
    "                dy = np.min(cnt_aft - cnt_init + height)\n",
    "                ax.arrow(xs[j]+width/2, cnt_init, dx, dy, head_width=0, head_length=0, fc='k', ec='k')\n",
    "\n",
    "        ax.set_xticks(xs + width/2)\n",
    "        ftypes = [str(misclf_keys[iter_idx][0]) + r'$\\rightarrow$' + str(misclf_keys[iter_idx][1]) \n",
    "                for iter_idx in np.arange(top_n)]\n",
    "        \n",
    "        ax.set_xticklabels(ftypes) #, fontsize = 10)\n",
    "        #ax.set_xticklabels(iter_indices)\n",
    "    \n",
    "        minor_ticks = xs -1 + width + width/4\n",
    "        ax.set_xticks(minor_ticks, minor=True)\n",
    "    \n",
    "        #ax.set_xlabel(\"Top {} faults\".format(top_n), fontsize = 18)\n",
    "        ax.set_ylabel(\"# of faults\", fontsize = 18)\n",
    "    \n",
    "        ax.tick_params(axis='both', which='major', labelsize=12)\n",
    "    \n",
    "        ax.grid(which='minor', axis='x', zorder = 100)\n",
    "        ax.grid(which='major', axis='y', zorder = 100)\n",
    "        #plt.rc('axes', axisbelow=True)\n",
    "\n",
    "        if data_type[0] == 'c10':\n",
    "            sub_title = \"CIFAR-10 ({})\".format(data_type[1])\n",
    "        elif data_type[0] == 'fm':\n",
    "            sub_title = \"Fashion MNIST ({})\".format(data_type[1])\n",
    "        else:\n",
    "            sub_title = \"GTSRB ({})\".format(data_type[1])\n",
    "            \n",
    "        #ax.set_title(sub_title, fontsize = 18)\n",
    "    \n",
    "        plt.tight_layout()\n",
    "        if filepaths is not None:\n",
    "            plt.savefig(filepaths[data_type[0]][data_type[1]])\n",
    "    "
   ]
  },
  {
   "cell_type": "code",
   "execution_count": 162,
   "id": "dfca4a0c",
   "metadata": {
    "scrolled": true
   },
   "outputs": [
    {
     "data": {
      "image/png": "[encoded data removed]",
      "text/plain": [
       "<Figure size 864x1080 with 6 Axes>"
      ]
     },
     "metadata": {
      "needs_background": "light"
     },
     "output_type": "display_data"
    }
   ],
   "source": [
    "changes_per_proj = {'c10':c10_misclf_cnts, \n",
    "                    'fm':fm_misclf_cnts, \n",
    "                    'gtsrb':gtsrb_misclf_cnts}\n",
    "\n",
    "misclf_keys_per_proj = {'c10':c10_misclf_types, 'fm':fm_misclf_types, 'gtsrb':gtsrb_misclf_types}\n",
    "\n",
    "filepath = \"/Users/jeongju.sohn/workdir/Journals/autopatch_nn_icse20/figures/rev/rq3/chg_in_all.pdf\"\n",
    "plot_generalisability_in_one(\n",
    "    changes_per_proj, \n",
    "    misclf_keys_per_proj,  \n",
    "    iter_indices = np.arange(10), # for top 10 (we have 30 in total, though)\n",
    "    top_n = 10, figsize = (12,15), \n",
    "    title = None, filepath = filepath)"
   ]
  },
  {
   "cell_type": "code",
   "execution_count": 205,
   "id": "ed9a8d0d",
   "metadata": {},
   "outputs": [
    {
     "data": {
      "image/png": "[encoded data removed]",
      "text/plain": [
       "<Figure size 648x288 with 1 Axes>"
      ]
     },
     "metadata": {
      "needs_background": "light"
     },
     "output_type": "display_data"
    },
    {
     "data": {
      "image/png": "[encoded data removed]",
      "text/plain": [
       "<Figure size 648x288 with 1 Axes>"
      ]
     },
     "metadata": {
      "needs_background": "light"
     },
     "output_type": "display_data"
    },
    {
     "data": {
      "image/png": "[encoded data removed]",
      "text/plain": [
       "<Figure size 648x288 with 1 Axes>"
      ]
     },
     "metadata": {
      "needs_background": "light"
     },
     "output_type": "display_data"
    },
    {
     "data": {
      "image/png": "[encoded data removed]",
      "text/plain": [
       "<Figure size 648x288 with 1 Axes>"
      ]
     },
     "metadata": {
      "needs_background": "light"
     },
     "output_type": "display_data"
    },
    {
     "data": {
      "image/png": "[encoded data removed]",
      "text/plain": [
       "<Figure size 648x288 with 1 Axes>"
      ]
     },
     "metadata": {
      "needs_background": "light"
     },
     "output_type": "display_data"
    },
    {
     "data": {
      "image/png": "[encoded data removed]",
      "text/plain": [
       "<Figure size 648x288 with 1 Axes>"
      ]
     },
     "metadata": {
      "needs_background": "light"
     },
     "output_type": "display_data"
    }
   ],
   "source": [
    "dest = \"/Users/jeongju.sohn/workdir/Journals/autopatch_nn_icse20/figures/rev/rq3\"\n",
    "\n",
    "filepaths = {}\n",
    "for k in changes_per_proj.keys():\n",
    "    filepaths[k] = {}\n",
    "    for usage in changes_per_proj[k].keys():\n",
    "        filepaths[k][usage] = os.path.join(dest, \"{}_{}.pdf\".format(k, usage))\n",
    "        \n",
    "        \n",
    "plot_generalisability(\n",
    "    changes_per_proj, \n",
    "    misclf_keys_per_proj,  \n",
    "    iter_indices = np.arange(10), # for top 10 (we have 30 in total, though)\n",
    "    top_n = 10, figsize = (9,4), \n",
    "    title = None, filepaths = filepaths)"
   ]
  },
  {
   "cell_type": "markdown",
   "id": "b9f0b2ac",
   "metadata": {},
   "source": [
    "## Tables"
   ]
  },
  {
   "cell_type": "markdown",
   "id": "b221aec9",
   "metadata": {},
   "source": [
    "### Changes in # of incorrect inputs"
   ]
  },
  {
   "cell_type": "code",
   "execution_count": 115,
   "id": "be9b008b",
   "metadata": {},
   "outputs": [],
   "source": [
    "def print_out_cnt(misclfs, changes, top_n = 10):\n",
    "    \"\"\"\n",
    "    changes -> expect to be from a single dataset\n",
    "    \"\"\"\n",
    "    assert all(list(map(lambda v: v in ['used', 'eval'], changes.keys()))), list(changes.keys()) \n",
    "    if misclfs is not None:\n",
    "        misclf_line = \"& fault\"\n",
    "        for misclf in misclfs[:top_n]:\n",
    "            line = \"${} \\\\rightarrow {}$\".format(misclf[0], misclf[1])\n",
    "            misclf_line += \" & \" + line \n",
    "            \n",
    "        misclf_line += \"\\\\\\\\\"\n",
    "        print (misclf_line)\n",
    "        print ()\n",
    "    \n",
    "    # for actual value\n",
    "    lines = {'used':\"& used\", 'eval':\"& eval\"}\n",
    "    for key in ['used', 'eval']:\n",
    "        for change in changes[key][:top_n]:\n",
    "            init_cnt, aft_cnt = change\n",
    "            ratio = (init_cnt - aft_cnt)/init_cnt\n",
    "            #lines[key] += \"& {} (\\\\Numptwo{\".format(init_cnt-aft_cnt) + str(ratio) + \"\\}\\)\"\n",
    "            lines[key] += \" & \" + str(init_cnt-aft_cnt) + \" (\\\\Numptwo{\" + str(ratio) + \"}) \"\n",
    "    \n",
    "    lines['used'] += \"\\\\\\\\\"\n",
    "    lines['eval'] += \"\\\\\\\\\"\n",
    "    \n",
    "    print (lines['used'])\n",
    "    print ()\n",
    "    print (lines['eval'])"
   ]
  },
  {
   "cell_type": "code",
   "execution_count": 122,
   "id": "ff16f0de",
   "metadata": {},
   "outputs": [
    {
     "data": {
      "text/plain": [
       "dict_keys(['c10', 'fm', 'gtsrb'])"
      ]
     },
     "execution_count": 122,
     "metadata": {},
     "output_type": "execute_result"
    }
   ],
   "source": [
    "misclf_keys_per_proj.keys()"
   ]
  },
  {
   "cell_type": "code",
   "execution_count": 127,
   "id": "61d3d38f",
   "metadata": {},
   "outputs": [
    {
     "name": "stdout",
     "output_type": "stream",
     "text": [
      "& fault & $6 \\rightarrow 0$ & $6 \\rightarrow 2$ & $2 \\rightarrow 4$ & $0 \\rightarrow 6$ & $4 \\rightarrow 2$ & $6 \\rightarrow 4$ & $2 \\rightarrow 6$ & $4 \\rightarrow 6$ & $9 \\rightarrow 7$ & $6 \\rightarrow 3$\\\\\n",
      "\n",
      "& used & 49 (\\Numptwo{0.7538461538461538})  & 30 (\\Numptwo{0.6382978723404256})  & 38 (\\Numptwo{0.8837209302325582})  & 27 (\\Numptwo{0.6428571428571429})  & 28 (\\Numptwo{0.7368421052631579})  & 18 (\\Numptwo{0.5142857142857142})  & 21 (\\Numptwo{0.6774193548387096})  & 16 (\\Numptwo{0.6666666666666666})  & 16 (\\Numptwo{0.8})  & 6 (\\Numptwo{0.375}) \\\\\n",
      "\n",
      "& eval & 38 (\\Numptwo{0.59375})  & 20 (\\Numptwo{0.425531914893617})  & 31 (\\Numptwo{0.7209302325581395})  & 31 (\\Numptwo{0.7380952380952381})  & 23 (\\Numptwo{0.6216216216216216})  & 13 (\\Numptwo{0.38235294117647056})  & 18 (\\Numptwo{0.5806451612903226})  & 14 (\\Numptwo{0.5833333333333334})  & 11 (\\Numptwo{0.55})  & 6 (\\Numptwo{0.375}) \\\\\n",
      "--------------------------------------------------------------------------------------------------------\n",
      "\n",
      "& fault & $3 \\rightarrow 5$ & $5 \\rightarrow 3$ & $2 \\rightarrow 6$ & $2 \\rightarrow 4$ & $2 \\rightarrow 5$ & $3 \\rightarrow 6$ & $1 \\rightarrow 9$ & $4 \\rightarrow 6$ & $9 \\rightarrow 1$ & $0 \\rightarrow 8$\\\\\n",
      "\n",
      "& used & 86 (\\Numptwo{0.8269230769230769})  & 35 (\\Numptwo{0.5147058823529411})  & 28 (\\Numptwo{0.5283018867924528})  & 34 (\\Numptwo{0.6538461538461539})  & 30 (\\Numptwo{0.6})  & 27 (\\Numptwo{0.54})  & 35 (\\Numptwo{0.7777777777777778})  & 22 (\\Numptwo{0.5365853658536586})  & 31 (\\Numptwo{0.7560975609756098})  & 28 (\\Numptwo{0.6829268292682927}) \\\\\n",
      "\n",
      "& eval & 74 (\\Numptwo{0.7115384615384616})  & 39 (\\Numptwo{0.5735294117647058})  & 25 (\\Numptwo{0.4716981132075472})  & 36 (\\Numptwo{0.6923076923076923})  & 24 (\\Numptwo{0.4897959183673469})  & 25 (\\Numptwo{0.5102040816326531})  & 22 (\\Numptwo{0.4888888888888889})  & 20 (\\Numptwo{0.5})  & 32 (\\Numptwo{0.7804878048780488})  & 23 (\\Numptwo{0.575}) \\\\\n",
      "--------------------------------------------------------------------------------------------------------\n",
      "\n",
      "& fault & $7 \\rightarrow 8$ & $41 \\rightarrow 9$ & $30 \\rightarrow 31$ & $23 \\rightarrow 31$ & $17 \\rightarrow 38$ & $6 \\rightarrow 5$ & $18 \\rightarrow 21$ & $19 \\rightarrow 31$ & $6 \\rightarrow 42$ & $2 \\rightarrow 3$\\\\\n",
      "\n",
      "& used & 9 (\\Numptwo{0.5294117647058824})  & 3 (\\Numptwo{0.1875})  & 7 (\\Numptwo{0.5})  & 13 (\\Numptwo{1.0})  & -1 (\\Numptwo{-0.07692307692307693})  & 11 (\\Numptwo{0.9166666666666666})  & 9 (\\Numptwo{0.8181818181818182})  & 1 (\\Numptwo{0.09090909090909091})  & 10 (\\Numptwo{0.9090909090909091})  & 0 (\\Numptwo{0.0}) \\\\\n",
      "\n",
      "& eval & 8 (\\Numptwo{0.47058823529411764})  & 4 (\\Numptwo{0.25})  & 7 (\\Numptwo{0.5384615384615384})  & 11 (\\Numptwo{0.9166666666666666})  & -2 (\\Numptwo{-0.15384615384615385})  & 10 (\\Numptwo{0.9090909090909091})  & 10 (\\Numptwo{0.9090909090909091})  & 0 (\\Numptwo{0.0})  & 10 (\\Numptwo{1.0})  & 0 (\\Numptwo{0.0}) \\\\\n",
      "--------------------------------------------------------------------------------------------------------\n",
      "\n"
     ]
    }
   ],
   "source": [
    "# changes in the number of misclassified inputs \n",
    "print_out_cnt([misclf_keys_per_proj['fm'][i] for i in range(30)], fm_misclf_cnts, top_n = 10)\n",
    "print (\"--------------------------------------------------------------------------------------------------------\\n\")\n",
    "print_out_cnt([misclf_keys_per_proj['c10'][i] for i in range(30)], c10_misclf_cnts, top_n = 10)\n",
    "print (\"--------------------------------------------------------------------------------------------------------\\n\")\n",
    "print_out_cnt([misclf_keys_per_proj['gtsrb'][i] for i in range(30)], gtsrb_misclf_cnts, top_n = 10)\n",
    "print (\"--------------------------------------------------------------------------------------------------------\\n\")"
   ]
  },
  {
   "cell_type": "markdown",
   "id": "c49b806f",
   "metadata": {},
   "source": [
    "### Broken and Repair rates"
   ]
  },
  {
   "cell_type": "code",
   "execution_count": null,
   "id": "ef365fb0",
   "metadata": {},
   "outputs": [],
   "source": [
    "def compute_brs_rrs(pred_dfs, misclf_types, iter_indices = np.arange(30)):\n",
    "    \"\"\"\n",
    "    pred_dfs -> after & used/eval\n",
    "    \"\"\"\n",
    "    brs = {}; rrs = {}\n",
    "    for iter_idx in tqdm(iter_indices):\n",
    "        misclf_key = misclf_types[iter_idx]\n",
    "        true_label, pred_label = misclf_key\n",
    "        \n",
    "        pred_df = pred_dfs[iter_idx]\n",
    "        init_corr_df = pred_df.loc[pred_df.true == pred_df.pred]\n",
    "        init_wrong_df = pred_df.loc[pred_df.true != pred_df.pred]\n",
    "    \n",
    "        target_wrong_df = init_wrong_df.loc[(init_wrong_df.true == true_label) & (pred_df.pred == pred_label)]\n",
    "        \n",
    "        # broken\n",
    "        cnt_broken = np.sum(init_corr_df.true != init_corr_df.new_pred)\n",
    "        broken_rate = cnt_broken/len(init_corr_df)\n",
    "        # repaired\n",
    "        cnt_repaired = np.sum(target_wrong_df.true == target_wrong_df.new_pred)\n",
    "        repair_rate = cnt_repaired/len(target_wrong_df)\n",
    "        \n",
    "        brs[iter_idx] = broken_rate\n",
    "        rrs[iter_idx] = repair_rate\n",
    "    \n",
    "    return {'BR':brs, 'RR':rrs}"
   ]
  },
  {
   "cell_type": "code",
   "execution_count": 193,
   "id": "617f8719",
   "metadata": {},
   "outputs": [],
   "source": [
    "def compute_brs_rrs_ratios(pred_dfs_of_used_eval, misclf_types, iter_indices = np.arange(30)):\n",
    "    \"\"\"\n",
    "    pred_dfs -> after & used/eval\n",
    "    \"\"\"\n",
    "    brs_rt = {}; rrs_rt = {}\n",
    "    for iter_idx in tqdm(iter_indices):\n",
    "        misclf_key = misclf_types[iter_idx]\n",
    "        true_label, pred_label = misclf_key\n",
    "        \n",
    "        pred_df_used = pred_dfs_of_used_eval['used'][iter_idx]\n",
    "        pred_df_eval = pred_dfs_of_used_eval['eval'][iter_idx]\n",
    "        \n",
    "        init_corr_df_used = pred_df_used.loc[pred_df_used.true == pred_df_used.pred]\n",
    "        init_wrong_df_used = pred_df_used.loc[pred_df_used.true != pred_df_used.pred]\n",
    " \n",
    "        init_corr_df_eval = pred_df_eval.loc[pred_df_eval.true == pred_df_eval.pred]\n",
    "        init_wrong_df_eval = pred_df_eval.loc[pred_df_eval.true != pred_df_eval.pred]\n",
    "        \n",
    "        # used \n",
    "        target_wrong_df_used = init_wrong_df_used.loc[\n",
    "            (init_wrong_df_used.true == true_label) & (pred_df_used.pred == pred_label)]\n",
    "        \n",
    "        # eval\n",
    "        target_wrong_df_eval = init_wrong_df_eval.loc[\n",
    "            (init_wrong_df_eval.true == true_label) & (pred_df_eval.pred == pred_label)]\n",
    "        \n",
    "        # broken\n",
    "        # used\n",
    "        cnt_broken_used = np.sum(init_corr_df_used.true != init_corr_df_used.new_pred)\n",
    "        broken_rate_used = cnt_broken_used/len(init_corr_df_used)\n",
    "        \n",
    "        # eval\n",
    "        cnt_broken_eval = np.sum(init_corr_df_eval.true != init_corr_df_eval.new_pred)\n",
    "        broken_rate_eval = cnt_broken_eval/len(init_corr_df_eval)\n",
    "        \n",
    "        # repaired\n",
    "        # used\n",
    "        cnt_repaired_used = np.sum(target_wrong_df_used.true == target_wrong_df_used.new_pred)\n",
    "        repair_rate_used = cnt_repaired_used/len(target_wrong_df_used)\n",
    "        \n",
    "        # eval\n",
    "        cnt_repaired_eval = np.sum(target_wrong_df_eval.true == target_wrong_df_eval.new_pred)\n",
    "        repair_rate_eval = cnt_repaired_eval/len(target_wrong_df_eval)\n",
    "        \n",
    "        if broken_rate_used > 0:\n",
    "            brs_rt[iter_idx] = broken_rate_eval/broken_rate_used \n",
    "        else:\n",
    "            if broken_rate_eval == 0: # both are zeros:\n",
    "                brs_rt[iter_idx] = -1\n",
    "            else:\n",
    "                brs_rt[iter_idx] = (-2, broken_rate_eval)\n",
    "        \n",
    "        if repair_rate_used > 0:\n",
    "            rrs_rt[iter_idx] = repair_rate_eval/repair_rate_used\n",
    "        else:\n",
    "            if repair_rate_eval == 0: # both are zeros:\n",
    "                rrs_rt[iter_idx] = 1 #-1\n",
    "            else:\n",
    "                rrs_rt[iter_idx] = -1 # (-2, repair_rate_eval)\n",
    "    \n",
    "    return {'BR':brs_rt, 'RR':rrs_rt}"
   ]
  },
  {
   "cell_type": "code",
   "execution_count": 196,
   "id": "d28eac39",
   "metadata": {
    "scrolled": false
   },
   "outputs": [
    {
     "name": "stderr",
     "output_type": "stream",
     "text": [
      "100%|█████████████████████████████████████████████████████████████████████████████████████████████████████████████████████████████████████████████████████████████████████████████████████████████████████████████████████████| 10/10 [00:00<00:00, 68.36it/s]\n"
     ]
    },
    {
     "name": "stdout",
     "output_type": "stream",
     "text": [
      "For 10, better in eval: 0\n"
     ]
    },
    {
     "name": "stderr",
     "output_type": "stream",
     "text": [
      "100%|█████████████████████████████████████████████████████████████████████████████████████████████████████████████████████████████████████████████████████████████████████████████████████████████████████████████████████████| 20/20 [00:00<00:00, 75.96it/s]\n"
     ]
    },
    {
     "name": "stdout",
     "output_type": "stream",
     "text": [
      "For 20, better in eval: 1\n"
     ]
    },
    {
     "name": "stderr",
     "output_type": "stream",
     "text": [
      "100%|█████████████████████████████████████████████████████████████████████████████████████████████████████████████████████████████████████████████████████████████████████████████████████████████████████████████████████████| 30/30 [00:00<00:00, 71.73it/s]"
     ]
    },
    {
     "name": "stdout",
     "output_type": "stream",
     "text": [
      "For 30, better in eval: 3\n"
     ]
    },
    {
     "name": "stderr",
     "output_type": "stream",
     "text": [
      "\n"
     ]
    }
   ],
   "source": [
    "which = 'fashion_mnist'\n",
    "\n",
    "rrs_top_n = {'top_n':[], 'mean':[], 'std':[]}\n",
    "for top_n in [10, 20, 30]:\n",
    "    #rrs = list(compute_brs_rrs(\n",
    "    #            fm_predictions['after']['used'], \n",
    "    #            misclf_types[which], \n",
    "    #            iter_indices = np.arange(top_n))['RR'].values())\n",
    "    rrs = list(compute_brs_rrs_ratios(\n",
    "                fm_predictions['after'], \n",
    "                misclf_types[which], \n",
    "                iter_indices = np.arange(top_n))['RR'].values())\n",
    "    \n",
    "    cnt_better = np.sum(np.array(rrs) < 0)\n",
    "    print (\"For {}, better in eval: {}\".format(top_n, cnt_better))\n",
    "    rrs = [r for r in rrs if r >= 0]\n",
    "    rrs_top_n['top_n'].append(top_n)\n",
    "    rrs_top_n['mean'].append(np.mean(rrs))\n",
    "    rrs_top_n['std'].append(np.std(rrs))\n",
    "\n",
    "fm_rrs_top_n = pd.DataFrame(rrs_top_n)"
   ]
  },
  {
   "cell_type": "code",
   "execution_count": 197,
   "id": "f6cbe28b",
   "metadata": {},
   "outputs": [
    {
     "name": "stderr",
     "output_type": "stream",
     "text": [
      "100%|█████████████████████████████████████████████████████████████████████████████████████████████████████████████████████████████████████████████████████████████████████████████████████████████████████████████████████████| 10/10 [00:00<00:00, 72.14it/s]\n"
     ]
    },
    {
     "name": "stdout",
     "output_type": "stream",
     "text": [
      "For 10, better in eval: 0\n"
     ]
    },
    {
     "name": "stderr",
     "output_type": "stream",
     "text": [
      "100%|█████████████████████████████████████████████████████████████████████████████████████████████████████████████████████████████████████████████████████████████████████████████████████████████████████████████████████████| 20/20 [00:00<00:00, 78.49it/s]\n"
     ]
    },
    {
     "name": "stdout",
     "output_type": "stream",
     "text": [
      "For 20, better in eval: 0\n"
     ]
    },
    {
     "name": "stderr",
     "output_type": "stream",
     "text": [
      "100%|█████████████████████████████████████████████████████████████████████████████████████████████████████████████████████████████████████████████████████████████████████████████████████████████████████████████████████████| 30/30 [00:00<00:00, 77.95it/s]"
     ]
    },
    {
     "name": "stdout",
     "output_type": "stream",
     "text": [
      "For 30, better in eval: 0\n"
     ]
    },
    {
     "name": "stderr",
     "output_type": "stream",
     "text": [
      "\n"
     ]
    }
   ],
   "source": [
    "which = 'cifar10'\n",
    "\n",
    "rrs_top_n = {'top_n':[], 'mean':[], 'std':[]}\n",
    "for top_n in [10, 20, 30]:\n",
    "    #rrs = list(compute_brs_rrs(\n",
    "    #            c10_predictions['after']['used'], \n",
    "    #            misclf_types[which], \n",
    "    #            iter_indices = np.arange(top_n))['RR'].values())\n",
    "    rrs = list(compute_brs_rrs_ratios(\n",
    "                c10_predictions['after'], \n",
    "                misclf_types[which], \n",
    "                iter_indices = np.arange(top_n))['RR'].values())\n",
    "    \n",
    "    cnt_better = np.sum(np.array(rrs) < 0)\n",
    "    print (\"For {}, better in eval: {}\".format(top_n, cnt_better))\n",
    "    rrs = [r for r in rrs if r >= 0]\n",
    "    rrs_top_n['top_n'].append(top_n)\n",
    "    rrs_top_n['mean'].append(np.mean(rrs))\n",
    "    rrs_top_n['std'].append(np.std(rrs))\n",
    "\n",
    "c10_rrs_top_n = pd.DataFrame(rrs_top_n)"
   ]
  },
  {
   "cell_type": "code",
   "execution_count": 198,
   "id": "c7bf8a3b",
   "metadata": {},
   "outputs": [
    {
     "name": "stderr",
     "output_type": "stream",
     "text": [
      "100%|█████████████████████████████████████████████████████████████████████████████████████████████████████████████████████████████████████████████████████████████████████████████████████████████████████████████████████████| 10/10 [00:00<00:00, 59.04it/s]\n"
     ]
    },
    {
     "name": "stdout",
     "output_type": "stream",
     "text": [
      "For 10, better in eval: 2\n"
     ]
    },
    {
     "name": "stderr",
     "output_type": "stream",
     "text": [
      "100%|█████████████████████████████████████████████████████████████████████████████████████████████████████████████████████████████████████████████████████████████████████████████████████████████████████████████████████████| 20/20 [00:00<00:00, 62.37it/s]\n"
     ]
    },
    {
     "name": "stdout",
     "output_type": "stream",
     "text": [
      "For 20, better in eval: 2\n"
     ]
    },
    {
     "name": "stderr",
     "output_type": "stream",
     "text": [
      "100%|█████████████████████████████████████████████████████████████████████████████████████████████████████████████████████████████████████████████████████████████████████████████████████████████████████████████████████████| 30/30 [00:00<00:00, 65.38it/s]"
     ]
    },
    {
     "name": "stdout",
     "output_type": "stream",
     "text": [
      "For 30, better in eval: 5\n"
     ]
    },
    {
     "name": "stderr",
     "output_type": "stream",
     "text": [
      "\n"
     ]
    }
   ],
   "source": [
    "which = 'GTSRB'\n",
    "\n",
    "rrs_top_n = {'top_n':[], 'mean':[], 'std':[]}\n",
    "for top_n in [10, 20, 30]:\n",
    "    #rrs = list(compute_brs_rrs(\n",
    "    #            gtsrb_predictions['after']['used'], \n",
    "    #            misclf_types[which], \n",
    "    #            iter_indices = np.arange(top_n))['RR'].values())\n",
    "    rrs = list(compute_brs_rrs_ratios(\n",
    "                gtsrb_predictions['after'], \n",
    "                misclf_types[which], \n",
    "                iter_indices = np.arange(top_n))['RR'].values())\n",
    "    \n",
    "    cnt_better = np.sum(np.array(rrs) < 0)\n",
    "    print (\"For {}, better in eval: {}\".format(top_n, cnt_better))\n",
    "    rrs = [r for r in rrs if r >= 0]\n",
    "    rrs_top_n['top_n'].append(top_n)\n",
    "    rrs_top_n['mean'].append(np.mean(rrs))\n",
    "    rrs_top_n['std'].append(np.std(rrs))\n",
    "\n",
    "gtsrb_rrs_top_n = pd.DataFrame(rrs_top_n)"
   ]
  },
  {
   "cell_type": "code",
   "execution_count": 200,
   "id": "f08b0be7",
   "metadata": {},
   "outputs": [],
   "source": [
    "def print_out_rr(rrs_top_n, top_ns = [10,20,30]):\n",
    "    \"\"\"\n",
    "    \"\"\"\n",
    "    for data_type in ['fashion_mnist', 'cifar10', 'GTSRB']:\n",
    "        line = data_type\n",
    "        df = rrs_top_n[data_type]\n",
    "        for top_n in top_ns:\n",
    "            mean_v = np.round(df.loc[df.top_n == top_n]['mean'].values[0], decimals = 4)\n",
    "            std_v = np.round(df.loc[df.top_n == top_n]['std'].values[0], decimals = 4)\n",
    "            line += \" & {:.4f} & {:.4f}\".format(mean_v, std_v) \n",
    "        \n",
    "        print (line + \"\\\\\\\\\")"
   ]
  },
  {
   "cell_type": "code",
   "execution_count": 201,
   "id": "771d55f7",
   "metadata": {
    "scrolled": true
   },
   "outputs": [
    {
     "name": "stdout",
     "output_type": "stream",
     "text": [
      "fashion_mnist & 0.7649 & 0.2093 & 0.8062 & 0.2786 & 0.7058 & 0.3771\\\\\n",
      "cifar10 & 0.8848 & 0.1818 & 0.7872 & 0.2850 & 0.7865 & 0.2935\\\\\n",
      "GTSRB & 0.3264 & 0.3151 & 0.4581 & 0.2927 & 0.4089 & 0.2931\\\\\n"
     ]
    }
   ],
   "source": [
    "print_out_rr({'fashion_mnist':fm_rrs_top_n, 'cifar10':c10_rrs_top_n, 'GTSRB':gtsb_rrs_top_n}, \n",
    "          top_ns = [10,20,30])"
   ]
  }
 ],
 "metadata": {
  "kernelspec": {
   "display_name": "Python 3 (ipykernel)",
   "language": "python",
   "name": "python3"
  },
  "language_info": {
   "codemirror_mode": {
    "name": "ipython",
    "version": 3
   },
   "file_extension": ".py",
   "mimetype": "text/x-python",
   "name": "python",
   "nbconvert_exporter": "python",
   "pygments_lexer": "ipython3",
   "version": "3.9.9"
  }
 },
 "nbformat": 4,
 "nbformat_minor": 5
}
