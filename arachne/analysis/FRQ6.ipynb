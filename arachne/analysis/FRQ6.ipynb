{
 "cells": [
  {
   "cell_type": "code",
   "execution_count": 1,
   "id": "a6df8a3c",
   "metadata": {},
   "outputs": [],
   "source": [
    "import pandas as pd\n",
    "import os\n",
    "import numpy as np"
   ]
  },
  {
   "cell_type": "code",
   "execution_count": 2,
   "id": "854547e5",
   "metadata": {},
   "outputs": [],
   "source": [
    "def count_chgd(pred_df, target_label):\n",
    "    \"\"\"\n",
    "    \"\"\"\n",
    "    target_pred_df = pred_df.loc[pred_df.true == target_label]\n",
    "    \n",
    "    cnt_broken = np.sum(\n",
    "        ((target_pred_df.true == target_pred_df.pred) & (target_pred_df.true != target_pred_df.new_pred)).values)\n",
    "    cnt_patched = np.sum(\n",
    "        ((target_pred_df.true != target_pred_df.pred) & (target_pred_df.true == target_pred_df.new_pred)).values)\n",
    "    \n",
    "    error_rate = np.sum(target_pred_df.true != target_pred_df.new_pred)/len(target_pred_df)\n",
    "    \n",
    "    print (\"For label {}, total {} are broken, and {} are patched, error rate: {}\".format(\n",
    "        target_label, cnt_broken, cnt_patched, error_rate))\n",
    "    \n",
    "    return cnt_broken, cnt_patched, error_rate"
   ]
  },
  {
   "cell_type": "markdown",
   "id": "3ebd4c65",
   "metadata": {},
   "source": [
    "# Evaluation"
   ]
  },
  {
   "cell_type": "markdown",
   "id": "40e6da5e",
   "metadata": {},
   "source": [
    "## pa = 3"
   ]
  },
  {
   "cell_type": "code",
   "execution_count": 51,
   "id": "dc8754ad",
   "metadata": {},
   "outputs": [],
   "source": [
    "curr_resultdir = \"/Users/jeongju.sohn/workdir/arachne/arachne/results/rq6/pa3/pred\"\n",
    "curr_predcs = {}\n",
    "for i in range(30):\n",
    "    pred_file = os.path.join(curr_resultdir, \"pred.misclf-rq6.0.{}-0-1.train.pkl\".format(i))\n",
    "    curr_predcs[i] = pd.read_pickle(pred_file)"
   ]
  },
  {
   "cell_type": "code",
   "execution_count": 52,
   "id": "638c486a",
   "metadata": {
    "scrolled": true
   },
   "outputs": [
    {
     "name": "stdout",
     "output_type": "stream",
     "text": [
      "For label 0, total 0 are broken, and 11 are patched, error rate: 0.051470588235294115\n",
      "For label 0, total 0 are broken, and 11 are patched, error rate: 0.051470588235294115\n",
      "For label 0, total 0 are broken, and 11 are patched, error rate: 0.051470588235294115\n",
      "For label 0, total 0 are broken, and 11 are patched, error rate: 0.051470588235294115\n",
      "For label 0, total 0 are broken, and 11 are patched, error rate: 0.051470588235294115\n",
      "For label 0, total 0 are broken, and 5 are patched, error rate: 0.09558823529411764\n",
      "For label 0, total 0 are broken, and 11 are patched, error rate: 0.051470588235294115\n",
      "For label 0, total 0 are broken, and 11 are patched, error rate: 0.051470588235294115\n",
      "For label 0, total 0 are broken, and 11 are patched, error rate: 0.051470588235294115\n",
      "For label 0, total 0 are broken, and 10 are patched, error rate: 0.058823529411764705\n",
      "For label 0, total 0 are broken, and 10 are patched, error rate: 0.058823529411764705\n",
      "For label 0, total 0 are broken, and 11 are patched, error rate: 0.051470588235294115\n",
      "For label 0, total 0 are broken, and 11 are patched, error rate: 0.051470588235294115\n",
      "For label 0, total 0 are broken, and 11 are patched, error rate: 0.051470588235294115\n",
      "For label 0, total 0 are broken, and 11 are patched, error rate: 0.051470588235294115\n",
      "For label 0, total 0 are broken, and 11 are patched, error rate: 0.051470588235294115\n",
      "For label 0, total 0 are broken, and 11 are patched, error rate: 0.051470588235294115\n",
      "For label 0, total 0 are broken, and 11 are patched, error rate: 0.051470588235294115\n",
      "For label 0, total 0 are broken, and 11 are patched, error rate: 0.051470588235294115\n",
      "For label 0, total 0 are broken, and 11 are patched, error rate: 0.051470588235294115\n",
      "For label 0, total 0 are broken, and 11 are patched, error rate: 0.051470588235294115\n",
      "For label 0, total 0 are broken, and 11 are patched, error rate: 0.051470588235294115\n",
      "For label 0, total 0 are broken, and 11 are patched, error rate: 0.051470588235294115\n",
      "For label 0, total 0 are broken, and 11 are patched, error rate: 0.051470588235294115\n",
      "For label 0, total 0 are broken, and 11 are patched, error rate: 0.051470588235294115\n",
      "For label 0, total 0 are broken, and 11 are patched, error rate: 0.051470588235294115\n",
      "For label 0, total 0 are broken, and 11 are patched, error rate: 0.051470588235294115\n",
      "For label 0, total 0 are broken, and 10 are patched, error rate: 0.058823529411764705\n",
      "For label 0, total 0 are broken, and 10 are patched, error rate: 0.058823529411764705\n",
      "For label 0, total 0 are broken, and 11 are patched, error rate: 0.051470588235294115\n",
      "\n",
      "[0, 0, 0, 0, 0, 0, 0, 0, 0, 0, 0, 0, 0, 0, 0, 0, 0, 0, 0, 0, 0, 0, 0, 0, 0, 0, 0, 0, 0, 0]\n",
      "[11, 11, 11, 11, 11, 5, 11, 11, 11, 10, 10, 11, 11, 11, 11, 11, 11, 11, 11, 11, 11, 11, 11, 11, 11, 11, 11, 10, 10, 11]\n",
      "\n",
      "Broken: 0 ~ 0 (0.0)\n",
      "\n",
      "Patched: 5 ~ 11 (10.666666666666666)\n",
      "Error rate: 0.1323529411764706 -> 0.05392156862745098\n"
     ]
    }
   ],
   "source": [
    "target_label = 0\n",
    "fm_num_targets = np.sum(curr_predcs[0].true == target_label)\n",
    "fm_init_wrong = np.sum((curr_predcs[0].true == target_label) & (curr_predcs[0].true != curr_predcs[0].pred))\n",
    "fm_init_error_rate = fm_init_wrong/fm_num_targets\n",
    "\n",
    "fm_cnt_brokens = []; fm_cnt_patcheds = []; fm_error_rates = []\n",
    "for curr_pred_df in curr_predcs.values():\n",
    "    cnt_broken, cnt_patched, error_rate = count_chgd(curr_pred_df, target_label)\n",
    "    fm_cnt_brokens.append(cnt_broken)\n",
    "    fm_cnt_patcheds.append(cnt_patched)\n",
    "    fm_error_rates.append(error_rate)\n",
    "    \n",
    "print ()\n",
    "print (fm_cnt_brokens)\n",
    "print (fm_cnt_patcheds)\n",
    "print (\"\\nBroken: {} ~ {} ({})\".format(\n",
    "    np.min(fm_cnt_brokens), np.max(fm_cnt_brokens), np.mean(fm_cnt_brokens)))\n",
    "print (\"\\nPatched: {} ~ {} ({})\".format(\n",
    "    np.min(fm_cnt_patcheds), np.max(fm_cnt_patcheds), np.mean(fm_cnt_patcheds)))\n",
    "\n",
    "print ('Error rate: {} -> {}'.format(fm_init_error_rate, np.mean(fm_error_rates)))"
   ]
  },
  {
   "cell_type": "code",
   "execution_count": 53,
   "id": "38b27c25",
   "metadata": {
    "scrolled": true
   },
   "outputs": [
    {
     "name": "stdout",
     "output_type": "stream",
     "text": [
      "For label 1, total 42 are broken, and 0 are patched, error rate: 0.10916179337231968\n",
      "For label 1, total 42 are broken, and 0 are patched, error rate: 0.10916179337231968\n",
      "For label 1, total 44 are broken, and 0 are patched, error rate: 0.11306042884990253\n",
      "For label 1, total 43 are broken, and 0 are patched, error rate: 0.1111111111111111\n",
      "For label 1, total 42 are broken, and 0 are patched, error rate: 0.10916179337231968\n",
      "For label 1, total 25 are broken, and 0 are patched, error rate: 0.07602339181286549\n",
      "For label 1, total 42 are broken, and 0 are patched, error rate: 0.10916179337231968\n",
      "For label 1, total 44 are broken, and 0 are patched, error rate: 0.11306042884990253\n",
      "For label 1, total 42 are broken, and 0 are patched, error rate: 0.10916179337231968\n",
      "For label 1, total 42 are broken, and 0 are patched, error rate: 0.10916179337231968\n",
      "For label 1, total 42 are broken, and 0 are patched, error rate: 0.10916179337231968\n",
      "For label 1, total 42 are broken, and 0 are patched, error rate: 0.10916179337231968\n",
      "For label 1, total 42 are broken, and 0 are patched, error rate: 0.10916179337231968\n",
      "For label 1, total 43 are broken, and 0 are patched, error rate: 0.1111111111111111\n",
      "For label 1, total 44 are broken, and 0 are patched, error rate: 0.11306042884990253\n",
      "For label 1, total 42 are broken, and 0 are patched, error rate: 0.10916179337231968\n",
      "For label 1, total 44 are broken, and 0 are patched, error rate: 0.11306042884990253\n",
      "For label 1, total 43 are broken, and 0 are patched, error rate: 0.1111111111111111\n",
      "For label 1, total 44 are broken, and 0 are patched, error rate: 0.11306042884990253\n",
      "For label 1, total 44 are broken, and 0 are patched, error rate: 0.11306042884990253\n",
      "For label 1, total 42 are broken, and 0 are patched, error rate: 0.10916179337231968\n",
      "For label 1, total 42 are broken, and 0 are patched, error rate: 0.10916179337231968\n",
      "For label 1, total 44 are broken, and 0 are patched, error rate: 0.11306042884990253\n",
      "For label 1, total 42 are broken, and 0 are patched, error rate: 0.10916179337231968\n",
      "For label 1, total 43 are broken, and 0 are patched, error rate: 0.1111111111111111\n",
      "For label 1, total 42 are broken, and 0 are patched, error rate: 0.10916179337231968\n",
      "For label 1, total 44 are broken, and 0 are patched, error rate: 0.11306042884990253\n",
      "For label 1, total 42 are broken, and 0 are patched, error rate: 0.10916179337231968\n",
      "For label 1, total 42 are broken, and 0 are patched, error rate: 0.10916179337231968\n",
      "For label 1, total 42 are broken, and 0 are patched, error rate: 0.10916179337231968\n",
      "\n",
      "[42, 42, 44, 43, 42, 25, 42, 44, 42, 42, 42, 42, 42, 43, 44, 42, 44, 43, 44, 44, 42, 42, 44, 42, 43, 42, 44, 42, 42, 42]\n",
      "[0, 0, 0, 0, 0, 0, 0, 0, 0, 0, 0, 0, 0, 0, 0, 0, 0, 0, 0, 0, 0, 0, 0, 0, 0, 0, 0, 0, 0, 0]\n",
      "\n",
      "Broken: 25 ~ 44 (42.1)\n",
      "\n",
      "Patched: 0 ~ 0 (0.0)\n",
      "Error rate: 0.02729044834307992 -> 0.10935672514619883\n"
     ]
    }
   ],
   "source": [
    "target_label = 1\n",
    "m_num_targets = np.sum(curr_predcs[0].true == target_label)\n",
    "m_init_wrong = np.sum((curr_predcs[0].true == target_label) & (curr_predcs[0].true != curr_predcs[0].pred))\n",
    "m_init_error_rate = m_init_wrong/m_num_targets\n",
    "\n",
    "m_cnt_brokens = []; m_cnt_patcheds = []; m_error_rates = []\n",
    "for curr_pred_df in curr_predcs.values():\n",
    "    cnt_broken, cnt_patched, error_rate = count_chgd(curr_pred_df, target_label)\n",
    "    m_cnt_brokens.append(cnt_broken)\n",
    "    m_cnt_patcheds.append(cnt_patched)\n",
    "    m_error_rates.append(error_rate)\n",
    "    \n",
    "print ()\n",
    "print (m_cnt_brokens)\n",
    "print (m_cnt_patcheds)\n",
    "print (\"\\nBroken: {} ~ {} ({})\".format(\n",
    "    np.min(m_cnt_brokens), np.max(m_cnt_brokens), np.mean(m_cnt_brokens)))\n",
    "print (\"\\nPatched: {} ~ {} ({})\".format(\n",
    "    np.min(m_cnt_patcheds), np.max(m_cnt_patcheds), np.mean(m_cnt_patcheds)))\n",
    "\n",
    "print ('Error rate: {} -> {}'.format(m_init_error_rate, np.mean(m_error_rates)))\n"
   ]
  },
  {
   "cell_type": "code",
   "execution_count": 54,
   "id": "57506ae7",
   "metadata": {},
   "outputs": [],
   "source": [
    "destfile = \"/Users/jeongju.sohn/workdir/Journals/autopatch_nn_icse20/fairness_results/rates_pa_3.json\"\n",
    "import json\n",
    "\n",
    "combined_rates = {\n",
    "    'female':{'init':fm_init_error_rate, 'after':fm_error_rates},\n",
    "    'male':{'init':m_init_error_rate, 'after':m_error_rates}}\n",
    "\n",
    "with open(destfile, 'w') as f:\n",
    "    f.write(json.dumps(combined_rates))"
   ]
  },
  {
   "cell_type": "code",
   "execution_count": 17,
   "id": "3fd2a09a",
   "metadata": {},
   "outputs": [
    {
     "data": {
      "text/plain": [
       "(0.1323529411764706, 0.02729044834307992)"
      ]
     },
     "execution_count": 17,
     "metadata": {},
     "output_type": "execute_result"
    }
   ],
   "source": [
    "combined_rates['female']['init'], combined_rates['male']['init']"
   ]
  },
  {
   "cell_type": "code",
   "execution_count": 46,
   "id": "c0eb1f09",
   "metadata": {},
   "outputs": [
    {
     "data": {
      "text/plain": [
       "(18, 14)"
      ]
     },
     "execution_count": 46,
     "metadata": {},
     "output_type": "execute_result"
    }
   ],
   "source": [
    "fm_init_wrong, m_init_wrong"
   ]
  },
  {
   "cell_type": "markdown",
   "id": "7ff80846",
   "metadata": {},
   "source": [
    "### Localisation"
   ]
  },
  {
   "cell_type": "code",
   "execution_count": 7,
   "id": "5ff2bfe9",
   "metadata": {},
   "outputs": [
    {
     "data": {
      "text/html": [
       "<div>\n",
       "<style scoped>\n",
       "    .dataframe tbody tr th:only-of-type {\n",
       "        vertical-align: middle;\n",
       "    }\n",
       "\n",
       "    .dataframe tbody tr th {\n",
       "        vertical-align: top;\n",
       "    }\n",
       "\n",
       "    .dataframe thead th {\n",
       "        text-align: right;\n",
       "    }\n",
       "</style>\n",
       "<table border=\"1\" class=\"dataframe\">\n",
       "  <thead>\n",
       "    <tr style=\"text-align: right;\">\n",
       "      <th></th>\n",
       "      <th>layer</th>\n",
       "      <th>weight</th>\n",
       "    </tr>\n",
       "  </thead>\n",
       "  <tbody>\n",
       "    <tr>\n",
       "      <th>0</th>\n",
       "      <td>20</td>\n",
       "      <td>(0, 1, 143, 321)</td>\n",
       "    </tr>\n",
       "    <tr>\n",
       "      <th>1</th>\n",
       "      <td>20</td>\n",
       "      <td>(1, 1, 143, 321)</td>\n",
       "    </tr>\n",
       "    <tr>\n",
       "      <th>2</th>\n",
       "      <td>20</td>\n",
       "      <td>(1, 1, 182, 321)</td>\n",
       "    </tr>\n",
       "    <tr>\n",
       "      <th>3</th>\n",
       "      <td>25</td>\n",
       "      <td>(347, 0)</td>\n",
       "    </tr>\n",
       "    <tr>\n",
       "      <th>4</th>\n",
       "      <td>25</td>\n",
       "      <td>(1435, 0)</td>\n",
       "    </tr>\n",
       "    <tr>\n",
       "      <th>5</th>\n",
       "      <td>25</td>\n",
       "      <td>(3247, 0)</td>\n",
       "    </tr>\n",
       "    <tr>\n",
       "      <th>6</th>\n",
       "      <td>25</td>\n",
       "      <td>(3247, 1)</td>\n",
       "    </tr>\n",
       "  </tbody>\n",
       "</table>\n",
       "</div>"
      ],
      "text/plain": [
       "   layer            weight\n",
       "0     20  (0, 1, 143, 321)\n",
       "1     20  (1, 1, 143, 321)\n",
       "2     20  (1, 1, 182, 321)\n",
       "3     25          (347, 0)\n",
       "4     25         (1435, 0)\n",
       "5     25         (3247, 0)\n",
       "6     25         (3247, 1)"
      ]
     },
     "execution_count": 7,
     "metadata": {},
     "output_type": "execute_result"
    }
   ],
   "source": [
    "loc_dir = \"/Users/jeongju.sohn/workdir/arachne/arachne/results/rq6/loc/pa3\"\n",
    "localised_weights = {}\n",
    "for idx in range(30):\n",
    "    loc_file = os.path.join(loc_dir, \"loc.misclf-rq6.0.{}-0-1.1.pkl\".format(idx))\n",
    "    localised_weights[idx] = pd.read_pickle(loc_file)\n",
    "    \n",
    "localised_weights[0]"
   ]
  },
  {
   "cell_type": "code",
   "execution_count": 9,
   "id": "5ef2357e",
   "metadata": {},
   "outputs": [
    {
     "name": "stdout",
     "output_type": "stream",
     "text": [
      "6.933333333333334\n",
      "In Layer 20, 3.0\n",
      "In Layer 25, 3.933333333333333\n"
     ]
    }
   ],
   "source": [
    "avg_loc_ws = np.mean([len(locs) for locs in localised_weights.values()])\n",
    "print (avg_loc_ws)\n",
    "\n",
    "loc_per_layer = {}\n",
    "for idx in range(30):\n",
    "    layers = localised_weights[idx].layer.unique()\n",
    "    for layer in layers:\n",
    "        if layer not in loc_per_layer.keys():\n",
    "            loc_per_layer[layer] = []\n",
    "        loc_per_layer[layer].append(np.sum(localised_weights[idx].layer == layer))\n",
    "\n",
    "for layer,ws in loc_per_layer.items():\n",
    "    print (\"In Layer {}, {}\".format(layer, np.mean(ws)))"
   ]
  }
 ],
 "metadata": {
  "kernelspec": {
   "display_name": "Python 3 (ipykernel)",
   "language": "python",
   "name": "python3"
  },
  "language_info": {
   "codemirror_mode": {
    "name": "ipython",
    "version": 3
   },
   "file_extension": ".py",
   "mimetype": "text/x-python",
   "name": "python",
   "nbconvert_exporter": "python",
   "pygments_lexer": "ipython3",
   "version": "3.9.9"
  }
 },
 "nbformat": 4,
 "nbformat_minor": 5
}
