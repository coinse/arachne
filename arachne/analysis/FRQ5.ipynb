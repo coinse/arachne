{
 "cells": [
  {
   "cell_type": "code",
   "execution_count": 1,
   "id": "ce5574b6",
   "metadata": {},
   "outputs": [],
   "source": [
    "%load_ext autoreload\n",
    "%autoreload 2"
   ]
  },
  {
   "cell_type": "code",
   "execution_count": 2,
   "id": "f9870947",
   "metadata": {},
   "outputs": [],
   "source": [
    "import os, sys\n",
    "import pandas as pd\n",
    "import numpy as np\n",
    "sys.path.insert(0, \"../\")\n",
    "import utils.data_util as data_util"
   ]
  },
  {
   "cell_type": "code",
   "execution_count": 23,
   "id": "6c9a4a81",
   "metadata": {},
   "outputs": [],
   "source": [
    "# change to \"results/rev\"\n",
    "root_result_dir = \"../results/rq5\"\n",
    "targets = ['cnn1', 'cnn2', 'cnn3', 'GTSRB', 'fm'] \n",
    "result_dir = {}\n",
    "for target in targets:\n",
    "    if target == 'fm':\n",
    "        result_dir[target] = os.path.join(root_result_dir, target + \"/pa_10\")\n",
    "    else:\n",
    "        result_dir[target] = os.path.join(root_result_dir, target)\n",
    "\n",
    "# change to \"indices\" -> \"/volume1/coinse/Arachne/indices\"\n",
    "init_pred_file = {\n",
    "    'cnn1':\"/Users/jeongju.sohn/workdir/arachne/arachne/indices/cnn1/test/cifar10.init_pred.indices.csv\",\n",
    "    'cnn2':\"/Users/jeongju.sohn/workdir/arachne/arachne/indices/cnn2/test/cifar10.init_pred.indices.csv\",\n",
    "    'cnn3':\"/Users/jeongju.sohn/workdir/arachne/arachne/indices/cnn3/test/cifar10.init_pred.indices.csv\",\n",
    "    'GTSRB':\"/Users/jeongju.sohn/workdir/arachne/arachne/indices/GTSRB/test/GTSRB.init_pred.indices.csv\", \n",
    "    'fm':\"/Users/jeongju.sohn/workdir/arachne/arachne/indices/fm/for_rq5/val/fashion_mnist.init_pred.indices.csv\"\n",
    "}"
   ]
  },
  {
   "cell_type": "code",
   "execution_count": 4,
   "id": "dd38ba5c",
   "metadata": {},
   "outputs": [],
   "source": [
    "def get_target_misclf_pred(true_label, pred_label, pred_df):\n",
    "    \"\"\"\n",
    "    return the predictions for the top_n most frequenet misclassifications. \n",
    "    prediction_df: contain the entire prediction result\n",
    "    \"\"\"\n",
    "    cnt_init_misclf = np.sum((pred_df.true == true_label) & (pred_df.pred == pred_label))\n",
    "    cnt_aft_misclf = np.sum((pred_df.true == true_label) & (pred_df.new_pred == pred_label))\n",
    "    \n",
    "    return {'init':cnt_init_misclf, 'aft':cnt_aft_misclf}"
   ]
  },
  {
   "cell_type": "code",
   "execution_count": 82,
   "id": "da337e6c",
   "metadata": {},
   "outputs": [],
   "source": [
    "def get_target_misclf_results(\n",
    "    init_pred_file, result_dir, top_n, iter_indices = np.arange(30), which = 'fm_rq5'):\n",
    "    \"\"\"\n",
    "    \"\"\"\n",
    "    from glob import glob\n",
    "    \n",
    "    # model.misclf-rq5.0.6-17-38.pkl\n",
    "    misclf_key = None\n",
    "    cnt_per_iter = []\n",
    "    init_cnt = None\n",
    "    for idx in iter_indices:\n",
    "        # results/rq5/fm/pa_10/pred/pred.misclf-rq5.2.0-2-4.eval.pkl\n",
    "        result_files = glob(os.path.join(result_dir, \"pred/pred.misclf-rq5.{}.{}-*.eval.pkl\".format(top_n, idx)))\n",
    "        assert len(result_files) == 1, result_files\n",
    "        result_file = result_files[0]\n",
    "        if misclf_key == None:\n",
    "            if which != 'fm_rq5':\n",
    "                misclf_key,_,_,_ = data_util.get_balanced_dataset(init_pred_file, top_n, idx = 0) \n",
    "            else:\n",
    "                #target_data = data_util.load_rq5_fm_test_val(args.datadir, which_type = \"val\") \n",
    "                misclf_key, _, _ = data_util.get_dataset_for_rq5(init_pred_file, top_n)\n",
    "                \n",
    "        predictions = pd.read_pickle(result_file)\n",
    "        cnts = get_target_misclf_pred(misclf_key[0], misclf_key[1], predictions)\n",
    "        if init_cnt is None:\n",
    "            init_cnt = cnts['init']\n",
    "        \n",
    "        cnt_per_iter.append(cnts['aft'])\n",
    "    \n",
    "    avg_aft_cnt = np.mean(cnt_per_iter)\n",
    "    true_label, pred_label = misclf_key\n",
    "    print (\"{} -> {}: {} (init) -> {} (aft)\".format(true_label, pred_label, init_cnt, avg_aft_cnt))\n",
    "    \n",
    "    return {'init':init_cnt, 'after':avg_aft_cnt}"
   ]
  },
  {
   "cell_type": "code",
   "execution_count": 89,
   "id": "b888d765",
   "metadata": {},
   "outputs": [],
   "source": [
    "def get_target_acc_results(\n",
    "    init_pred_file, result_dir, top_n, iter_indices = np.arange(30), which = 'fm_rq5', data_type = 'eval'):\n",
    "    \"\"\"\n",
    "    \"\"\"\n",
    "    from glob import glob\n",
    "    \n",
    "    # model.misclf-rq5.0.6-17-38.pkl\n",
    "    misclf_key = None\n",
    "    acc_vs = []; init_acc = None\n",
    "    for idx in iter_indices:\n",
    "        # results/rq5/fm/pa_10/pred/pred.misclf-rq5.2.0-2-4.eval.pkl\n",
    "        result_files = glob(os.path.join(result_dir, \"pred/pred.misclf-rq5.{}.{}-*.{}.pkl\".format(\n",
    "            top_n, idx, data_type)))\n",
    "        assert len(result_files) == 1, result_files\n",
    "        result_file = result_files[0]\n",
    "        \n",
    "        if misclf_key == None:\n",
    "            if which != 'fm_rq5':\n",
    "                misclf_key,_,_,_ = data_util.get_balanced_dataset(init_pred_file, top_n, idx = 0) \n",
    "            else:\n",
    "                #target_data = data_util.load_rq5_fm_test_val(args.datadir, which_type = \"val\") \n",
    "                misclf_key, _, _ = data_util.get_dataset_for_rq5(init_pred_file, top_n)\n",
    "                \n",
    "        preds = pd.read_pickle(result_file)\n",
    "        aft_pred_acc = np.sum(preds.true == preds.new_pred)/len(preds)\n",
    "        acc_vs.append(aft_pred_acc)\n",
    "        if init_acc is None:\n",
    "            init_acc = np.sum(preds.true == preds.pred)/len(preds)\n",
    "    \n",
    "    return {'init':init_acc, 'after':np.mean(acc_vs)}"
   ]
  },
  {
   "cell_type": "markdown",
   "id": "4d41cff5",
   "metadata": {},
   "source": [
    "# Evaluation"
   ]
  },
  {
   "cell_type": "markdown",
   "id": "b53284f6",
   "metadata": {},
   "source": [
    "## Get misclf counts & acc"
   ]
  },
  {
   "cell_type": "code",
   "execution_count": 16,
   "id": "bee12075",
   "metadata": {},
   "outputs": [],
   "source": [
    "misclf_types = {('cnn1',0):(3,5),\n",
    "                ('cnn1',1):(5,3),\n",
    "                ('cnn1',2):(1,9),\n",
    "                \n",
    "                ('cnn2',0):(5,3),\n",
    "                ('cnn2',1):(3,5),\n",
    "                ('cnn2',2):(2,3),\n",
    "                \n",
    "                ('cnn3',0):(5,3),\n",
    "                ('cnn3',1):(3,5),\n",
    "                ('cnn3',2):(2,4),\n",
    "                \n",
    "                ('fm',0):(6,0),\n",
    "                ('fm',1):(0,6),\n",
    "                ('fm',2):(2,4),\n",
    "                \n",
    "                ('GTSRB',0):(17,38),\n",
    "                ('GTSRB',1):(27,2),\n",
    "                ('GTSRB',2):(26,25)}"
   ]
  },
  {
   "cell_type": "code",
   "execution_count": 90,
   "id": "4d7b721c",
   "metadata": {},
   "outputs": [],
   "source": [
    "# all results will be saved here\n",
    "cnts_chg = {}  \n",
    "eval_accs = {}\n",
    "train_accs = {}"
   ]
  },
  {
   "cell_type": "code",
   "execution_count": 115,
   "id": "a0fc4389",
   "metadata": {},
   "outputs": [],
   "source": [
    "#d = pd.DataFrame(cnts_chg)\n",
    "#d.to_pickle(\"/Users/jeongju.sohn/workdir/Journals/autopatch_nn_icse20/rq5_results/cnts.pkl\")"
   ]
  },
  {
   "cell_type": "markdown",
   "id": "ade8b127",
   "metadata": {},
   "source": [
    "### CNN1"
   ]
  },
  {
   "cell_type": "code",
   "execution_count": 91,
   "id": "1fff8e40",
   "metadata": {},
   "outputs": [
    {
     "name": "stdout",
     "output_type": "stream",
     "text": [
      "3 -> 5: 87 (init) -> 24.466666666666665 (aft)\n",
      "5 -> 3: 78 (init) -> 16.4 (aft)\n",
      "1 -> 9: 44 (init) -> 16.466666666666665 (aft)\n"
     ]
    }
   ],
   "source": [
    "for top_n in [0,1,2]:\n",
    "    cnts_chg[('cnn1', top_n)] = get_target_misclf_results(\n",
    "        init_pred_file['cnn1'], result_dir['cnn1'], top_n, iter_indices = np.arange(30))\n",
    "    # acc\n",
    "    eval_accs[('cnn1', top_n)] = get_target_acc_results(\n",
    "        init_pred_file['cnn1'], result_dir['cnn1'], top_n, iter_indices = np.arange(30), data_type = 'eval')\n",
    "    \n",
    "    train_accs[('cnn1', top_n)] = get_target_acc_results(\n",
    "        init_pred_file['cnn1'], result_dir['cnn1'], top_n, iter_indices = np.arange(30), data_type = 'train')"
   ]
  },
  {
   "cell_type": "markdown",
   "id": "b807cf4f",
   "metadata": {},
   "source": [
    "### CNN2"
   ]
  },
  {
   "cell_type": "code",
   "execution_count": 93,
   "id": "5a058005",
   "metadata": {},
   "outputs": [
    {
     "name": "stdout",
     "output_type": "stream",
     "text": [
      "5 -> 3: 69 (init) -> 27.733333333333334 (aft)\n",
      "3 -> 5: 55 (init) -> 23.133333333333333 (aft)\n",
      "2 -> 3: 29 (init) -> 24.066666666666666 (aft)\n"
     ]
    }
   ],
   "source": [
    "for top_n in [0,1,2]:\n",
    "    cnts_chg[('cnn2', top_n)] = get_target_misclf_results(\n",
    "        init_pred_file['cnn2'], result_dir['cnn2'], top_n, iter_indices = np.arange(30))\n",
    "    \n",
    "    # acc\n",
    "    eval_accs[('cnn2', top_n)] = get_target_acc_results(\n",
    "        init_pred_file['cnn2'], result_dir['cnn2'], top_n, iter_indices = np.arange(30), data_type = 'eval')\n",
    "    \n",
    "    # acc\n",
    "    train_accs[('cnn2', top_n)] = get_target_acc_results(\n",
    "        init_pred_file['cnn2'], result_dir['cnn2'], top_n, iter_indices = np.arange(30),  data_type = 'train')"
   ]
  },
  {
   "cell_type": "markdown",
   "id": "e61c8469",
   "metadata": {},
   "source": [
    "### CNN3"
   ]
  },
  {
   "cell_type": "code",
   "execution_count": 94,
   "id": "d82bfec6",
   "metadata": {},
   "outputs": [
    {
     "name": "stdout",
     "output_type": "stream",
     "text": [
      "5 -> 3: 80 (init) -> 14.0 (aft)\n",
      "3 -> 5: 62 (init) -> 14.6 (aft)\n",
      "2 -> 4: 61 (init) -> 20.3 (aft)\n"
     ]
    }
   ],
   "source": [
    "for top_n in [0,1,2]:\n",
    "    cnts_chg[('cnn3', top_n)] = get_target_misclf_results(\n",
    "        init_pred_file['cnn3'], result_dir['cnn3'], top_n, iter_indices = np.arange(30))\n",
    "    \n",
    "    # acc\n",
    "    eval_accs[('cnn3', top_n)] = get_target_acc_results(\n",
    "        init_pred_file['cnn3'], result_dir['cnn3'], top_n, iter_indices = np.arange(30), data_type = 'eval')\n",
    "    \n",
    "    # acc\n",
    "    train_accs[('cnn3', top_n)] = get_target_acc_results(\n",
    "        init_pred_file['cnn3'], result_dir['cnn3'], top_n, iter_indices = np.arange(30), data_type = 'train')"
   ]
  },
  {
   "cell_type": "markdown",
   "id": "16ff18c8",
   "metadata": {},
   "source": [
    "### Fashion-MNIST"
   ]
  },
  {
   "cell_type": "code",
   "execution_count": 95,
   "id": "e94ee1f1",
   "metadata": {},
   "outputs": [
    {
     "name": "stdout",
     "output_type": "stream",
     "text": [
      "6 -> 0: 62 (init) -> 20.2 (aft)\n",
      "2 -> 4: 24 (init) -> 24.466666666666665 (aft)\n",
      "0 -> 6: 48 (init) -> 47.2 (aft)\n"
     ]
    }
   ],
   "source": [
    "## should match with Apircot\n",
    "for top_n in [0,1,2]:\n",
    "    cnts_chg[('fm', top_n)] = get_target_misclf_results(\n",
    "        init_pred_file['fm'], result_dir['fm'], top_n, iter_indices = np.arange(30), which = 'for_rq5')\n",
    "    \n",
    "    # acc\n",
    "    eval_accs[('fm', top_n)] = get_target_acc_results(\n",
    "        init_pred_file['fm'], result_dir['fm'], top_n, iter_indices = np.arange(30), data_type = 'eval')\n",
    "    \n",
    "    # acc\n",
    "    train_accs[('fm', top_n)] = get_target_acc_results(\n",
    "        init_pred_file['fm'], result_dir['fm'], top_n, iter_indices = np.arange(30), data_type = 'train')"
   ]
  },
  {
   "cell_type": "markdown",
   "id": "1ac852b4",
   "metadata": {},
   "source": [
    "### GTSRB"
   ]
  },
  {
   "cell_type": "code",
   "execution_count": 96,
   "id": "84b4a019",
   "metadata": {},
   "outputs": [
    {
     "name": "stdout",
     "output_type": "stream",
     "text": [
      "17 -> 38: 15 (init) -> 9.566666666666666 (aft)\n",
      "27 -> 2: 11 (init) -> 0.0 (aft)\n",
      "26 -> 25: 11 (init) -> 2.1 (aft)\n"
     ]
    }
   ],
   "source": [
    "for top_n in [0,1,2]:\n",
    "    cnts_chg[('GTSRB', top_n)] = get_target_misclf_results(\n",
    "        init_pred_file['GTSRB'], result_dir['GTSRB'], top_n, iter_indices = np.arange(30))\n",
    "    \n",
    "    # acc\n",
    "    eval_accs[('GTSRB', top_n)] = get_target_acc_results(\n",
    "        init_pred_file['GTSRB'], result_dir['GTSRB'], top_n, iter_indices = np.arange(30), data_type = 'eval')\n",
    "    \n",
    "    # acc\n",
    "    train_accs[('GTSRB', top_n)] = get_target_acc_results(\n",
    "        init_pred_file['GTSRB'], result_dir['GTSRB'], top_n, iter_indices = np.arange(30), data_type = 'train')"
   ]
  },
  {
   "cell_type": "code",
   "execution_count": 88,
   "id": "f4166803",
   "metadata": {},
   "outputs": [
    {
     "data": {
      "text/plain": [
       "({'init': 15, 'after': 9.566666666666666},\n",
       " {'init': 0.9689470365699874, 'after': 0.9693831441782261})"
      ]
     },
     "execution_count": 88,
     "metadata": {},
     "output_type": "execute_result"
    }
   ],
   "source": [
    "cnts_chg[('GTSRB',0)], accs[('GTSRB',0)]"
   ]
  },
  {
   "cell_type": "markdown",
   "id": "f5173e14",
   "metadata": {},
   "source": [
    "### print out acc "
   ]
  },
  {
   "cell_type": "code",
   "execution_count": 100,
   "id": "d3156cdc",
   "metadata": {},
   "outputs": [
    {
     "data": {
      "text/plain": [
       "{('cnn1', 0): {'init': 0.7649990033884791, 'after': 0.7507408145638165},\n",
       " ('cnn1', 1): {'init': 0.7649990033884791, 'after': 0.7517440701614514},\n",
       " ('cnn1', 2): {'init': 0.7649990033884791, 'after': 0.7612783203773833},\n",
       " ('cnn2', 0): {'init': 0.8282647584973166, 'after': 0.8225800039753527},\n",
       " ('cnn2', 1): {'init': 0.8282647584973166, 'after': 0.8184191346982045},\n",
       " ('cnn2', 2): {'init': 0.8282647584973166, 'after': 0.8266944941363545},\n",
       " ('cnn3', 0): {'init': 0.7705636327424816, 'after': 0.7413397065657572},\n",
       " ('cnn3', 1): {'init': 0.7705636327424816, 'after': 0.7516630153355907},\n",
       " ('cnn3', 2): {'init': 0.7705636327424816, 'after': 0.7373497975170948},\n",
       " ('fm', 0): {'init': 0.9264, 'after': 0.9127400000000001},\n",
       " ('fm', 1): {'init': 0.9264, 'after': 0.9199466666666666},\n",
       " ('fm', 2): {'init': 0.9264, 'after': 0.9264333333333334},\n",
       " ('GTSRB', 0): {'init': 0.966205595724615, 'after': 0.9658807502881694},\n",
       " ('GTSRB', 1): {'init': 0.966205595724615, 'after': 0.9690244158021587},\n",
       " ('GTSRB', 2): {'init': 0.966205595724615, 'after': 0.9661898773970449}}"
      ]
     },
     "execution_count": 100,
     "metadata": {},
     "output_type": "execute_result"
    }
   ],
   "source": [
    "for k, misclf_type in misclf_types.items():\n",
    "    train_accs[k]['init']\n",
    "    \n"
   ]
  },
  {
   "cell_type": "code",
   "execution_count": 103,
   "id": "92f2a3e7",
   "metadata": {},
   "outputs": [
    {
     "data": {
      "text/plain": [
       "{'init': 0.7711472774763914, 'after': 0.7539950438684616}"
      ]
     },
     "execution_count": 103,
     "metadata": {},
     "output_type": "execute_result"
    }
   ],
   "source": [
    "eval_accs[('cnn1', 0)]"
   ]
  },
  {
   "cell_type": "markdown",
   "id": "242fdf86",
   "metadata": {},
   "source": [
    "### Combined "
   ]
  },
  {
   "cell_type": "code",
   "execution_count": 36,
   "id": "f92867e3",
   "metadata": {},
   "outputs": [],
   "source": [
    "init_cnt = 0; aft_cnt = 0\n",
    "for cnt_vs in cnts_chg.values():\n",
    "    init_cnt += cnt_vs['init']\n",
    "    aft_cnt += cnt_vs['after']\n",
    "\n",
    "cnts_chg['all'] = {'init':init_cnt, 'after':aft_cnt}"
   ]
  },
  {
   "cell_type": "markdown",
   "id": "76af4a0a",
   "metadata": {},
   "source": [
    "## Plot"
   ]
  },
  {
   "cell_type": "code",
   "execution_count": 32,
   "id": "82271b3c",
   "metadata": {},
   "outputs": [],
   "source": [
    "def plot_generalisability_in_one(changes, misclf_keys, figsize = (8,6), title = None, filepath = None):\n",
    "    \"\"\"\n",
    "    \"\"\"\n",
    "    import numpy as np\n",
    "    import matplotlib.pyplot as plt\n",
    "    import matplotlib.patches as patches\n",
    "    from matplotlib.lines import Line2D\n",
    "    \n",
    "    fig = plt.figure(figsize = figsize)    \n",
    "    ax = fig.add_subplot(1,1,1)\n",
    "\n",
    "    \n",
    "    color = 'red'\n",
    "    data_types = [\n",
    "        ('cnn1',0), ('cnn1',1), ('cnn1',2),\n",
    "        ('cnn2',0), ('cnn2',1), ('cnn2',2),\n",
    "        ('cnn3',0), ('cnn3',1), ('cnn3',2),\n",
    "        ('fm',0), ('fm',1), ('fm',2),\n",
    "        ('GTSRB',0), ('GTSRB',1), ('GTSRB',2)]\n",
    "    \n",
    "    width = 0.7; height =2.\n",
    "    \n",
    "    xs = np.arange(len(data_types)) + 0.5\n",
    "    for i, data_type in enumerate(data_types):\n",
    "        cnt_init = changes[data_type]['init']\n",
    "        cnt_aft = changes[data_type]['after']\n",
    "\n",
    "        rect_1 = patches.Rectangle(xy=(xs[i], cnt_init), edgecolor = color, facecolor = color,\n",
    "                    alpha = 0.3, width=width, height=height, fill = True)\n",
    "\n",
    "        rect_2 = patches.Rectangle(xy=(xs[i], cnt_aft),edgecolor = color, facecolor = color,\n",
    "                    width=width, height=height, fill = True)\n",
    "        \n",
    "        ax.add_patch(rect_1); ax.add_patch(rect_2)\n",
    "            \n",
    "        dx = 0; dy = np.min(cnt_aft - cnt_init + height*2, 0)\n",
    "        if dy < 0:\n",
    "            ax.arrow(xs[i]+width/2, cnt_init, dx, dy, head_width=width/4, head_length=height, fc='k', ec='k')\n",
    "        else:\n",
    "            dy = np.min(cnt_aft - cnt_init + height)\n",
    "            ax.arrow(xs[i]+width/2, cnt_init, dx, dy, head_width=0, head_length=0, fc='k', ec='k')\n",
    "\n",
    "    ax.set_xticks(xs + width/2)\n",
    "    #ftypes = [str(misclf_keys[iter_idx][1]) + r'$\\rightarrow$' + str(misclf_keys[iter_idx][1]) \n",
    "    #            for iter_idx in np.arange(top_n)]\n",
    "    \n",
    "    ftypes = [\"{} ({},{})\".format(\n",
    "        data_type[0].upper(), misclf_keys[data_type][0], misclf_keys[data_type][1]) \n",
    "        for data_type in data_types]\n",
    "    \n",
    "    ax.set_xticklabels(ftypes, rotation = 60,fontsize = 16)\n",
    "        \n",
    "    minor_ticks = xs -1 + width + width/4\n",
    "    ax.set_xticks(minor_ticks, minor=True)\n",
    "    \n",
    "    ax.set_ylabel(\"Error Count\", fontsize = 18)\n",
    "    ax.tick_params(axis='both', which='major', labelsize=16)\n",
    "    \n",
    "    ax.grid(which='minor', axis='x', zorder = 100)\n",
    "    ax.grid(which='major', axis='y', zorder = 100)\n",
    "    \n",
    "    ax.set_xlim(0, len(data_types) + 0.5)\n",
    "        \n",
    "    if title is not None:\n",
    "        ax.set_title(title, fontsize = 18)\n",
    "    \n",
    "    legend_elements = [Line2D([0], [0], color='r', lw=4, alpha = 0.3, label='Before Repair'),\n",
    "                       Line2D([0], [0], color='r', lw=4, label='After Repair')]\n",
    "    \n",
    "    ax.legend(handles=legend_elements, fontsize =14)\n",
    "\n",
    "    plt.tight_layout()\n",
    "    if filepath is not None:\n",
    "        plt.savefig(filepath)\n",
    "    \n",
    "    plt.show()\n",
    "    "
   ]
  },
  {
   "cell_type": "code",
   "execution_count": 34,
   "id": "429e268a",
   "metadata": {},
   "outputs": [
    {
     "data": {
      "image/png": "[encoded data removed]",
      "text/plain": [
       "<Figure size 720x432 with 1 Axes>"
      ]
     },
     "metadata": {
      "needs_background": "light"
     },
     "output_type": "display_data"
    }
   ],
   "source": [
    "filepath = \"/Users/jeongju.sohn/workdir/Journals/autopatch_nn_icse20/figures/rev/rq5/arachne.pdf\"\n",
    "plot_generalisability_in_one(\n",
    "    cnts_chg, misclf_types, title = 'Arachne', figsize = (10,6), filepath = filepath)"
   ]
  },
  {
   "cell_type": "code",
   "execution_count": 38,
   "id": "0d54907a",
   "metadata": {},
   "outputs": [
    {
     "data": {
      "text/plain": [
       "{('cnn1', 0): {'init': 87, 'after': 24.466666666666665},\n",
       " ('cnn1', 1): {'init': 78, 'after': 16.4},\n",
       " ('cnn1', 2): {'init': 44, 'after': 16.466666666666665},\n",
       " ('cnn2', 0): {'init': 69, 'after': 27.733333333333334},\n",
       " ('cnn2', 1): {'init': 55, 'after': 23.133333333333333},\n",
       " ('cnn2', 2): {'init': 29, 'after': 24.066666666666666},\n",
       " ('cnn3', 0): {'init': 80, 'after': 14.0},\n",
       " ('cnn3', 1): {'init': 62, 'after': 14.6},\n",
       " ('cnn3', 2): {'init': 61, 'after': 20.3},\n",
       " ('fm', 0): {'init': 62, 'after': 20.2},\n",
       " ('fm', 1): {'init': 24, 'after': 24.466666666666665},\n",
       " ('fm', 2): {'init': 48, 'after': 47.2},\n",
       " ('GTSRB', 0): {'init': 15, 'after': 9.566666666666666},\n",
       " ('GTSRB', 1): {'init': 11, 'after': 0.0},\n",
       " ('GTSRB', 2): {'init': 11, 'after': 2.1},\n",
       " 'all': {'init': 736, 'after': 284.7}}"
      ]
     },
     "execution_count": 38,
     "metadata": {},
     "output_type": "execute_result"
    }
   ],
   "source": [
    "cnts_chg"
   ]
  },
  {
   "cell_type": "markdown",
   "id": "7d54fe78",
   "metadata": {},
   "source": [
    "## Time Efficency"
   ]
  },
  {
   "cell_type": "markdown",
   "id": "c74442f1",
   "metadata": {},
   "source": [
    "Currently, the localisation has been performed on cpu, meaning it has not reached the full speed (+ also, target the entire layers). Eevne"
   ]
  },
  {
   "cell_type": "code",
   "execution_count": 46,
   "id": "b155977b",
   "metadata": {},
   "outputs": [],
   "source": [
    "def time_of_execution(logfile):\n",
    "    \"\"\"\n",
    "    currenlty r\n",
    "    \"\"\"\n",
    "    import re\n",
    "    \n",
    "    overall_time_pat = \"Time for patching:\\s+([^\\s]+)\"\n",
    "    loc_time_pat = \"Time for total localisation:\\s+([^\\s]+)\"\n",
    "    \n",
    "    overall_times = []\n",
    "    loc_times = []\n",
    "    with open(logfile) as f:\n",
    "        for line in f.readlines():\n",
    "            matched = re.match(overall_time_pat, line)\n",
    "            if bool(matched):\n",
    "                out = \"\".join(matched.groups())\n",
    "                overall_exe_scnds = eval(out)\n",
    "                overall_times.append(overall_exe_scnds)\n",
    "                \n",
    "            matched = re.match(loc_time_pat, line)\n",
    "            if bool(matched):\n",
    "                out = \"\".join(matched.groups())\n",
    "                loc_exe_scnds = eval(out)\n",
    "                loc_times.append(loc_exe_scnds)\n",
    "            #overall_times.append(overall_exe_scnds)\n",
    "            #loc_times.append(loc_exe_scnds)\n",
    "        \n",
    "    assert len(overall_times) == 1 and len(loc_times) == 1, \"{} ({}) vs {} ({})\".format(\n",
    "        len(overall_times), overall_time_pat, len(loc_times), loc_time_pat)\n",
    "    \n",
    "    return overall_times[0], loc_times[0]"
   ]
  },
  {
   "cell_type": "code",
   "execution_count": 47,
   "id": "65bd030c",
   "metadata": {},
   "outputs": [
    {
     "data": {
      "text/plain": [
       "(167.35584235191345, 38.7704656124115)"
      ]
     },
     "execution_count": 47,
     "metadata": {},
     "output_type": "execute_result"
    }
   ],
   "source": [
    "time_of_execution(\"../logs/rq5/fm/fm.rq5.0.0.out\")"
   ]
  },
  {
   "cell_type": "code",
   "execution_count": 48,
   "id": "18fdb8aa",
   "metadata": {},
   "outputs": [],
   "source": [
    "def get_avg_exec_times(logdir, top_n = 0):\n",
    "    \"\"\"\n",
    "    \"\"\"\n",
    "    import glob \n",
    "    logfiles = glob.glob(os.path.join(logdir, \"*.rq5.{}.*.out\".format(top_n)))\n",
    "    \n",
    "    overall_times = []\n",
    "    for logfile in logfiles:\n",
    "        overall_time, _ = time_of_execution(logfile)\n",
    "        overall_times.append(overall_time)\n",
    "    \n",
    "    return np.mean(overall_times)"
   ]
  },
  {
   "cell_type": "code",
   "execution_count": 58,
   "id": "d453e047",
   "metadata": {},
   "outputs": [],
   "source": [
    "import datetime"
   ]
  },
  {
   "cell_type": "markdown",
   "id": "12272814",
   "metadata": {},
   "source": [
    "### CNN1"
   ]
  },
  {
   "cell_type": "code",
   "execution_count": 60,
   "id": "f69a8af8",
   "metadata": {},
   "outputs": [
    {
     "data": {
      "text/plain": [
       "'0:02:06.441917'"
      ]
     },
     "execution_count": 60,
     "metadata": {},
     "output_type": "execute_result"
    }
   ],
   "source": [
    "t_scnds = get_avg_exec_times(\"../logs/rq5/cnn1\", top_n = 0)\n",
    "str(datetime.timedelta(seconds = t_scnds))"
   ]
  },
  {
   "cell_type": "markdown",
   "id": "461d67b0",
   "metadata": {},
   "source": [
    "### CNN2"
   ]
  },
  {
   "cell_type": "code",
   "execution_count": 61,
   "id": "cb96ee43",
   "metadata": {},
   "outputs": [
    {
     "data": {
      "text/plain": [
       "'0:06:07.711695'"
      ]
     },
     "execution_count": 61,
     "metadata": {},
     "output_type": "execute_result"
    }
   ],
   "source": [
    "t_scnds = get_avg_exec_times(\"../logs/rq5/cnn2\", top_n = 0)\n",
    "str(datetime.timedelta(seconds = t_scnds))"
   ]
  },
  {
   "cell_type": "markdown",
   "id": "73908207",
   "metadata": {},
   "source": [
    "### CNN3"
   ]
  },
  {
   "cell_type": "code",
   "execution_count": 62,
   "id": "b80405b0",
   "metadata": {},
   "outputs": [
    {
     "data": {
      "text/plain": [
       "'0:06:40.483300'"
      ]
     },
     "execution_count": 62,
     "metadata": {},
     "output_type": "execute_result"
    }
   ],
   "source": [
    "t_scnds = get_avg_exec_times(\"../logs/rq5/cnn3\", top_n = 0)\n",
    "str(datetime.timedelta(seconds = t_scnds))"
   ]
  },
  {
   "cell_type": "markdown",
   "id": "0a4e7618",
   "metadata": {},
   "source": [
    "### GTSRB"
   ]
  },
  {
   "cell_type": "code",
   "execution_count": 63,
   "id": "1ef7249b",
   "metadata": {},
   "outputs": [
    {
     "data": {
      "text/plain": [
       "'0:23:19.195311'"
      ]
     },
     "execution_count": 63,
     "metadata": {},
     "output_type": "execute_result"
    }
   ],
   "source": [
    "t_scnds = get_avg_exec_times(\"../logs/rq5/GTSRB\", top_n = 0)\n",
    "str(datetime.timedelta(seconds = t_scnds))"
   ]
  },
  {
   "cell_type": "markdown",
   "id": "26ee0ba1",
   "metadata": {},
   "source": [
    "### Fashion MNIST"
   ]
  },
  {
   "cell_type": "code",
   "execution_count": 64,
   "id": "61cdc067",
   "metadata": {},
   "outputs": [
    {
     "data": {
      "text/plain": [
       "'0:02:18.971900'"
      ]
     },
     "execution_count": 64,
     "metadata": {},
     "output_type": "execute_result"
    }
   ],
   "source": [
    "t_scnds = get_avg_exec_times(\"../logs/rq5/fm\", top_n = 0)\n",
    "str(datetime.timedelta(seconds = t_scnds))"
   ]
  }
 ],
 "metadata": {
  "kernelspec": {
   "display_name": "Python 3 (ipykernel)",
   "language": "python",
   "name": "python3"
  },
  "language_info": {
   "codemirror_mode": {
    "name": "ipython",
    "version": 3
   },
   "file_extension": ".py",
   "mimetype": "text/x-python",
   "name": "python",
   "nbconvert_exporter": "python",
   "pygments_lexer": "ipython3",
   "version": "3.9.9"
  }
 },
 "nbformat": 4,
 "nbformat_minor": 5
}
