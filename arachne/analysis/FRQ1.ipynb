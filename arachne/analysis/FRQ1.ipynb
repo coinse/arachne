{
 "cells": [
  {
   "cell_type": "code",
   "execution_count": 1,
   "id": "c050cd7b",
   "metadata": {},
   "outputs": [],
   "source": [
    "%load_ext autoreload\n",
    "%autoreload 2"
   ]
  },
  {
   "cell_type": "code",
   "execution_count": 2,
   "id": "13834098",
   "metadata": {},
   "outputs": [],
   "source": [
    "import tensorflow as tf\n",
    "from tensorflow.keras.models import load_model\n",
    "import os\n",
    "import pandas as pd\n",
    "import numpy as np\n",
    "from tqdm import tqdm"
   ]
  },
  {
   "cell_type": "code",
   "execution_count": 3,
   "id": "368c4310",
   "metadata": {},
   "outputs": [],
   "source": [
    "import sys\n",
    "sys.path.insert(0, \"../\")"
   ]
  },
  {
   "cell_type": "code",
   "execution_count": 4,
   "id": "7d88ad8f",
   "metadata": {},
   "outputs": [],
   "source": [
    "from functools import reduce\n",
    "from run_localise import get_target_weights\n",
    "# the problem here is that this will return a fixed path\n",
    "from main_rq1 import return_target_mdl_and_gt_path"
   ]
  },
  {
   "cell_type": "code",
   "execution_count": 46,
   "id": "9ccd0b9a",
   "metadata": {},
   "outputs": [],
   "source": [
    "import matplotlib.pyplot as plt"
   ]
  },
  {
   "cell_type": "code",
   "execution_count": 5,
   "id": "f7517d64",
   "metadata": {},
   "outputs": [],
   "source": [
    "datadir = \"../data\"\n",
    "root_faulty_mdl_dir = os.path.join(datadir, \"models/faulty_models/by_tweak/chg/0_001/mv\")\n",
    "faulty_mdl_dirs = {'cifar10':os.path.join(root_faulty_mdl_dir, \"cifar10\"), \n",
    "                  'fashion_mnist':os.path.join(root_faulty_mdl_dir, \"fashion_mnist\"),\n",
    "                  'GTSRB':os.path.join(root_faulty_mdl_dir, \"GTSRB\")}\n",
    "\n",
    "fid_files = {'cifar10':os.path.join(datadir,\"rq1_fault_ids/cifar10.target.fault_ids.csv\"),\n",
    "             'fashion_mnist':os.path.join(datadir, \"rq1_fault_ids/fm.target.fault_ids.csv\"),\n",
    "            'GTSRB':os.path.join(datadir, \"rq1_fault_ids/gtsrb.target.fault_ids.csv\")}"
   ]
  },
  {
   "cell_type": "code",
   "execution_count": 6,
   "id": "146369fe",
   "metadata": {},
   "outputs": [],
   "source": [
    "pairdirs = {'cifar10':\"../results/rq1/new_loc/simple_cm/pairs\", \n",
    "            'fashion_mnist':\"../results/rq1/new_loc/simple_fm/pairs\", \n",
    "           'GTSRB':\"../results/rq1/new_loc/GTSRB/pairs\"} \n",
    "\n",
    "tst_pairdirs = {'cifar10':\"../results/rq1/new_loc/on_test/simple_cm/pairs\", \n",
    "            'fashion_mnist':\"../results/rq1/new_loc/on_test/simple_fm/pairs\", \n",
    "           'GTSRB':\"../results/rq1/new_loc/on_test/GTSRB/pairs\"} "
   ]
  },
  {
   "cell_type": "code",
   "execution_count": 7,
   "id": "bf61c211",
   "metadata": {},
   "outputs": [],
   "source": [
    "num_faults = {'cifar10':40, 'fashion_mnist':31, 'GTSRB':35}\n",
    "mdl_paths = {'cifar10':\"../data/models/cifar_simple_90p.h5\", \n",
    "           'fashion_mnist':\"../data/models/fmnist_simple.h5\",\n",
    "            'GTSRB':\"../data/models/GTSRB_NEW/simple/gtsrb.model.0.wh.0.h5\"}"
   ]
  },
  {
   "cell_type": "markdown",
   "id": "3cd21256",
   "metadata": {},
   "source": [
    "# What can we check\n",
    "\n",
    "1. gradient loss of ground truth neural weights and the localisation effectiveness (rank) \n",
    "    - check whether they are correlated\n",
    "    - we have inserted faults randomly, but the search process (i.e., finding the ones that could change the behaviour of a DNN model significantly) might indirectly direct the search towards the neural with higher grandient loss) \n",
    "    - changes != incorrect behaviour (we consider all types of changes here, both fix and fault) \n",
    "2. per layer analysis -> Done\n",
    "3. the distance from the normal distribution of weights and the localisation effectivenss\n",
    "    - check the correlation (plot them -> how they are correlated -> If shows a stronger correlation, the corresponding localisation method is simply choosing a neural weight far from the normal distribution) \n",
    "    - e.g., if they are correlated, then this means that .... "
   ]
  },
  {
   "cell_type": "code",
   "execution_count": 28,
   "id": "fc67f93e",
   "metadata": {},
   "outputs": [],
   "source": [
    "def get_loc_result(which_data, loc_method, num_samples = 1, seed = None, on_test = False):\n",
    "    \"\"\"\n",
    "    loc_method: localiser, gradient_loss, random\n",
    "    cost order: \n",
    "        ratio of chgd/unchgd for (gradient_loss, forward_impact) <- cost_from_chgd/(1. + cost_from_unchgd)\n",
    "    \"\"\"\n",
    "    from glob import glob\n",
    "    pairdir = os.path.join(\n",
    "        pairdirs[which_data] if not on_test else tst_pairdirs[which_data], loc_method)\n",
    "    \n",
    "    if seed is None:\n",
    "        np.random.seed(0)\n",
    "        files = glob(os.path.join(pairdir, \"*.pairs.csv\"))\n",
    "        indices = np.random.choice(np.arange(len(files)), 30, replace = False)\n",
    "        files = [files[i] for i in indices]\n",
    "    else:\n",
    "        files = glob(os.path.join(pairdir, \"{}.pairs.csv\".format(seed)))\n",
    "    \n",
    "    dfs = {}\n",
    "    for afile in tqdm(files):\n",
    "        fid = int(os.path.basename(afile).split(\".\")[0])\n",
    "        df = pd.read_csv(afile, sep = \";\", header = None)\n",
    "        dfs[fid] = df\n",
    "        df[0] = [eval(v) for v in df[0]]\n",
    "        df[1] = [eval(v.replace('array', 'np.array')) for v in df[1]]\n",
    "    \n",
    "    return dfs"
   ]
  },
  {
   "cell_type": "code",
   "execution_count": 27,
   "id": "239acccf",
   "metadata": {},
   "outputs": [],
   "source": [
    "def get_gts(seed, which_data):\n",
    "    \"\"\"\n",
    "    \"\"\"\n",
    "    _, gt_file = return_target_mdl_and_gt_path(fid_files[which_data], seed, which_data)\n",
    "    #print (gt_file)\n",
    "    gts_df = pd.read_pickle(os.path.join(\"../\", gt_file))\n",
    "    \n",
    "    gt_layers = gts_df.layer.values\n",
    "    gt_weights = [tuple(w) for w in gts_df.w_idx.values]\n",
    "    gts = list(zip(gt_layers, gt_weights))\n",
    "    return gts, gts_df"
   ]
  },
  {
   "cell_type": "code",
   "execution_count": 11,
   "id": "01e0301d",
   "metadata": {},
   "outputs": [],
   "source": [
    "def get_ranks_of_gts(loc_method, loc_result_df, gts, tie_method = 'average', ws = None):\n",
    "    \"\"\"\n",
    "    \"\"\"\n",
    "    check = lambda vs, target_v: [v[0] == target_v for v in vs]\n",
    "    ranks_of_gts = {}\n",
    "    \n",
    "    if loc_method == \"localiser\":\n",
    "        ## \n",
    "        uniq_sizes_of_pareto = sorted(list(set([vs[0] for vs in loc_result_df[1].values])))\n",
    "        for gt in gts:\n",
    "            #r_of_gt = loc_result_df.loc[loc_result_df[0] == gt][1].values[0][0] # the firt matched & the rank\n",
    "            max_rank_of_gt = loc_result_df.loc[loc_result_df[0] == gt][1].values[0][0] \n",
    "            nelems_to_front = max_rank_of_gt\n",
    "            front_size = np.sum([loc_result_df[1].apply(lambda v:v[0]) == nelems_to_front])\n",
    "            \n",
    "            if tie_method == 'average':\n",
    "                #ranks_of_gts[gt] = int(r_of_gt/2) if r_of_gt > 1 else r_of_gt\n",
    "                ranks_of_gts[gt] = max_rank_of_gt - front_size/2 + 0.5\n",
    "            elif tie_method == 'min':\n",
    "                #idx = uniq_sizes_of_pareto.index(max_rank_of_gt)\n",
    "                #if idx == 0:\n",
    "                #    ranks_of_gts[gt] = 1\n",
    "                #else:\n",
    "                #    ranks_of_gts[gt] = uniq_sizes_of_pareto[idx-1] + 1\n",
    "                ranks_of_gts[gt] = max_rank_of_gt - front_size + 1\n",
    "            elif tie_method == 'max':\n",
    "                ranks_of_gts[gt] = max_rank_of_gt\n",
    "                \n",
    "    elif loc_method == 'gradient_loss':\n",
    "        for gt in gts:\n",
    "            max_rank_of_gt = loc_result_df.loc[loc_result_df[0] == gt][1].values[0][0] # for max \n",
    "            \n",
    "            if tie_method in ['average', 'min']:\n",
    "                num_has_same_r = len(loc_result_df.loc[check(loc_result_df[1].values, max_rank_of_gt)][1].values)\n",
    "                max_rank_of_gt = max_rank_of_gt + (num_has_same_r - 1)/2 if tie_method == 'average' \\\n",
    "                    else max_rank_of_gt - (num_has_same_r-1)\n",
    "            \n",
    "            ranks_of_gts[gt] = max_rank_of_gt\n",
    "    else: # random\n",
    "        assert ws is not None\n",
    "        from functools import reduce\n",
    "        num_ws = np.sum([reduce(np.multiply, w[0].shape) for w in ws.values()])\n",
    "        sampled_ranks = np.random.choice(range(num_ws), len(gts), replace = False)\n",
    "        for gt, r in zip(gts, sampled_ranks):\n",
    "            ranks_of_gts[gt] = r\n",
    "            \n",
    "    return ranks_of_gts"
   ]
  },
  {
   "cell_type": "code",
   "execution_count": 29,
   "id": "5404be43",
   "metadata": {},
   "outputs": [],
   "source": [
    "def compute_tpr_fpr(gt_ranks, which_data, mdl_path, indices_to_target = None):\n",
    "    \"\"\"\n",
    "    gt_ranks -> ranks up to gts \n",
    "    gts: a list of ground trith (layer_idx, weight idx)\n",
    "    \"\"\"\n",
    "    from sklearn.metrics import auc\n",
    "    \n",
    "    ws = get_target_weights(None, mdl_path, indices_to_target = indices_to_target, target_all = True)\n",
    "    uniq_layers = sorted(list(ws.keys()))\n",
    "    all_pos_ranks = np.arange(1, np.sum(\n",
    "        [reduce(np.multiply, ws[uniq_layer][0].shape) for uniq_layer in uniq_layers])+1)\n",
    "    \n",
    "    seeds = sorted(list(gt_ranks.keys()))\n",
    "    num_iter = len(seeds)\n",
    "    \n",
    "    # for each iter, compute tpr and fpr\n",
    "    tprs_per_iter = np.zeros((len(all_pos_ranks), num_iter))\n",
    "    fprs_per_iter = np.zeros((len(all_pos_ranks), num_iter))\n",
    "    for i, seed in enumerate(tqdm(seeds)):\n",
    "        gts, _ = get_gts(seed, which_data)\n",
    "        r_gts = np.asarray([gt_ranks[seed][gt] for gt in gts])   \n",
    "        N = len(all_pos_ranks) - len(r_gts)\n",
    "        for j, arank in enumerate(all_pos_ranks):\n",
    "            n_tp = np.sum(r_gts <= arank)\n",
    "            tpr = n_tp/len(gts)\n",
    "            n_fp = arank - n_tp\n",
    "            fpr = n_fp/N\n",
    "            \n",
    "            tprs_per_iter[j,i] = tpr\n",
    "            fprs_per_iter[j,i] = fpr\n",
    "        \n",
    "    return {'x':all_pos_ranks, 'tpr':tprs_per_iter, 'fpr':fprs_per_iter}"
   ]
  },
  {
   "cell_type": "code",
   "execution_count": 252,
   "id": "0fa47480",
   "metadata": {},
   "outputs": [],
   "source": [
    "def get_layers_with_fault(which_data, iter_indices = np.arange(30)):\n",
    "    \"\"\"\n",
    "    \"\"\"\n",
    "    layers = []; players ={}\n",
    "    for iter_idx in iter_indices:\n",
    "        gts, _ = get_gts(iter_idx, which_data)\n",
    "        layers.extend([gt[0] for gt in gts])\n",
    "        players[iter_idx] = [gt[0] for gt in gts][0]\n",
    "    layers = set(layers)\n",
    "    return sorted(list(layers)), players"
   ]
  },
  {
   "cell_type": "code",
   "execution_count": null,
   "id": "897de087",
   "metadata": {},
   "outputs": [],
   "source": [
    "def plot_tpr_fpr_v1(tprs_diffloc, fprs_diffloc, loc_methods, colors, \n",
    "                    figsize = (8,6), title = None, file_path = None, cut = False):\n",
    "    \"\"\"\n",
    "    \"\"\"\n",
    "    import matplotlib.pyplot as plt\n",
    "    \n",
    "    fig = plt.figure(figsize = figsize)\n",
    "    ax = fig.add_subplot(111)\n",
    "    \n",
    "    if cut:\n",
    "        ats_tpr_to_1 = [np.where(np.mean(tprs_diffloc[loc_method],axis=1)==1)[0][0] for loc_method in loc_methods]\n",
    "        at_all_tpr_to_1 = np.min(ats_tpr_to_1)\n",
    "    else:\n",
    "        at_all_tpr_to_1 = None\n",
    "    \n",
    "    for loc_method, color in zip(loc_methods, colors):\n",
    "        tprs = tprs_diffloc[loc_method] if at_all_tpr_to_1 is None else tprs_diffloc[loc_method][:at_all_tpr_to_1+1]\n",
    "        fprs = fprs_diffloc[loc_method] if at_all_tpr_to_1 is None else fprs_diffloc[loc_method][:at_all_tpr_to_1+1]\n",
    "        \n",
    "        mean_tpr_per_iter = np.mean(tprs, axis = 1) # will be ys\n",
    "        mean_fpr_per_iter = np.mean(fprs, axis = 1) # will be xs\n",
    "        ax.plot(mean_fpr_per_iter, mean_tpr_per_iter, \n",
    "                color = color, linestyle='solid', label = loc_method) #marker='o', ms = 0.1,\n",
    "    \n",
    "    #print (at_all_tpr_to_1, mean_fpr_per_iter[at_all_tpr_to_1])\n",
    "    if cut:\n",
    "        ax.set_xlim([None, mean_fpr_per_iter[at_all_tpr_to_1]])#+0.002])\n",
    "    ax.set_xlabel(\"False Positive Rate\", fontsize = 15)\n",
    "    ax.set_ylabel(\"True Postivie Rate\",  fontsize = 15)\n",
    "    \n",
    "    if title is not None:\n",
    "        ax.set_title(title, fontsize = 18)\n",
    "    \n",
    "    if file_path is not None:\n",
    "        plt.savefig(file_path)\n",
    "        \n",
    "    plt.legend(prop={'size': 12})\n",
    "    plt.show()"
   ]
  },
  {
   "cell_type": "code",
   "execution_count": 79,
   "id": "6abe4f1a",
   "metadata": {},
   "outputs": [],
   "source": [
    "def compute_tpr_fpr_to_plot(outs):\n",
    "    \"\"\"\n",
    "    \"\"\"\n",
    "    tpr_vs = np.apply_along_axis(lambda v:np.sum(v)/len(v), 0, outs['tpr'].T)\n",
    "    fpr_vs = np.apply_along_axis(lambda v:np.sum(v)/len(v), 0, outs['fpr'].T)\n",
    "    \n",
    "    return tpr_vs, fpr_vs"
   ]
  },
  {
   "cell_type": "code",
   "execution_count": 243,
   "id": "2a73a1d1",
   "metadata": {},
   "outputs": [],
   "source": [
    "def plot(tprs_fprs, title, figsize = (8,6), file_name = None):\n",
    "    \"\"\"\n",
    "    \"\"\"\n",
    "    fig = plt.figure(figsize = figsize)\n",
    "    ax = fig.add_subplot(111)\n",
    "    \n",
    "    ax.plot(tprs_fprs['localiser']['fpr'], tprs_fprs['localiser']['tpr'], c = 'red', label = 'BL')\n",
    "    ax.plot(tprs_fprs['gradient_loss']['fpr'], tprs_fprs['gradient_loss']['tpr'], c = 'blue', label = 'GL')\n",
    "    ax.plot(tprs_fprs['random']['fpr'], tprs_fprs['random']['tpr'], c = 'green', label = 'RD')\n",
    "    \n",
    "    ax.set_xlabel(\"False Positive Rate\", fontsize = 26)\n",
    "    ax.set_ylabel(\"True Positive Rate\", fontsize = 27)\n",
    "    #ax.set_title(title, fontsize = 20)\n",
    "    \n",
    "    ax.tick_params(axis='both', which='major', labelsize=20)\n",
    "    \n",
    "    plt.legend(fontsize = 26)\n",
    "    plt.tight_layout()\n",
    "    if file_name is not None:\n",
    "        plt.savefig(file_name)\n",
    "    \n",
    "    plt.show()"
   ]
  },
  {
   "cell_type": "code",
   "execution_count": 103,
   "id": "0efdf49b",
   "metadata": {},
   "outputs": [],
   "source": [
    "def compute_MRR(rs):\n",
    "    \"\"\"\n",
    "    \"\"\"\n",
    "    return np.mean([1/r for r in rs])"
   ]
  },
  {
   "cell_type": "code",
   "execution_count": 133,
   "id": "73eb5f2c",
   "metadata": {},
   "outputs": [],
   "source": [
    "def compute_auc_roc_score(fprs, tprs):\n",
    "    from sklearn.metrics import auc\n",
    "    return auc(fprs, tprs)"
   ]
  },
  {
   "cell_type": "code",
   "execution_count": 201,
   "id": "1b53de34",
   "metadata": {},
   "outputs": [],
   "source": [
    "def get_ranks(loc_results, loc_methods = ['localiser', 'gradient_loss', 'random']):\n",
    "    \"\"\"\n",
    "    \"\"\"\n",
    "    ranks = {}\n",
    "    for loc_mth in loc_methods:\n",
    "        ranks[loc_mth] = []\n",
    "        for vs in loc_results[loc_mth].values():\n",
    "            w, r = list(vs.items())[0]\n",
    "            ranks[loc_mth].append(r)\n",
    "    return ranks"
   ]
  },
  {
   "cell_type": "markdown",
   "id": "a9c8f95b",
   "metadata": {},
   "source": [
    "# Evaluation"
   ]
  },
  {
   "cell_type": "code",
   "execution_count": 34,
   "id": "fd401cd4",
   "metadata": {},
   "outputs": [],
   "source": [
    "weights = {}\n",
    "for k in ['cifar10', 'fashion_mnist', 'GTSRB']:\n",
    "    weights[k] = get_target_weights(None, mdl_paths[k], indices_to_target = None, target_all = True)"
   ]
  },
  {
   "cell_type": "markdown",
   "id": "9459907e",
   "metadata": {},
   "source": [
    "## Fashion MNIST"
   ]
  },
  {
   "cell_type": "code",
   "execution_count": 222,
   "id": "6cd3d55f",
   "metadata": {},
   "outputs": [
    {
     "name": "stderr",
     "output_type": "stream",
     "text": [
      "100%|███████████████████████████████████████████████████████████████████████████████████████████████████████████████████████████████████████████████████████████████████████████████████████████████████████████████████████████████████████████| 30/30 [00:00<00:00, 77.18it/s]\n",
      "100%|███████████████████████████████████████████████████████████████████████████████████████████████████████████████████████████████████████████████████████████████████████████████████████████████████████████████████████████████████████████| 30/30 [00:03<00:00,  9.43it/s]\n"
     ]
    }
   ],
   "source": [
    "## on test\n",
    "which_data = 'fashion_mnist'\n",
    "tie_method = 'average' #'average'\n",
    "\n",
    "tst_fm_loc_results = get_loc_result(\n",
    "    which_data, 'localiser', num_samples = 1, seed = None, on_test = True)\n",
    "\n",
    "tst_fm_loc_gl_results = get_loc_result(\n",
    "    which_data, 'gradient_loss', num_samples = 1, seed = None, on_test = True)"
   ]
  },
  {
   "cell_type": "code",
   "execution_count": 223,
   "id": "ce958b5a",
   "metadata": {},
   "outputs": [],
   "source": [
    "fm_gt_ranks_per_locmth = {'localiser':{}, 'gradient_loss':{}, 'random':{}}\n",
    "\n",
    "seeds = list(tst_fm_loc_results.keys()) # because, the fault injection wasn't always successful \n",
    "for seed in seeds:\n",
    "    gts, _ = get_gts(seed, which_data)\n",
    "    \n",
    "    fm_gt_ranks_per_locmth['localiser'][seed] = get_ranks_of_gts(\n",
    "        'localiser', tst_fm_loc_results[seed], gts, tie_method = tie_method)\n",
    "    \n",
    "    fm_gt_ranks_per_locmth['gradient_loss'][seed] = get_ranks_of_gts(\n",
    "        'gradient_loss', tst_fm_loc_gl_results[seed], gts, tie_method = tie_method)\n",
    "    \n",
    "    fm_gt_ranks_per_locmth['random'][seed] = get_ranks_of_gts(\n",
    "        'random', None, gts, tie_method = tie_method, ws = weights[which_data])"
   ]
  },
  {
   "cell_type": "code",
   "execution_count": 144,
   "id": "0653aed3",
   "metadata": {},
   "outputs": [
    {
     "name": "stderr",
     "output_type": "stream",
     "text": [
      "100%|███████████████████████████████████████████████████████████████████████████████████████████████████████████████████████████████████████████████████████████████████████████████████████████████████████████████████████████████████████████| 30/30 [00:16<00:00,  1.80it/s]\n",
      "100%|███████████████████████████████████████████████████████████████████████████████████████████████████████████████████████████████████████████████████████████████████████████████████████████████████████████████████████████████████████████| 30/30 [00:16<00:00,  1.79it/s]\n",
      "100%|███████████████████████████████████████████████████████████████████████████████████████████████████████████████████████████████████████████████████████████████████████████████████████████████████████████████████████████████████████████| 30/30 [00:16<00:00,  1.83it/s]\n"
     ]
    }
   ],
   "source": [
    "fm_outs_loc = compute_tpr_fpr(\n",
    "    fm_gt_ranks_per_locmth['localiser'], which_data, mdl_paths[which_data])\n",
    "fm_outs_gl = compute_tpr_fpr(\n",
    "    fm_gt_ranks_per_locmth['gradient_loss'], which_data, mdl_paths[which_data])\n",
    "fm_outs_rd = compute_tpr_fpr(\n",
    "    fm_gt_ranks_per_locmth['random'], which_data, mdl_paths[which_data])"
   ]
  },
  {
   "cell_type": "code",
   "execution_count": 145,
   "id": "9b60b7ce",
   "metadata": {},
   "outputs": [],
   "source": [
    "fm_tprs_fprs = {'localiser':{}, 'gradient_loss':{}, 'random':{}}\n",
    "\n",
    "fm_tprs_fprs['localiser']['tpr'], fm_tprs_fprs['localiser']['fpr'] = compute_tpr_fpr_to_plot(fm_outs_loc)\n",
    "fm_tprs_fprs['gradient_loss']['tpr'], fm_tprs_fprs['gradient_loss']['fpr'] = compute_tpr_fpr_to_plot(fm_outs_gl)\n",
    "fm_tprs_fprs['random']['tpr'], fm_tprs_fprs['random']['fpr'] = compute_tpr_fpr_to_plot(fm_outs_rd)"
   ]
  },
  {
   "cell_type": "code",
   "execution_count": 146,
   "id": "13394f85",
   "metadata": {},
   "outputs": [],
   "source": [
    "import pickle\n",
    "os.makedirs(\"../results/rq1/new_loc/on_test/simple_fm/tpr_fpr\", exist_ok = True)\n",
    "if tie_method == 'max':\n",
    "    dest_file = \"../results/rq1/new_loc/on_test/simple_fm/tpr_fpr/fm_tie_max.pkl\"\n",
    "else:\n",
    "    dest_file = \"../results/rq1/new_loc/on_test/simple_fm/tpr_fpr/fm.pkl\"\n",
    "    \n",
    "with open(dest_file, 'wb') as f:\n",
    "    pickle.dump(fm_tprs_fprs, f)"
   ]
  },
  {
   "cell_type": "code",
   "execution_count": 244,
   "id": "6922d6e9",
   "metadata": {},
   "outputs": [
    {
     "data": {
      "image/png": "[encoded data removed]",
      "text/plain": [
       "<Figure size 576x432 with 1 Axes>"
      ]
     },
     "metadata": {
      "needs_background": "light"
     },
     "output_type": "display_data"
    }
   ],
   "source": [
    "if tie_method == 'max':\n",
    "    file_name = \"/Users/jeongju.sohn/workdir/Journals/autopatch_nn_icse20/figures/rev/rq1/fm_tie_max.pdf\"\n",
    "else:\n",
    "    file_name = \"/Users/jeongju.sohn/workdir/Journals/autopatch_nn_icse20/figures/rev/rq1/fm.pdf\"\n",
    "plot(fm_tprs_fprs, \"ROC Curve per FL strategy (Fashion-MNIST)\", figsize = (8,6), file_name = file_name)"
   ]
  },
  {
   "cell_type": "code",
   "execution_count": 224,
   "id": "e5708158",
   "metadata": {},
   "outputs": [
    {
     "name": "stdout",
     "output_type": "stream",
     "text": [
      "localiser: 2.0~2386.5, 418.6666666666667(avg), 552.0(med)\n",
      "gradient_loss: 1.0~28842.0, 6058.233333333334(avg), 552.0(med)\n",
      "random: 4284~77434, 41876.8(avg), 552.0(med)\n"
     ]
    },
    {
     "data": {
      "image/png": "[encoded data removed]",
      "text/plain": [
       "<Figure size 360x360 with 1 Axes>"
      ]
     },
     "metadata": {
      "needs_background": "light"
     },
     "output_type": "display_data"
    }
   ],
   "source": [
    "loc_methods = ['localiser', 'gradient_loss', 'random']\n",
    "\n",
    "fm_ranks = get_ranks(fm_gt_ranks_per_locmth, loc_methods = loc_methods)\n",
    "for loc_mth in loc_methods:\n",
    "    rs = fm_ranks[loc_mth]\n",
    "    print (\"{}: {}~{}, {}(avg), {}(med)\".format(loc_mth, np.min(rs), np.max(rs), np.mean(rs), np.median(r)))\n",
    "\n",
    "\n",
    "fig = plt.figure(figsize = (5,5))\n",
    "ax = fig.add_subplot(111)\n",
    "ax.boxplot([fm_ranks['localiser'], fm_ranks['gradient_loss']])\n",
    "ax.violinplot([fm_ranks['localiser'], fm_ranks['gradient_loss']])\n",
    "plt.show()"
   ]
  },
  {
   "cell_type": "code",
   "execution_count": 169,
   "id": "724e4028",
   "metadata": {},
   "outputs": [],
   "source": [
    "with open(\"../results/rq1/new_loc/on_test/simple_fm/tpr_fpr/fm_tie_max.pkl\", 'rb') as f:\n",
    "    fm_ranks_max = pickle.load(f)\n",
    "    \n",
    "with open(\"../results/rq1/new_loc/on_test/simple_fm/tpr_fpr/fm.pkl\", 'rb') as f:\n",
    "    fm_ranks_avg = pickle.load(f)"
   ]
  },
  {
   "cell_type": "code",
   "execution_count": 172,
   "id": "6cd7f02f",
   "metadata": {
    "collapsed": true
   },
   "outputs": [
    {
     "data": {
      "image/png": "[encoded data removed]",
      "text/plain": [
       "<Figure size 576x432 with 1 Axes>"
      ]
     },
     "metadata": {
      "needs_background": "light"
     },
     "output_type": "display_data"
    }
   ],
   "source": [
    "plot(fm_ranks_max, \"ROC Curve per FL strategy (Fashion-MNIST)\", figsize = (8,6))"
   ]
  },
  {
   "cell_type": "code",
   "execution_count": 173,
   "id": "e53da241",
   "metadata": {
    "collapsed": true
   },
   "outputs": [
    {
     "data": {
      "image/png": "[encoded data removed]",
      "text/plain": [
       "<Figure size 576x432 with 1 Axes>"
      ]
     },
     "metadata": {
      "needs_background": "light"
     },
     "output_type": "display_data"
    }
   ],
   "source": [
    "plot(fm_ranks_avg, \"ROC Curve per FL strategy (Fashion-MNIST)\", figsize = (8,6))"
   ]
  },
  {
   "cell_type": "code",
   "execution_count": 137,
   "id": "288f2b7a",
   "metadata": {},
   "outputs": [
    {
     "name": "stdout",
     "output_type": "stream",
     "text": [
      "localiser 0.995 0.079\n",
      "gradient_loss 0.924 0.096\n",
      "random 0.521 0.0\n"
     ]
    }
   ],
   "source": [
    "for loc_mth in ['localiser', 'gradient_loss', 'random']:\n",
    "    auc_roc_score = compute_auc_roc_score(fm_tprs_fprs[loc_mth]['fpr'], fm_tprs_fprs[loc_mth]['tpr'])\n",
    "    rs = [list(vs.values())[0] for vs in fm_gt_ranks_per_locmth[loc_mth].values()]\n",
    "    mrr_score = compute_MRR(rs)\n",
    "    \n",
    "    print (loc_mth, np.round(auc_roc_score, decimals=3), np.round(mrr_score, decimals = 3))"
   ]
  },
  {
   "cell_type": "code",
   "execution_count": 152,
   "id": "d4bdfdb8",
   "metadata": {},
   "outputs": [
    {
     "name": "stdout",
     "output_type": "stream",
     "text": [
      "localiser 0.995 0.052\n",
      "gradient_loss 0.924 0.096\n",
      "random 0.473 0.0\n"
     ]
    }
   ],
   "source": [
    "# tie method = 'max'\n",
    "for loc_mth in ['localiser', 'gradient_loss', 'random']:\n",
    "    auc_roc_score = compute_auc_roc_score(fm_tprs_fprs[loc_mth]['fpr'], fm_tprs_fprs[loc_mth]['tpr'])\n",
    "    rs = [list(vs.values())[0] for vs in fm_gt_ranks_per_locmth[loc_mth].values()]\n",
    "    mrr_score = compute_MRR(rs)\n",
    "    \n",
    "    print (loc_mth, np.round(auc_roc_score, decimals=3), np.round(mrr_score, decimals = 3))"
   ]
  },
  {
   "cell_type": "markdown",
   "id": "9b481db4",
   "metadata": {},
   "source": [
    "### within layers with faulty neural weights"
   ]
  },
  {
   "cell_type": "code",
   "execution_count": 254,
   "id": "318230b2",
   "metadata": {},
   "outputs": [
    {
     "data": {
      "text/plain": [
       "{0: 3,\n",
       " 1: 3,\n",
       " 2: 3,\n",
       " 3: 3,\n",
       " 4: 3,\n",
       " 5: 3,\n",
       " 6: 3,\n",
       " 7: 3,\n",
       " 8: 3,\n",
       " 9: 3,\n",
       " 10: 3,\n",
       " 11: 3,\n",
       " 12: 3,\n",
       " 13: 3,\n",
       " 14: 1,\n",
       " 15: 3,\n",
       " 16: 3,\n",
       " 17: 1,\n",
       " 18: 3,\n",
       " 19: 3,\n",
       " 20: 1,\n",
       " 21: 1,\n",
       " 22: 1,\n",
       " 23: 3,\n",
       " 24: 1,\n",
       " 25: 1,\n",
       " 26: 3,\n",
       " 27: 1,\n",
       " 28: 1,\n",
       " 29: 1}"
      ]
     },
     "execution_count": 254,
     "metadata": {},
     "output_type": "execute_result"
    }
   ],
   "source": [
    "fm_uniq_layers, fm_player_ws = get_layers_with_fault('fashion_mnist', iter_indices = np.arange(30))\n",
    "fm_player_ws"
   ]
  },
  {
   "cell_type": "markdown",
   "id": "7e5e9a17",
   "metadata": {},
   "source": [
    "## CIFAR10"
   ]
  },
  {
   "cell_type": "code",
   "execution_count": 225,
   "id": "cf5b5bf9",
   "metadata": {},
   "outputs": [
    {
     "name": "stderr",
     "output_type": "stream",
     "text": [
      "100%|███████████████████████████████████████████████████████████████████████████████████████████████████████████████████████████████████████████████████████████████████████████████████████████████████████████████████████████████████████████| 30/30 [00:02<00:00, 14.03it/s]\n",
      "100%|███████████████████████████████████████████████████████████████████████████████████████████████████████████████████████████████████████████████████████████████████████████████████████████████████████████████████████████████████████████| 30/30 [00:03<00:00,  9.08it/s]\n",
      "100%|███████████████████████████████████████████████████████████████████████████████████████████████████████████████████████████████████████████████████████████████████████████████████████████████████████████████████████████████████████████| 30/30 [02:04<00:00,  4.15s/it]\n",
      "100%|███████████████████████████████████████████████████████████████████████████████████████████████████████████████████████████████████████████████████████████████████████████████████████████████████████████████████████████████████████████| 30/30 [02:02<00:00,  4.08s/it]\n",
      "100%|███████████████████████████████████████████████████████████████████████████████████████████████████████████████████████████████████████████████████████████████████████████████████████████████████████████████████████████████████████████| 30/30 [01:55<00:00,  3.85s/it]\n"
     ]
    }
   ],
   "source": [
    "## on test\n",
    "which_data = 'cifar10'\n",
    "tie_method = 'average' #'average'\n",
    "\n",
    "# get complete fault localisation results\n",
    "tst_c10_loc_results = get_loc_result(\n",
    "    which_data, 'localiser', num_samples = 1, seed = None, on_test = True)\n",
    "\n",
    "tst_c10_loc_gl_results = get_loc_result(\n",
    "    which_data, 'gradient_loss', num_samples = 1, seed = None, on_test = True)\n",
    "\n",
    "# get ranks of faulty neural weights\n",
    "c10_gt_ranks_per_locmth = {'localiser':{}, 'gradient_loss':{}, 'random':{}}\n",
    "\n",
    "seeds = list(tst_c10_loc_results.keys()) # because, the fault injection wasn't always successful \n",
    "for seed in seeds:\n",
    "    gts, _ = get_gts(seed, which_data)\n",
    "    \n",
    "    c10_gt_ranks_per_locmth['localiser'][seed] = get_ranks_of_gts(\n",
    "        'localiser', tst_c10_loc_results[seed], gts, tie_method = tie_method)\n",
    "    \n",
    "    c10_gt_ranks_per_locmth['gradient_loss'][seed] = get_ranks_of_gts(\n",
    "        'gradient_loss', tst_c10_loc_gl_results[seed], gts, tie_method = tie_method)\n",
    "    \n",
    "    c10_gt_ranks_per_locmth['random'][seed] = get_ranks_of_gts(\n",
    "        'random', None, gts, tie_method = tie_method, ws = weights[which_data])\n",
    "    \n",
    "# comput tpr and fpr\n",
    "c10_outs_loc = compute_tpr_fpr(\n",
    "    c10_gt_ranks_per_locmth['localiser'], which_data, mdl_paths[which_data])\n",
    "c10_outs_gl = compute_tpr_fpr(\n",
    "    c10_gt_ranks_per_locmth['gradient_loss'], which_data, mdl_paths[which_data])\n",
    "c10_outs_rd = compute_tpr_fpr(\n",
    "    c10_gt_ranks_per_locmth['random'], which_data, mdl_paths[which_data])"
   ]
  },
  {
   "cell_type": "code",
   "execution_count": 149,
   "id": "c0332b69",
   "metadata": {
    "scrolled": true
   },
   "outputs": [],
   "source": [
    "c10_tprs_fprs = {'localiser':{}, 'gradient_loss':{}, 'random':{}}\n",
    "\n",
    "c10_tprs_fprs['localiser']['tpr'], c10_tprs_fprs['localiser']['fpr'] = compute_tpr_fpr_to_plot(c10_outs_loc)\n",
    "c10_tprs_fprs['gradient_loss']['tpr'], c10_tprs_fprs['gradient_loss']['fpr'] = compute_tpr_fpr_to_plot(c10_outs_gl)\n",
    "c10_tprs_fprs['random']['tpr'], c10_tprs_fprs['random']['fpr'] = compute_tpr_fpr_to_plot(c10_outs_rd)"
   ]
  },
  {
   "cell_type": "code",
   "execution_count": 150,
   "id": "01a5cd57",
   "metadata": {},
   "outputs": [],
   "source": [
    "import pickle\n",
    "os.makedirs(\"../results/rq1/new_loc/on_test/simple_cm/tpr_fpr\", exist_ok = True)\n",
    "if tie_method == 'max':\n",
    "    dest_file = \"../results/rq1/new_loc/on_test/simple_cm/tpr_fpr/c10_tie_max.pkl\"\n",
    "else:\n",
    "    dest_file = \"../results/rq1/new_loc/on_test/simple_cm/tpr_fpr/c10.pkl\"\n",
    "    \n",
    "with open(dest_file, 'wb') as f:\n",
    "    pickle.dump(c10_tprs_fprs, f)"
   ]
  },
  {
   "cell_type": "code",
   "execution_count": 245,
   "id": "6d6bd65d",
   "metadata": {},
   "outputs": [
    {
     "data": {
      "image/png": "[encoded data removed]",
      "text/plain": [
       "<Figure size 576x432 with 1 Axes>"
      ]
     },
     "metadata": {
      "needs_background": "light"
     },
     "output_type": "display_data"
    }
   ],
   "source": [
    "if tie_method == 'max':\n",
    "    file_name = \"/Users/jeongju.sohn/workdir/Journals/autopatch_nn_icse20/figures/rev/rq1/c10_tie_max.pdf\"\n",
    "else:\n",
    "    file_name = \"/Users/jeongju.sohn/workdir/Journals/autopatch_nn_icse20/figures/rev/rq1/c10.pdf\"\n",
    "    \n",
    "plot(c10_tprs_fprs, \"ROC Curve per FL strategy (CIFAR-10)\", figsize = (8,6), file_name = file_name)"
   ]
  },
  {
   "cell_type": "code",
   "execution_count": 226,
   "id": "c78d8ce7",
   "metadata": {},
   "outputs": [
    {
     "name": "stdout",
     "output_type": "stream",
     "text": [
      "localiser: 3.0~25354.0, 2786.7166666666667(avg), 552.0(med)\n",
      "gradient_loss: 8.0~59043.0, 6352.133333333333(avg), 552.0(med)\n",
      "random: 52911~521391, 274998.8333333333(avg), 552.0(med)\n"
     ]
    },
    {
     "data": {
      "image/png": "[encoded data removed]",
      "text/plain": [
       "<Figure size 360x576 with 1 Axes>"
      ]
     },
     "metadata": {
      "needs_background": "light"
     },
     "output_type": "display_data"
    }
   ],
   "source": [
    "loc_methods = ['localiser', 'gradient_loss', 'random']\n",
    "\n",
    "c10_ranks = get_ranks(c10_gt_ranks_per_locmth, loc_methods = loc_methods)\n",
    "for loc_mth in loc_methods:\n",
    "    rs = c10_ranks[loc_mth]\n",
    "    print (\"{}: {}~{}, {}(avg), {}(med)\".format(loc_mth, np.min(rs), np.max(rs), np.mean(rs), np.median(r)))\n",
    "\n",
    "\n",
    "fig = plt.figure(figsize = (5,8))\n",
    "ax = fig.add_subplot(111)\n",
    "ax.boxplot([c10_ranks['localiser'], c10_ranks['gradient_loss']])\n",
    "ax.violinplot([c10_ranks['localiser'], c10_ranks['gradient_loss']])\n",
    "plt.show()"
   ]
  },
  {
   "cell_type": "code",
   "execution_count": 138,
   "id": "43b7e614",
   "metadata": {},
   "outputs": [
    {
     "name": "stdout",
     "output_type": "stream",
     "text": [
      "localiser 0.995 0.055\n",
      "gradient_loss 0.988 0.018\n",
      "random 0.481 0.0\n"
     ]
    }
   ],
   "source": [
    "for loc_mth in ['localiser', 'gradient_loss', 'random']:\n",
    "    auc_roc_score = compute_auc_roc_score(c10_tprs_fprs[loc_mth]['fpr'], c10_tprs_fprs[loc_mth]['tpr'])\n",
    "    rs = [list(vs.values())[0] for vs in c10_gt_ranks_per_locmth[loc_mth].values()]\n",
    "    mrr_score = compute_MRR(rs)\n",
    "    \n",
    "    print (loc_mth, np.round(auc_roc_score, decimals=3), np.round(mrr_score, decimals = 3))"
   ]
  },
  {
   "cell_type": "code",
   "execution_count": 153,
   "id": "5bdbf980",
   "metadata": {},
   "outputs": [
    {
     "name": "stdout",
     "output_type": "stream",
     "text": [
      "localiser 0.995 0.032\n",
      "gradient_loss 0.988 0.018\n",
      "random 0.481 0.0\n"
     ]
    }
   ],
   "source": [
    "# tie method = 'max'\n",
    "for loc_mth in ['localiser', 'gradient_loss', 'random']:\n",
    "    auc_roc_score = compute_auc_roc_score(c10_tprs_fprs[loc_mth]['fpr'], c10_tprs_fprs[loc_mth]['tpr'])\n",
    "    rs = [list(vs.values())[0] for vs in c10_gt_ranks_per_locmth[loc_mth].values()]\n",
    "    mrr_score = compute_MRR(rs)\n",
    "    \n",
    "    print (loc_mth, np.round(auc_roc_score, decimals=3), np.round(mrr_score, decimals = 3))"
   ]
  },
  {
   "cell_type": "code",
   "execution_count": 164,
   "id": "ac7243fc",
   "metadata": {},
   "outputs": [],
   "source": [
    "# per layer\n",
    "rs = {}\n",
    "for vs in c10_gt_ranks_per_locmth['localiser'].values():\n",
    "    w, r = list(vs.items())[0]\n",
    "    if w[0] not in rs.keys():\n",
    "        rs[w[0]] = []\n",
    "    rs[w[0]].append(r)"
   ]
  },
  {
   "cell_type": "code",
   "execution_count": 166,
   "id": "571110f9",
   "metadata": {},
   "outputs": [
    {
     "data": {
      "text/plain": [
       "(0.10515810817534955, 0.00597198423077015)"
      ]
     },
     "execution_count": 166,
     "metadata": {},
     "output_type": "execute_result"
    }
   ],
   "source": [
    "compute_MRR(rs[9]), compute_MRR(rs[2])"
   ]
  },
  {
   "cell_type": "markdown",
   "id": "9710a47f",
   "metadata": {},
   "source": [
    "### within layers with faulty neural weights"
   ]
  },
  {
   "cell_type": "code",
   "execution_count": 256,
   "id": "059535a4",
   "metadata": {
    "scrolled": true
   },
   "outputs": [
    {
     "data": {
      "text/plain": [
       "([2, 9],\n",
       " {0: 2,\n",
       "  1: 2,\n",
       "  2: 2,\n",
       "  3: 2,\n",
       "  4: 2,\n",
       "  5: 2,\n",
       "  6: 2,\n",
       "  7: 2,\n",
       "  8: 2,\n",
       "  9: 2,\n",
       "  10: 2,\n",
       "  11: 2,\n",
       "  12: 2,\n",
       "  13: 2,\n",
       "  14: 2,\n",
       "  15: 2,\n",
       "  16: 2,\n",
       "  17: 2,\n",
       "  18: 9,\n",
       "  19: 9,\n",
       "  20: 9,\n",
       "  21: 2,\n",
       "  22: 2,\n",
       "  23: 2,\n",
       "  24: 9,\n",
       "  25: 9,\n",
       "  26: 9,\n",
       "  27: 2,\n",
       "  28: 9,\n",
       "  29: 9})"
      ]
     },
     "execution_count": 256,
     "metadata": {},
     "output_type": "execute_result"
    }
   ],
   "source": [
    "c10_uniq_layers, c10_player_ws = get_layers_with_fault('cifar10', iter_indices = np.arange(30))\n",
    "c10_uniq_layers, c10_player_ws"
   ]
  },
  {
   "cell_type": "markdown",
   "id": "b7203e51",
   "metadata": {},
   "source": [
    "## GTSRB"
   ]
  },
  {
   "cell_type": "code",
   "execution_count": 227,
   "id": "9e26fdc0",
   "metadata": {},
   "outputs": [
    {
     "name": "stderr",
     "output_type": "stream",
     "text": [
      "100%|██████████████████████████████████████████████████████████████████████████████████████████████████████████████████████████████████████████████████████████████████████████████████████████████████████████████████████████████████████████| 30/30 [00:00<00:00, 116.68it/s]\n",
      "100%|██████████████████████████████████████████████████████████████████████████████████████████████████████████████████████████████████████████████████████████████████████████████████████████████████████████████████████████████████████████| 30/30 [00:00<00:00, 332.24it/s]\n",
      "100%|███████████████████████████████████████████████████████████████████████████████████████████████████████████████████████████████████████████████████████████████████████████████████████████████████████████████████████████████████████████| 30/30 [15:49<00:00, 31.65s/it]\n",
      "100%|███████████████████████████████████████████████████████████████████████████████████████████████████████████████████████████████████████████████████████████████████████████████████████████████████████████████████████████████████████████| 30/30 [15:19<00:00, 30.65s/it]\n",
      "100%|███████████████████████████████████████████████████████████████████████████████████████████████████████████████████████████████████████████████████████████████████████████████████████████████████████████████████████████████████████████| 30/30 [15:06<00:00, 30.21s/it]\n"
     ]
    }
   ],
   "source": [
    "## on test\n",
    "which_data = 'GTSRB'\n",
    "tie_method = 'average'\n",
    "\n",
    "# get complete fault localisation results\n",
    "tst_gtsrb_loc_results = get_loc_result(\n",
    "    which_data, 'localiser', num_samples = 1, seed = None, on_test = True)\n",
    "\n",
    "tst_gtsrb_loc_gl_results = get_loc_result(\n",
    "    which_data, 'gradient_loss', num_samples = 1, seed = None, on_test = True)\n",
    "\n",
    "# get ranks of faulty neural weights\n",
    "gtsrb_gt_ranks_per_locmth = {'localiser':{}, 'gradient_loss':{}, 'random':{}}\n",
    "\n",
    "seeds = list(tst_gtsrb_loc_results.keys()) # because, the fault injection wasn't always successful \n",
    "for seed in seeds:\n",
    "    gts, _ = get_gts(seed, which_data)\n",
    "    \n",
    "    gtsrb_gt_ranks_per_locmth['localiser'][seed] = get_ranks_of_gts(\n",
    "        'localiser', tst_gtsrb_loc_results[seed], gts, tie_method = tie_method)\n",
    "    \n",
    "    gtsrb_gt_ranks_per_locmth['gradient_loss'][seed] = get_ranks_of_gts(\n",
    "        'gradient_loss', tst_gtsrb_loc_gl_results[seed], gts, tie_method = tie_method)\n",
    "    \n",
    "    gtsrb_gt_ranks_per_locmth['random'][seed] = get_ranks_of_gts(\n",
    "        'random', None, gts, tie_method = tie_method, ws = weights[which_data])\n",
    "    \n",
    "# comput tpr and fpr\n",
    "gtsrb_outs_loc = compute_tpr_fpr(\n",
    "    gtsrb_gt_ranks_per_locmth['localiser'], which_data, mdl_paths[which_data])\n",
    "gtsrb_outs_gl = compute_tpr_fpr(\n",
    "    gtsrb_gt_ranks_per_locmth['gradient_loss'], which_data, mdl_paths[which_data])\n",
    "gtsrb_outs_rd = compute_tpr_fpr(\n",
    "    gtsrb_gt_ranks_per_locmth['random'], which_data, mdl_paths[which_data])"
   ]
  },
  {
   "cell_type": "code",
   "execution_count": 189,
   "id": "af71ee3d",
   "metadata": {},
   "outputs": [
    {
     "data": {
      "text/plain": [
       "dict_values([{(1, (1, 1, 0, 7)): 12}, {(1, (0, 0, 1, 9)): 117}, {(1, (2, 1, 1, 14)): 179}, {(1, (2, 2, 2, 14)): 663}, {(1, (1, 2, 0, 7)): 307}, {(1, (2, 0, 0, 14)): 653}, {(1, (0, 0, 2, 13)): 239}, {(1, (1, 0, 2, 9)): 90}, {(1, (2, 0, 0, 14)): 101}, {(1, (1, 0, 1, 10)): 104}, {(1, (2, 1, 1, 14)): 184}, {(1, (1, 0, 2, 10)): 402}, {(1, (2, 2, 2, 14)): 241}, {(1, (1, 2, 1, 7)): 368}, {(1, (2, 0, 0, 7)): 101}, {(1, (0, 0, 2, 10)): 200}, {(1, (0, 2, 1, 7)): 32}, {(1, (1, 1, 0, 7)): 113}, {(1, (2, 0, 0, 7)): 98}, {(1, (1, 2, 1, 7)): 363}, {(1, (1, 1, 0, 7)): 38}, {(1, (0, 0, 1, 9)): 73}, {(1, (2, 1, 1, 9)): 22}, {(1, (2, 0, 2, 14)): 374}, {(1, (1, 2, 2, 14)): 586}, {(1, (1, 0, 2, 10)): 185}, {(1, (1, 2, 0, 14)): 90}, {(1, (1, 2, 0, 9)): 126}, {(1, (0, 0, 0, 14)): 34}, {(1, (0, 2, 2, 9)): 93}])"
      ]
     },
     "execution_count": 189,
     "metadata": {},
     "output_type": "execute_result"
    }
   ],
   "source": [
    "gtsrb_gt_ranks_per_locmth['localiser'].values()"
   ]
  },
  {
   "cell_type": "code",
   "execution_count": 182,
   "id": "0d75972b",
   "metadata": {},
   "outputs": [],
   "source": [
    "gtsrb_tprs_fprs = {'localiser':{}, 'gradient_loss':{}, 'random':{}}\n",
    "\n",
    "gtsrb_tprs_fprs['localiser']['tpr'], gtsrb_tprs_fprs['localiser']['fpr'] = compute_tpr_fpr_to_plot(gtsrb_outs_loc)\n",
    "gtsrb_tprs_fprs['gradient_loss']['tpr'], gtsrb_tprs_fprs['gradient_loss']['fpr'] = compute_tpr_fpr_to_plot(gtsrb_outs_gl)\n",
    "gtsrb_tprs_fprs['random']['tpr'], gtsrb_tprs_fprs['random']['fpr'] = compute_tpr_fpr_to_plot(gtsrb_outs_rd)\n"
   ]
  },
  {
   "cell_type": "code",
   "execution_count": 183,
   "id": "7d77b420",
   "metadata": {},
   "outputs": [],
   "source": [
    "import pickle\n",
    "os.makedirs(\"../results/rq1/new_loc/on_test/gtsrb/tpr_fpr\", exist_ok = True)\n",
    "if tie_method == 'max':\n",
    "    dest_file = \"../results/rq1/new_loc/on_test/gtsrb/tpr_fpr/gtsrb_tie_max.pkl\"\n",
    "else:\n",
    "    dest_file = \"../results/rq1/new_loc/on_test/gtsrb/tpr_fpr/gtsrb.pkl\"\n",
    "with open(dest_file, 'wb') as f:\n",
    "    pickle.dump(gtsrb_tprs_fprs, f)"
   ]
  },
  {
   "cell_type": "code",
   "execution_count": 246,
   "id": "db6bbfe7",
   "metadata": {},
   "outputs": [
    {
     "data": {
      "image/png": "[encoded data removed]",
      "text/plain": [
       "<Figure size 576x432 with 1 Axes>"
      ]
     },
     "metadata": {
      "needs_background": "light"
     },
     "output_type": "display_data"
    }
   ],
   "source": [
    "if tie_method == 'max':\n",
    "    file_name = \"/Users/jeongju.sohn/workdir/Journals/autopatch_nn_icse20/figures/rev/rq1/gtsrb_tie_max.pdf\"\n",
    "else:\n",
    "    file_name = \"/Users/jeongju.sohn/workdir/Journals/autopatch_nn_icse20/figures/rev/rq1/gtsrb.pdf\"\n",
    "    \n",
    "plot(gtsrb_tprs_fprs, \"ROC Curve per FL strategy (GTSRB)\", figsize = (8,6), file_name = file_name)"
   ]
  },
  {
   "cell_type": "code",
   "execution_count": 228,
   "id": "35169234",
   "metadata": {},
   "outputs": [
    {
     "name": "stdout",
     "output_type": "stream",
     "text": [
      "localiser: 6.5~632.5, 188.26666666666668(avg), 552.0(med)\n",
      "gradient_loss: 2.0~193.0, 60.13333333333333(avg), 552.0(med)\n",
      "random: 35440~4014218, 2276256.8(avg), 552.0(med)\n"
     ]
    },
    {
     "data": {
      "image/png": "[encoded data removed]",
      "text/plain": [
       "<Figure size 360x360 with 1 Axes>"
      ]
     },
     "metadata": {
      "needs_background": "light"
     },
     "output_type": "display_data"
    }
   ],
   "source": [
    "loc_methods = ['localiser', 'gradient_loss', 'random']\n",
    "\n",
    "gtsrb_ranks = get_ranks(gtsrb_gt_ranks_per_locmth, loc_methods = loc_methods)\n",
    "for loc_mth in loc_methods:\n",
    "    rs = gtsrb_ranks[loc_mth]\n",
    "    print (\"{}: {}~{}, {}(avg), {}(med)\".format(loc_mth, np.min(rs), np.max(rs), np.mean(rs), np.median(r)))\n",
    "\n",
    "\n",
    "fig = plt.figure(figsize = (5,5))\n",
    "ax = fig.add_subplot(111)\n",
    "ax.boxplot([gtsrb_ranks['localiser'], gtsrb_ranks['gradient_loss']])\n",
    "ax.violinplot([gtsrb_ranks['localiser'], gtsrb_ranks['gradient_loss']])\n",
    "\n",
    "plt.savefig(\"/Users/jeongju.sohn/workdir/Journals/autopatch_nn_icse20/figures/rev/rq1/gtsrb_rank.pdf\")\n",
    "plt.show()"
   ]
  },
  {
   "cell_type": "code",
   "execution_count": 247,
   "id": "407496f2",
   "metadata": {},
   "outputs": [
    {
     "name": "stdout",
     "output_type": "stream",
     "text": [
      "localiser 0.99995288 0.01812904\n",
      "gradient_loss 0.99998642 0.05979532\n",
      "random 0.47744537 1.93e-06\n"
     ]
    }
   ],
   "source": [
    "for loc_mth in ['localiser', 'gradient_loss', 'random']:\n",
    "    auc_roc_score = compute_auc_roc_score(gtsrb_tprs_fprs[loc_mth]['fpr'], gtsrb_tprs_fprs[loc_mth]['tpr'])\n",
    "    rs = [list(vs.values())[0] for vs in gtsrb_gt_ranks_per_locmth[loc_mth].values()]\n",
    "    mrr_score = compute_MRR(rs)\n",
    "    \n",
    "    print (loc_mth, np.round(auc_roc_score, decimals=8), np.round(mrr_score, decimals = 8))"
   ]
  },
  {
   "cell_type": "code",
   "execution_count": 185,
   "id": "4307161e",
   "metadata": {},
   "outputs": [
    {
     "name": "stdout",
     "output_type": "stream",
     "text": [
      "localiser 0.99995288 0.01252636\n",
      "gradient_loss 0.99998642 0.05979532\n",
      "random 0.47744537 1.93e-06\n"
     ]
    }
   ],
   "source": [
    "for loc_mth in ['localiser', 'gradient_loss', 'random']:\n",
    "    auc_roc_score = compute_auc_roc_score(gtsrb_tprs_fprs[loc_mth]['fpr'], gtsrb_tprs_fprs[loc_mth]['tpr'])\n",
    "    rs = [list(vs.values())[0] for vs in gtsrb_gt_ranks_per_locmth[loc_mth].values()]\n",
    "    mrr_score = compute_MRR(rs)\n",
    "    \n",
    "    print (loc_mth, np.round(auc_roc_score, decimals=8), np.round(mrr_score, decimals = 8))"
   ]
  },
  {
   "cell_type": "markdown",
   "id": "e2c7b0c6",
   "metadata": {},
   "source": [
    "### within layers with faulty neural weights"
   ]
  },
  {
   "cell_type": "code",
   "execution_count": 257,
   "id": "b8ef96bd",
   "metadata": {
    "scrolled": true
   },
   "outputs": [
    {
     "data": {
      "text/plain": [
       "([1],\n",
       " {0: 1,\n",
       "  1: 1,\n",
       "  2: 1,\n",
       "  3: 1,\n",
       "  4: 1,\n",
       "  5: 1,\n",
       "  6: 1,\n",
       "  7: 1,\n",
       "  8: 1,\n",
       "  9: 1,\n",
       "  10: 1,\n",
       "  11: 1,\n",
       "  12: 1,\n",
       "  13: 1,\n",
       "  14: 1,\n",
       "  15: 1,\n",
       "  16: 1,\n",
       "  17: 1,\n",
       "  18: 1,\n",
       "  19: 1,\n",
       "  20: 1,\n",
       "  21: 1,\n",
       "  22: 1,\n",
       "  23: 1,\n",
       "  24: 1,\n",
       "  25: 1,\n",
       "  26: 1,\n",
       "  27: 1,\n",
       "  28: 1,\n",
       "  29: 1})"
      ]
     },
     "execution_count": 257,
     "metadata": {},
     "output_type": "execute_result"
    }
   ],
   "source": [
    "gtsrb_uniq_layers, gtsrb_player_ws = get_layers_with_fault('GTSRB', iter_indices = np.arange(30))\n",
    "gtsrb_uniq_layers, gtsrb_player_ws"
   ]
  },
  {
   "cell_type": "markdown",
   "id": "5ce69c4c",
   "metadata": {},
   "source": [
    "# Per layer"
   ]
  },
  {
   "cell_type": "code",
   "execution_count": 168,
   "id": "675ccf3f",
   "metadata": {},
   "outputs": [],
   "source": [
    "def compute_prec_per_layer(gt_ranks, ws, raw = False):\n",
    "    \"\"\"\n",
    "    \"\"\"\n",
    "    from functools import reduce\n",
    "    from sklearn.metrics import auc\n",
    "    \n",
    "    total_num_w = np.sum([reduce(np.multiply, w[0].shape) for l,w in ws.items()])\n",
    "    ranks_per_layer = {l:[] for l in ws.keys()}\n",
    "    for seed, vs in gt_ranks.items():\n",
    "        precs = {}\n",
    "        for ((l,idx_w), r) in vs.items():\n",
    "            if l not in precs.keys():\n",
    "                precs[l] = []\n",
    "            prec = r/total_num_w if not raw else r\n",
    "            precs[l].append(prec)\n",
    "        \n",
    "        for l in precs.keys():\n",
    "            ranks_per_layer[l].append(np.mean(precs[l]))\n",
    "    \n",
    "    return ranks_per_layer    "
   ]
  },
  {
   "cell_type": "code",
   "execution_count": null,
   "id": "3cc9144b",
   "metadata": {},
   "outputs": [],
   "source": [
    "c10_ranks_per_layer_mth = {}\n",
    "for loc_mth in ['localiser', 'gradient_loss', 'random']:\n",
    "    c10_ranks_per_layer = compute_prec_per_layer(c10_gt_ranks_per_locmth[loc_mth], weights['cifar10'], raw = raw)\n",
    "    c10_ranks_per_layer_mth[loc_mth] = c10_ranks_per_layer"
   ]
  }
 ],
 "metadata": {
  "kernelspec": {
   "display_name": "Python 3 (ipykernel)",
   "language": "python",
   "name": "python3"
  },
  "language_info": {
   "codemirror_mode": {
    "name": "ipython",
    "version": 3
   },
   "file_extension": ".py",
   "mimetype": "text/x-python",
   "name": "python",
   "nbconvert_exporter": "python",
   "pygments_lexer": "ipython3",
   "version": "3.9.9"
  }
 },
 "nbformat": 4,
 "nbformat_minor": 5
}
